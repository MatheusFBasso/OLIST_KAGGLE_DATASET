{
 "cells": [
  {
   "cell_type": "markdown",
   "metadata": {
    "application/vnd.databricks.v1+cell": {
     "cellMetadata": {},
     "inputWidgets": {},
     "nuid": "23c4b4ec-210f-46a4-81aa-fc49a3c6dc5d",
     "showTitle": false,
     "title": ""
    }
   },
   "source": [
    "\n",
    "# 1. Bibliotecas"
   ]
  },
  {
   "cell_type": "code",
   "execution_count": 0,
   "metadata": {
    "application/vnd.databricks.v1+cell": {
     "cellMetadata": {
      "byteLimit": 2048000,
      "rowLimit": 10000
     },
     "inputWidgets": {},
     "nuid": "2c7ee10c-b824-4f83-9f3c-9461e9b92086",
     "showTitle": false,
     "title": ""
    }
   },
   "outputs": [],
   "source": [
    "from pyspark.ml.fpm import FPGrowth\n",
    "from datetime import datetime\n",
    "from pyspark.sql.types import DateType, StringType\n",
    "from pyspark.sql.functions import size, col, collect_list, collect_set, concat_ws, lit"
   ]
  },
  {
   "cell_type": "markdown",
   "metadata": {
    "application/vnd.databricks.v1+cell": {
     "cellMetadata": {},
     "inputWidgets": {},
     "nuid": "1cbadb5d-88ed-49dd-b65a-764fa7bb399a",
     "showTitle": false,
     "title": ""
    }
   },
   "source": [
    "---\n",
    "# 2. Importando Dados"
   ]
  },
  {
   "cell_type": "code",
   "execution_count": 0,
   "metadata": {
    "application/vnd.databricks.v1+cell": {
     "cellMetadata": {
      "byteLimit": 2048000,
      "rowLimit": 10000
     },
     "inputWidgets": {},
     "nuid": "7e4bdd99-43bc-4e6d-adc9-032e54afaa07",
     "showTitle": false,
     "title": ""
    }
   },
   "outputs": [],
   "source": [
    "df_order_items = spark.table('datum.silver.olist_order_items')\n",
    "df_products = spark.table('datum.silver.olist_products')\n",
    "df_products = df_products.dropna(subset=['product_category_name'])"
   ]
  },
  {
   "cell_type": "markdown",
   "metadata": {
    "application/vnd.databricks.v1+cell": {
     "cellMetadata": {},
     "inputWidgets": {},
     "nuid": "2c76514a-d706-4dff-aa03-f59c0a7ceb73",
     "showTitle": false,
     "title": ""
    }
   },
   "source": [
    "---\n",
    "# 3. Aplicando modelo de ML\n",
    "\n",
    "Foi usado o seguinte artigo como base para aplicação de um modelo já existente dentro do PySpark chamado de FPGrowth\n",
    "\n",
    "<a href=\"https://www.databricks.com/blog/2018/09/18/simplify-market-basket-analysis-using-fp-growth-on-databricks.html\">Marker Basket</a>"
   ]
  },
  {
   "cell_type": "code",
   "execution_count": 0,
   "metadata": {
    "application/vnd.databricks.v1+cell": {
     "cellMetadata": {
      "byteLimit": 2048000,
      "rowLimit": 10000
     },
     "inputWidgets": {},
     "nuid": "c3c8f892-f5cc-490e-b2bb-14b7d2f8129a",
     "showTitle": false,
     "title": ""
    }
   },
   "outputs": [],
   "source": [
    "df_join = df_order_items.join(df_products, df_order_items.product_id == df_products.product_id, 'left').drop(df_products.product_id)"
   ]
  },
  {
   "cell_type": "code",
   "execution_count": 0,
   "metadata": {
    "application/vnd.databricks.v1+cell": {
     "cellMetadata": {
      "byteLimit": 2048000,
      "rowLimit": 10000
     },
     "inputWidgets": {},
     "nuid": "30f13563-0943-4cc0-af68-66271e5e5759",
     "showTitle": false,
     "title": ""
    }
   },
   "outputs": [],
   "source": [
    "df_grouped = df_join.groupBy('order_id').agg(collect_set('product_category_name').alias('products'))"
   ]
  },
  {
   "cell_type": "code",
   "execution_count": 0,
   "metadata": {
    "application/vnd.databricks.v1+cell": {
     "cellMetadata": {
      "byteLimit": 2048000,
      "rowLimit": 10000
     },
     "inputWidgets": {},
     "nuid": "a5a2b992-b9ad-424a-a280-64ca05563acc",
     "showTitle": false,
     "title": ""
    }
   },
   "outputs": [],
   "source": [
    "fpGrowth = FPGrowth(itemsCol='products', minSupport=0.0001, minConfidence=0.001)\n",
    "model = fpGrowth.fit(df_grouped)"
   ]
  },
  {
   "cell_type": "code",
   "execution_count": 0,
   "metadata": {
    "application/vnd.databricks.v1+cell": {
     "cellMetadata": {
      "byteLimit": 2048000,
      "rowLimit": 10000
     },
     "inputWidgets": {},
     "nuid": "e08b7ae1-ea96-4d56-abcd-5f51a8ffadae",
     "showTitle": false,
     "title": ""
    }
   },
   "outputs": [],
   "source": [
    "frequent_itemsets = model.freqItemsets\n",
    "df_most_common_product_pair = frequent_itemsets.filter(size(frequent_itemsets['items']) == 2)"
   ]
  },
  {
   "cell_type": "code",
   "execution_count": 0,
   "metadata": {
    "application/vnd.databricks.v1+cell": {
     "cellMetadata": {
      "byteLimit": 2048000,
      "rowLimit": 10000
     },
     "inputWidgets": {},
     "nuid": "c41792a7-9363-435d-ad3b-79f7e591fb42",
     "showTitle": false,
     "title": ""
    }
   },
   "outputs": [],
   "source": [
    "association_rules = model.associationRules"
   ]
  },
  {
   "cell_type": "code",
   "execution_count": 0,
   "metadata": {
    "application/vnd.databricks.v1+cell": {
     "cellMetadata": {
      "byteLimit": 2048000,
      "rowLimit": 10000
     },
     "inputWidgets": {},
     "nuid": "7519258e-7759-4149-b39a-0c63af42db07",
     "showTitle": false,
     "title": ""
    }
   },
   "outputs": [
    {
     "output_type": "display_data",
     "data": {
      "text/html": [
       "<style scoped>\n",
       "  .table-result-container {\n",
       "    max-height: 300px;\n",
       "    overflow: auto;\n",
       "  }\n",
       "  table, th, td {\n",
       "    border: 1px solid black;\n",
       "    border-collapse: collapse;\n",
       "  }\n",
       "  th, td {\n",
       "    padding: 5px;\n",
       "  }\n",
       "  th {\n",
       "    text-align: left;\n",
       "  }\n",
       "</style><div class='table-result-container'><table class='table-result'><thead style='background-color: white'><tr><th>antecedent</th><th>consequent</th><th>confidence</th><th>lift</th><th>support</th></tr></thead><tbody><tr><td>List(moveis_decoracao)</td><td>List(cama_mesa_banho)</td><td>0.010854396030392309</td><td>0.11372622265420916</td><td>7.094642531368455E-4</td></tr><tr><td>List(moveis_decoracao)</td><td>List(construcao_ferramentas_iluminacao)</td><td>0.0017056908047759342</td><td>0.6897282333771407</td><td>1.1148723977864716E-4</td></tr><tr><td>List(moveis_decoracao)</td><td>List(utilidades_domesticas)</td><td>0.00372150721042022</td><td>0.062404185999884676</td><td>2.432448867897756E-4</td></tr><tr><td>List(moveis_decoracao)</td><td>List(bebes)</td><td>0.00186075360521011</td><td>0.06363712832293265</td><td>1.216224433948878E-4</td></tr><tr><td>List(moveis_decoracao)</td><td>List(casa_construcao)</td><td>0.002015816405644286</td><td>0.4059031458761207</td><td>1.3175764701112846E-4</td></tr><tr><td>List(moveis_decoracao)</td><td>List(ferramentas_jardim)</td><td>0.0026360676073809894</td><td>0.0739312809976841</td><td>1.7229846147609105E-4</td></tr><tr><td>List(cool_stuff)</td><td>List(bebes)</td><td>0.005506607929515419</td><td>0.18832408248650548</td><td>2.02704072324813E-4</td></tr><tr><td>List(cool_stuff)</td><td>List(cama_mesa_banho)</td><td>0.0027533039647577094</td><td>0.028847561748623147</td><td>1.013520361624065E-4</td></tr><tr><td>List(esporte_lazer)</td><td>List(utilidades_domesticas)</td><td>0.0014248704663212435</td><td>0.023892975769893236</td><td>1.1148723977864716E-4</td></tr><tr><td>List(esporte_lazer)</td><td>List(beleza_saude)</td><td>0.0018134715025906736</td><td>0.020249884481056066</td><td>1.418928506273691E-4</td></tr><tr><td>List(casa_construcao)</td><td>List(moveis_decoracao)</td><td>0.026530612244897958</td><td>0.40590314587612064</td><td>1.3175764701112846E-4</td></tr><tr><td>List(perfumaria)</td><td>List(beleza_saude)</td><td>0.003795066413662239</td><td>0.04237709628456298</td><td>1.216224433948878E-4</td></tr><tr><td>List(construcao_ferramentas_iluminacao)</td><td>List(moveis_decoracao)</td><td>0.045081967213114756</td><td>0.6897282333771407</td><td>1.1148723977864716E-4</td></tr><tr><td>List(ferramentas_jardim)</td><td>List(utilidades_domesticas)</td><td>0.0031267765776009098</td><td>0.05243143062637175</td><td>1.1148723977864716E-4</td></tr><tr><td>List(ferramentas_jardim)</td><td>List(moveis_decoracao)</td><td>0.004832291074474133</td><td>0.07393128099768412</td><td>1.7229846147609105E-4</td></tr><tr><td>List(beleza_saude)</td><td>List(perfumaria)</td><td>0.001358080579447714</td><td>0.04237709628456299</td><td>1.216224433948878E-4</td></tr><tr><td>List(beleza_saude)</td><td>List(cama_mesa_banho)</td><td>0.001244907197827071</td><td>0.013043433533057853</td><td>1.1148723977864716E-4</td></tr><tr><td>List(beleza_saude)</td><td>List(esporte_lazer)</td><td>0.0015844273426889996</td><td>0.02024988448105607</td><td>1.418928506273691E-4</td></tr><tr><td>List(cama_mesa_banho)</td><td>List(moveis_decoracao)</td><td>0.007433365190612722</td><td>0.11372622265420916</td><td>7.094642531368455E-4</td></tr><tr><td>List(cama_mesa_banho)</td><td>List(casa_conforto)</td><td>0.0045662100456621</td><td>1.1348354669151053</td><td>4.35813755498348E-4</td></tr><tr><td>List(cama_mesa_banho)</td><td>List(utilidades_domesticas)</td><td>0.002123818625889349</td><td>0.03561330532664828</td><td>2.02704072324813E-4</td></tr><tr><td>List(cama_mesa_banho)</td><td>List(bebes)</td><td>0.0018052458320059466</td><td>0.06173878171947963</td><td>1.7229846147609105E-4</td></tr><tr><td>List(cama_mesa_banho)</td><td>List(beleza_saude)</td><td>0.001168100244239142</td><td>0.013043433533057851</td><td>1.1148723977864716E-4</td></tr><tr><td>List(cama_mesa_banho)</td><td>List(cool_stuff)</td><td>0.0010619093129446745</td><td>0.028847561748623143</td><td>1.013520361624065E-4</td></tr><tr><td>List(bebes)</td><td>List(moveis_decoracao)</td><td>0.004159445407279029</td><td>0.06363712832293267</td><td>1.216224433948878E-4</td></tr><tr><td>List(bebes)</td><td>List(cool_stuff)</td><td>0.006932409012131715</td><td>0.18832408248650545</td><td>2.02704072324813E-4</td></tr><tr><td>List(bebes)</td><td>List(brinquedos)</td><td>0.00658578856152513</td><td>0.1672139511609466</td><td>1.9256886870857237E-4</td></tr><tr><td>List(bebes)</td><td>List(cama_mesa_banho)</td><td>0.0058925476603119585</td><td>0.061738781719479635</td><td>1.7229846147609105E-4</td></tr><tr><td>List(casa_conforto)</td><td>List(cama_mesa_banho)</td><td>0.10831234256926953</td><td>1.1348354669151055</td><td>4.35813755498348E-4</td></tr><tr><td>List(utilidades_domesticas)</td><td>List(esporte_lazer)</td><td>0.0018694765465669613</td><td>0.02389297576989324</td><td>1.1148723977864716E-4</td></tr><tr><td>List(utilidades_domesticas)</td><td>List(moveis_decoracao)</td><td>0.004078857919782461</td><td>0.06240418599988468</td><td>2.432448867897756E-4</td></tr><tr><td>List(utilidades_domesticas)</td><td>List(cama_mesa_banho)</td><td>0.003399048266485384</td><td>0.03561330532664829</td><td>2.02704072324813E-4</td></tr><tr><td>List(utilidades_domesticas)</td><td>List(ferramentas_jardim)</td><td>0.0018694765465669613</td><td>0.05243143062637174</td><td>1.1148723977864716E-4</td></tr><tr><td>List(brinquedos)</td><td>List(bebes)</td><td>0.004889346371590325</td><td>0.1672139511609466</td><td>1.9256886870857237E-4</td></tr></tbody></table></div>"
      ]
     },
     "metadata": {
      "application/vnd.databricks.v1+output": {
       "addedWidgets": {},
       "aggData": [],
       "aggError": "",
       "aggOverflow": false,
       "aggSchema": [],
       "aggSeriesLimitReached": false,
       "aggType": "",
       "arguments": {},
       "columnCustomDisplayInfos": {},
       "data": [
        [
         [
          "moveis_decoracao"
         ],
         [
          "cama_mesa_banho"
         ],
         0.010854396030392309,
         0.11372622265420916,
         7.094642531368455E-4
        ],
        [
         [
          "moveis_decoracao"
         ],
         [
          "construcao_ferramentas_iluminacao"
         ],
         0.0017056908047759342,
         0.6897282333771407,
         1.1148723977864716E-4
        ],
        [
         [
          "moveis_decoracao"
         ],
         [
          "utilidades_domesticas"
         ],
         0.00372150721042022,
         0.062404185999884676,
         2.432448867897756E-4
        ],
        [
         [
          "moveis_decoracao"
         ],
         [
          "bebes"
         ],
         0.00186075360521011,
         0.06363712832293265,
         1.216224433948878E-4
        ],
        [
         [
          "moveis_decoracao"
         ],
         [
          "casa_construcao"
         ],
         0.002015816405644286,
         0.4059031458761207,
         1.3175764701112846E-4
        ],
        [
         [
          "moveis_decoracao"
         ],
         [
          "ferramentas_jardim"
         ],
         0.0026360676073809894,
         0.0739312809976841,
         1.7229846147609105E-4
        ],
        [
         [
          "cool_stuff"
         ],
         [
          "bebes"
         ],
         0.005506607929515419,
         0.18832408248650548,
         2.02704072324813E-4
        ],
        [
         [
          "cool_stuff"
         ],
         [
          "cama_mesa_banho"
         ],
         0.0027533039647577094,
         0.028847561748623147,
         1.013520361624065E-4
        ],
        [
         [
          "esporte_lazer"
         ],
         [
          "utilidades_domesticas"
         ],
         0.0014248704663212435,
         0.023892975769893236,
         1.1148723977864716E-4
        ],
        [
         [
          "esporte_lazer"
         ],
         [
          "beleza_saude"
         ],
         0.0018134715025906736,
         0.020249884481056066,
         1.418928506273691E-4
        ],
        [
         [
          "casa_construcao"
         ],
         [
          "moveis_decoracao"
         ],
         0.026530612244897958,
         0.40590314587612064,
         1.3175764701112846E-4
        ],
        [
         [
          "perfumaria"
         ],
         [
          "beleza_saude"
         ],
         0.003795066413662239,
         0.04237709628456298,
         1.216224433948878E-4
        ],
        [
         [
          "construcao_ferramentas_iluminacao"
         ],
         [
          "moveis_decoracao"
         ],
         0.045081967213114756,
         0.6897282333771407,
         1.1148723977864716E-4
        ],
        [
         [
          "ferramentas_jardim"
         ],
         [
          "utilidades_domesticas"
         ],
         0.0031267765776009098,
         0.05243143062637175,
         1.1148723977864716E-4
        ],
        [
         [
          "ferramentas_jardim"
         ],
         [
          "moveis_decoracao"
         ],
         0.004832291074474133,
         0.07393128099768412,
         1.7229846147609105E-4
        ],
        [
         [
          "beleza_saude"
         ],
         [
          "perfumaria"
         ],
         0.001358080579447714,
         0.04237709628456299,
         1.216224433948878E-4
        ],
        [
         [
          "beleza_saude"
         ],
         [
          "cama_mesa_banho"
         ],
         0.001244907197827071,
         0.013043433533057853,
         1.1148723977864716E-4
        ],
        [
         [
          "beleza_saude"
         ],
         [
          "esporte_lazer"
         ],
         0.0015844273426889996,
         0.02024988448105607,
         1.418928506273691E-4
        ],
        [
         [
          "cama_mesa_banho"
         ],
         [
          "moveis_decoracao"
         ],
         0.007433365190612722,
         0.11372622265420916,
         7.094642531368455E-4
        ],
        [
         [
          "cama_mesa_banho"
         ],
         [
          "casa_conforto"
         ],
         0.0045662100456621,
         1.1348354669151053,
         4.35813755498348E-4
        ],
        [
         [
          "cama_mesa_banho"
         ],
         [
          "utilidades_domesticas"
         ],
         0.002123818625889349,
         0.03561330532664828,
         2.02704072324813E-4
        ],
        [
         [
          "cama_mesa_banho"
         ],
         [
          "bebes"
         ],
         0.0018052458320059466,
         0.06173878171947963,
         1.7229846147609105E-4
        ],
        [
         [
          "cama_mesa_banho"
         ],
         [
          "beleza_saude"
         ],
         0.001168100244239142,
         0.013043433533057851,
         1.1148723977864716E-4
        ],
        [
         [
          "cama_mesa_banho"
         ],
         [
          "cool_stuff"
         ],
         0.0010619093129446745,
         0.028847561748623143,
         1.013520361624065E-4
        ],
        [
         [
          "bebes"
         ],
         [
          "moveis_decoracao"
         ],
         0.004159445407279029,
         0.06363712832293267,
         1.216224433948878E-4
        ],
        [
         [
          "bebes"
         ],
         [
          "cool_stuff"
         ],
         0.006932409012131715,
         0.18832408248650545,
         2.02704072324813E-4
        ],
        [
         [
          "bebes"
         ],
         [
          "brinquedos"
         ],
         0.00658578856152513,
         0.1672139511609466,
         1.9256886870857237E-4
        ],
        [
         [
          "bebes"
         ],
         [
          "cama_mesa_banho"
         ],
         0.0058925476603119585,
         0.061738781719479635,
         1.7229846147609105E-4
        ],
        [
         [
          "casa_conforto"
         ],
         [
          "cama_mesa_banho"
         ],
         0.10831234256926953,
         1.1348354669151055,
         4.35813755498348E-4
        ],
        [
         [
          "utilidades_domesticas"
         ],
         [
          "esporte_lazer"
         ],
         0.0018694765465669613,
         0.02389297576989324,
         1.1148723977864716E-4
        ],
        [
         [
          "utilidades_domesticas"
         ],
         [
          "moveis_decoracao"
         ],
         0.004078857919782461,
         0.06240418599988468,
         2.432448867897756E-4
        ],
        [
         [
          "utilidades_domesticas"
         ],
         [
          "cama_mesa_banho"
         ],
         0.003399048266485384,
         0.03561330532664829,
         2.02704072324813E-4
        ],
        [
         [
          "utilidades_domesticas"
         ],
         [
          "ferramentas_jardim"
         ],
         0.0018694765465669613,
         0.05243143062637174,
         1.1148723977864716E-4
        ],
        [
         [
          "brinquedos"
         ],
         [
          "bebes"
         ],
         0.004889346371590325,
         0.1672139511609466,
         1.9256886870857237E-4
        ]
       ],
       "datasetInfos": [],
       "dbfsResultPath": null,
       "isJsonSchema": true,
       "metadata": {},
       "overflow": false,
       "plotOptions": {
        "customPlotOptions": {},
        "displayType": "table",
        "pivotAggregation": null,
        "pivotColumns": null,
        "xColumns": null,
        "yColumns": null
       },
       "removedWidgets": [],
       "schema": [
        {
         "metadata": "{}",
         "name": "antecedent",
         "type": "{\"type\":\"array\",\"elementType\":\"string\",\"containsNull\":false}"
        },
        {
         "metadata": "{}",
         "name": "consequent",
         "type": "{\"type\":\"array\",\"elementType\":\"string\",\"containsNull\":false}"
        },
        {
         "metadata": "{}",
         "name": "confidence",
         "type": "\"double\""
        },
        {
         "metadata": "{}",
         "name": "lift",
         "type": "\"double\""
        },
        {
         "metadata": "{}",
         "name": "support",
         "type": "\"double\""
        }
       ],
       "type": "table"
      }
     },
     "output_type": "display_data"
    }
   ],
   "source": [
    "association_rules.display()"
   ]
  },
  {
   "cell_type": "markdown",
   "metadata": {
    "application/vnd.databricks.v1+cell": {
     "cellMetadata": {},
     "inputWidgets": {},
     "nuid": "3e82e5d2-c305-40bf-8962-ba2e7c26088c",
     "showTitle": false,
     "title": ""
    }
   },
   "source": [
    "\n",
    "Conforme vemos no artigo o modelo procura prever qual a próxima categoria de produto que será comprada"
   ]
  },
  {
   "cell_type": "code",
   "execution_count": 0,
   "metadata": {
    "application/vnd.databricks.v1+cell": {
     "cellMetadata": {
      "byteLimit": 2048000,
      "rowLimit": 10000
     },
     "inputWidgets": {},
     "nuid": "63b7128d-5a5a-4901-a238-9e81e44d2043",
     "showTitle": false,
     "title": ""
    }
   },
   "outputs": [],
   "source": [
    "df_most_common_product_pair = df_most_common_product_pair.withColumn(\n",
    "    'categoria_produtos', concat_ws(', ', 'items')).select('categoria_produtos', 'freq')"
   ]
  },
  {
   "cell_type": "code",
   "execution_count": 0,
   "metadata": {
    "application/vnd.databricks.v1+cell": {
     "cellMetadata": {
      "byteLimit": 2048000,
      "rowLimit": 10000
     },
     "inputWidgets": {},
     "nuid": "f891a788-92e1-4e43-908f-a0e67b115ed0",
     "showTitle": false,
     "title": ""
    }
   },
   "outputs": [],
   "source": [
    "df_most_common_product_pair = df_most_common_product_pair.withColumn('date_ref_carga', lit(datetime.now()).cast(DateType())).withColumn('freq', col('freq').cast(StringType()))"
   ]
  },
  {
   "cell_type": "code",
   "execution_count": 0,
   "metadata": {
    "application/vnd.databricks.v1+cell": {
     "cellMetadata": {
      "byteLimit": 2048000,
      "rowLimit": 10000
     },
     "inputWidgets": {},
     "nuid": "014502b2-53d9-4f37-ac9b-be300285e4e2",
     "showTitle": false,
     "title": ""
    }
   },
   "outputs": [
    {
     "output_type": "display_data",
     "data": {
      "text/html": [
       "<style scoped>\n",
       "  .table-result-container {\n",
       "    max-height: 300px;\n",
       "    overflow: auto;\n",
       "  }\n",
       "  table, th, td {\n",
       "    border: 1px solid black;\n",
       "    border-collapse: collapse;\n",
       "  }\n",
       "  th, td {\n",
       "    padding: 5px;\n",
       "  }\n",
       "  th {\n",
       "    text-align: left;\n",
       "  }\n",
       "</style><div class='table-result-container'><table class='table-result'><thead style='background-color: white'><tr><th>categoria_produtos</th><th>freq</th><th>date_ref_carga</th></tr></thead><tbody><tr><td>moveis_decoracao, cama_mesa_banho</td><td>70</td><td>2024-04-14</td></tr><tr><td>casa_conforto, cama_mesa_banho</td><td>43</td><td>2024-04-14</td></tr><tr><td>utilidades_domesticas, moveis_decoracao</td><td>24</td><td>2024-04-14</td></tr><tr><td>utilidades_domesticas, cama_mesa_banho</td><td>20</td><td>2024-04-14</td></tr><tr><td>bebes, cool_stuff</td><td>20</td><td>2024-04-14</td></tr><tr><td>bebes, brinquedos</td><td>19</td><td>2024-04-14</td></tr><tr><td>ferramentas_jardim, moveis_decoracao</td><td>17</td><td>2024-04-14</td></tr><tr><td>bebes, cama_mesa_banho</td><td>17</td><td>2024-04-14</td></tr><tr><td>esporte_lazer, beleza_saude</td><td>14</td><td>2024-04-14</td></tr><tr><td>casa_construcao, moveis_decoracao</td><td>13</td><td>2024-04-14</td></tr><tr><td>bebes, moveis_decoracao</td><td>12</td><td>2024-04-14</td></tr><tr><td>perfumaria, beleza_saude</td><td>12</td><td>2024-04-14</td></tr><tr><td>ferramentas_jardim, utilidades_domesticas</td><td>11</td><td>2024-04-14</td></tr><tr><td>utilidades_domesticas, esporte_lazer</td><td>11</td><td>2024-04-14</td></tr><tr><td>construcao_ferramentas_iluminacao, moveis_decoracao</td><td>11</td><td>2024-04-14</td></tr><tr><td>beleza_saude, cama_mesa_banho</td><td>11</td><td>2024-04-14</td></tr><tr><td>cool_stuff, cama_mesa_banho</td><td>10</td><td>2024-04-14</td></tr></tbody></table></div>"
      ]
     },
     "metadata": {
      "application/vnd.databricks.v1+output": {
       "addedWidgets": {},
       "aggData": [],
       "aggError": "",
       "aggOverflow": false,
       "aggSchema": [],
       "aggSeriesLimitReached": false,
       "aggType": "",
       "arguments": {},
       "columnCustomDisplayInfos": {},
       "data": [
        [
         "moveis_decoracao, cama_mesa_banho",
         "70",
         "2024-04-14"
        ],
        [
         "casa_conforto, cama_mesa_banho",
         "43",
         "2024-04-14"
        ],
        [
         "utilidades_domesticas, moveis_decoracao",
         "24",
         "2024-04-14"
        ],
        [
         "utilidades_domesticas, cama_mesa_banho",
         "20",
         "2024-04-14"
        ],
        [
         "bebes, cool_stuff",
         "20",
         "2024-04-14"
        ],
        [
         "bebes, brinquedos",
         "19",
         "2024-04-14"
        ],
        [
         "ferramentas_jardim, moveis_decoracao",
         "17",
         "2024-04-14"
        ],
        [
         "bebes, cama_mesa_banho",
         "17",
         "2024-04-14"
        ],
        [
         "esporte_lazer, beleza_saude",
         "14",
         "2024-04-14"
        ],
        [
         "casa_construcao, moveis_decoracao",
         "13",
         "2024-04-14"
        ],
        [
         "bebes, moveis_decoracao",
         "12",
         "2024-04-14"
        ],
        [
         "perfumaria, beleza_saude",
         "12",
         "2024-04-14"
        ],
        [
         "ferramentas_jardim, utilidades_domesticas",
         "11",
         "2024-04-14"
        ],
        [
         "utilidades_domesticas, esporte_lazer",
         "11",
         "2024-04-14"
        ],
        [
         "construcao_ferramentas_iluminacao, moveis_decoracao",
         "11",
         "2024-04-14"
        ],
        [
         "beleza_saude, cama_mesa_banho",
         "11",
         "2024-04-14"
        ],
        [
         "cool_stuff, cama_mesa_banho",
         "10",
         "2024-04-14"
        ]
       ],
       "datasetInfos": [],
       "dbfsResultPath": null,
       "isJsonSchema": true,
       "metadata": {},
       "overflow": false,
       "plotOptions": {
        "customPlotOptions": {},
        "displayType": "table",
        "pivotAggregation": null,
        "pivotColumns": null,
        "xColumns": null,
        "yColumns": null
       },
       "removedWidgets": [],
       "schema": [
        {
         "metadata": "{}",
         "name": "categoria_produtos",
         "type": "\"string\""
        },
        {
         "metadata": "{}",
         "name": "freq",
         "type": "\"string\""
        },
        {
         "metadata": "{}",
         "name": "date_ref_carga",
         "type": "\"date\""
        }
       ],
       "type": "table"
      }
     },
     "output_type": "display_data"
    }
   ],
   "source": [
    "df_most_common_product_pair.orderBy('freq', ascending=False).display()"
   ]
  },
  {
   "cell_type": "markdown",
   "metadata": {
    "application/vnd.databricks.v1+cell": {
     "cellMetadata": {},
     "inputWidgets": {},
     "nuid": "05adbf9c-c06f-436b-87cd-0ef212d90306",
     "showTitle": false,
     "title": ""
    }
   },
   "source": [
    "---\n",
    "# 4. Agrupando dados para termos a mesma visualização do modelo mas com os dados disponíveis"
   ]
  },
  {
   "cell_type": "code",
   "execution_count": 0,
   "metadata": {
    "application/vnd.databricks.v1+cell": {
     "cellMetadata": {
      "byteLimit": 2048000,
      "implicitDf": true,
      "rowLimit": 10000
     },
     "inputWidgets": {},
     "nuid": "37eb2a9c-9358-47d7-aeee-7a83e7b6e666",
     "showTitle": false,
     "title": ""
    }
   },
   "outputs": [
    {
     "output_type": "display_data",
     "data": {
      "text/html": [
       "<style scoped>\n",
       "  .table-result-container {\n",
       "    max-height: 300px;\n",
       "    overflow: auto;\n",
       "  }\n",
       "  table, th, td {\n",
       "    border: 1px solid black;\n",
       "    border-collapse: collapse;\n",
       "  }\n",
       "  th, td {\n",
       "    padding: 5px;\n",
       "  }\n",
       "  th {\n",
       "    text-align: left;\n",
       "  }\n",
       "</style><div class='table-result-container'><table class='table-result'><thead style='background-color: white'><tr><th>categoria_produtos</th><th>total</th><th>date_ref_carga</th></tr></thead><tbody><tr><td>moveis_decoracao, cama_mesa_banho</td><td>30</td><td>2024-04-14</td></tr><tr><td>cama_mesa_banho, moveis_decoracao</td><td>24</td><td>2024-04-14</td></tr><tr><td>casa_conforto, cama_mesa_banho</td><td>20</td><td>2024-04-14</td></tr><tr><td>cama_mesa_banho, casa_conforto</td><td>17</td><td>2024-04-14</td></tr><tr><td>bebes, brinquedos</td><td>14</td><td>2024-04-14</td></tr><tr><td>cama_mesa_banho, utilidades_domesticas</td><td>12</td><td>2024-04-14</td></tr><tr><td>utilidades_domesticas, moveis_decoracao</td><td>12</td><td>2024-04-14</td></tr><tr><td>bebes, cool_stuff</td><td>9</td><td>2024-04-14</td></tr><tr><td>moveis_decoracao, utilidades_domesticas</td><td>9</td><td>2024-04-14</td></tr><tr><td>ferramentas_jardim, moveis_decoracao</td><td>8</td><td>2024-04-14</td></tr><tr><td>ferramentas_jardim, utilidades_domesticas</td><td>8</td><td>2024-04-14</td></tr><tr><td>cool_stuff, bebes</td><td>8</td><td>2024-04-14</td></tr><tr><td>esporte_lazer, utilidades_domesticas</td><td>8</td><td>2024-04-14</td></tr><tr><td>bebes, cama_mesa_banho</td><td>8</td><td>2024-04-14</td></tr><tr><td>esporte_lazer, beleza_saude</td><td>7</td><td>2024-04-14</td></tr><tr><td>bebes, moveis_decoracao</td><td>7</td><td>2024-04-14</td></tr><tr><td>cool_stuff, brinquedos</td><td>7</td><td>2024-04-14</td></tr><tr><td>moveis_decoracao, casa_construcao</td><td>6</td><td>2024-04-14</td></tr><tr><td>beleza_saude, esporte_lazer</td><td>6</td><td>2024-04-14</td></tr><tr><td>cama_mesa_banho, bebes</td><td>5</td><td>2024-04-14</td></tr><tr><td>construcao_ferramentas_iluminacao, moveis_decoracao</td><td>5</td><td>2024-04-14</td></tr><tr><td>perfumaria, beleza_saude</td><td>5</td><td>2024-04-14</td></tr><tr><td>moveis_decoracao, ferramentas_jardim</td><td>5</td><td>2024-04-14</td></tr><tr><td>brinquedos, papelaria</td><td>5</td><td>2024-04-14</td></tr><tr><td>cama_mesa_banho, beleza_saude</td><td>5</td><td>2024-04-14</td></tr><tr><td>moveis_sala, moveis_decoracao</td><td>5</td><td>2024-04-14</td></tr><tr><td>beleza_saude, perfumaria</td><td>5</td><td>2024-04-14</td></tr><tr><td>casa_construcao, moveis_decoracao</td><td>5</td><td>2024-04-14</td></tr><tr><td>ferramentas_jardim, informatica_acessorios</td><td>5</td><td>2024-04-14</td></tr><tr><td>audio, relogios_presentes</td><td>5</td><td>2024-04-14</td></tr><tr><td>utilidades_domesticas, cama_mesa_banho</td><td>5</td><td>2024-04-14</td></tr><tr><td>cama_mesa_banho, cool_stuff</td><td>4</td><td>2024-04-14</td></tr><tr><td>casa_construcao, ferramentas_jardim</td><td>4</td><td>2024-04-14</td></tr><tr><td>utilidades_domesticas, informatica_acessorios</td><td>4</td><td>2024-04-14</td></tr><tr><td>beleza_saude, cama_mesa_banho</td><td>4</td><td>2024-04-14</td></tr><tr><td>telefonia, informatica_acessorios</td><td>4</td><td>2024-04-14</td></tr><tr><td>cool_stuff, cama_mesa_banho</td><td>4</td><td>2024-04-14</td></tr><tr><td>ferramentas_jardim, construcao_ferramentas_construcao</td><td>3</td><td>2024-04-14</td></tr><tr><td>esporte_lazer, perfumaria</td><td>3</td><td>2024-04-14</td></tr><tr><td>cama_mesa_banho, moveis_decoracao, cama_mesa_banho</td><td>3</td><td>2024-04-14</td></tr><tr><td>cool_stuff, informatica_acessorios</td><td>3</td><td>2024-04-14</td></tr><tr><td>esporte_lazer, relogios_presentes</td><td>3</td><td>2024-04-14</td></tr><tr><td>automotivo, informatica_acessorios</td><td>3</td><td>2024-04-14</td></tr><tr><td>moveis_decoracao, relogios_presentes</td><td>3</td><td>2024-04-14</td></tr><tr><td>bebidas, beleza_saude</td><td>3</td><td>2024-04-14</td></tr><tr><td>utilidades_domesticas, esporte_lazer</td><td>3</td><td>2024-04-14</td></tr><tr><td>moveis_decoracao, moveis_decoracao, cama_mesa_banho</td><td>3</td><td>2024-04-14</td></tr><tr><td>utilidades_domesticas, papelaria</td><td>3</td><td>2024-04-14</td></tr><tr><td>malas_acessorios, papelaria</td><td>3</td><td>2024-04-14</td></tr><tr><td>moveis_decoracao, cama_mesa_banho, cama_mesa_banho</td><td>3</td><td>2024-04-14</td></tr><tr><td>moveis_decoracao, cool_stuff</td><td>3</td><td>2024-04-14</td></tr><tr><td>relogios_presentes, moveis_decoracao</td><td>3</td><td>2024-04-14</td></tr><tr><td>moveis_decoracao, bebes</td><td>3</td><td>2024-04-14</td></tr><tr><td>brinquedos, bebes</td><td>3</td><td>2024-04-14</td></tr><tr><td>moveis_decoracao, construcao_ferramentas_iluminacao</td><td>3</td><td>2024-04-14</td></tr><tr><td>cool_stuff, telefonia</td><td>2</td><td>2024-04-14</td></tr><tr><td>moveis_sala, moveis_escritorio</td><td>2</td><td>2024-04-14</td></tr><tr><td>fashion_bolsas_e_acessorios, papelaria</td><td>2</td><td>2024-04-14</td></tr><tr><td>utilidades_domesticas, ferramentas_jardim</td><td>2</td><td>2024-04-14</td></tr><tr><td>eletronicos, cama_mesa_banho</td><td>2</td><td>2024-04-14</td></tr><tr><td>ferramentas_jardim, cama_mesa_banho</td><td>2</td><td>2024-04-14</td></tr><tr><td>esporte_lazer, brinquedos</td><td>2</td><td>2024-04-14</td></tr><tr><td>moveis_decoracao, moveis_escritorio</td><td>2</td><td>2024-04-14</td></tr><tr><td>beleza_saude, moveis_decoracao</td><td>2</td><td>2024-04-14</td></tr><tr><td>alimentos, beleza_saude</td><td>2</td><td>2024-04-14</td></tr><tr><td>esporte_lazer, bebidas</td><td>2</td><td>2024-04-14</td></tr><tr><td>bebes, automotivo</td><td>2</td><td>2024-04-14</td></tr><tr><td>brinquedos, esporte_lazer</td><td>2</td><td>2024-04-14</td></tr><tr><td>bebes, brinquedos, brinquedos</td><td>2</td><td>2024-04-14</td></tr><tr><td>moveis_decoracao, construcao_ferramentas_iluminacao, moveis_decoracao</td><td>2</td><td>2024-04-14</td></tr><tr><td>bebes, ferramentas_jardim</td><td>2</td><td>2024-04-14</td></tr><tr><td>cama_mesa_banho, casa_conforto, cama_mesa_banho</td><td>2</td><td>2024-04-14</td></tr><tr><td>relogios_presentes, esporte_lazer</td><td>2</td><td>2024-04-14</td></tr><tr><td>informatica_acessorios, eletronicos</td><td>2</td><td>2024-04-14</td></tr><tr><td>informatica_acessorios, ferramentas_jardim</td><td>2</td><td>2024-04-14</td></tr><tr><td>artes, moveis_decoracao</td><td>2</td><td>2024-04-14</td></tr><tr><td>automotivo, construcao_ferramentas_construcao</td><td>2</td><td>2024-04-14</td></tr><tr><td>beleza_saude, malas_acessorios</td><td>2</td><td>2024-04-14</td></tr><tr><td>casa_conforto, moveis_decoracao</td><td>2</td><td>2024-04-14</td></tr><tr><td>ferramentas_jardim, casa_construcao</td><td>2</td><td>2024-04-14</td></tr><tr><td>informatica_acessorios, telefonia</td><td>2</td><td>2024-04-14</td></tr><tr><td>esporte_lazer, construcao_ferramentas_iluminacao</td><td>2</td><td>2024-04-14</td></tr><tr><td>papelaria, ferramentas_jardim</td><td>2</td><td>2024-04-14</td></tr><tr><td>perfumaria, beleza_saude, perfumaria</td><td>2</td><td>2024-04-14</td></tr><tr><td>moveis_decoracao, papelaria</td><td>2</td><td>2024-04-14</td></tr><tr><td>moveis_decoracao, artes</td><td>2</td><td>2024-04-14</td></tr><tr><td>cama_mesa_banho, cama_mesa_banho, casa_conforto</td><td>2</td><td>2024-04-14</td></tr><tr><td>esporte_lazer, ferramentas_jardim</td><td>2</td><td>2024-04-14</td></tr><tr><td>beleza_saude, telefonia</td><td>2</td><td>2024-04-14</td></tr><tr><td>eletronicos, informatica_acessorios</td><td>2</td><td>2024-04-14</td></tr><tr><td>informatica_acessorios, automotivo</td><td>2</td><td>2024-04-14</td></tr><tr><td>fashion_bolsas_e_acessorios, fashion_roupa_infanto_juvenil</td><td>2</td><td>2024-04-14</td></tr><tr><td>beleza_saude, relogios_presentes</td><td>2</td><td>2024-04-14</td></tr><tr><td>ferramentas_jardim, bebes</td><td>2</td><td>2024-04-14</td></tr><tr><td>utilidades_domesticas, cama_mesa_banho, utilidades_domesticas</td><td>2</td><td>2024-04-14</td></tr><tr><td>moveis_decoracao, ferramentas_jardim, moveis_decoracao</td><td>2</td><td>2024-04-14</td></tr><tr><td>informatica_acessorios, esporte_lazer</td><td>2</td><td>2024-04-14</td></tr><tr><td>automotivo, esporte_lazer</td><td>2</td><td>2024-04-14</td></tr><tr><td>market_place, moveis_decoracao</td><td>2</td><td>2024-04-14</td></tr><tr><td>bebes, fashion_bolsas_e_acessorios</td><td>2</td><td>2024-04-14</td></tr><tr><td>beleza_saude, papelaria</td><td>2</td><td>2024-04-14</td></tr><tr><td>automotivo, cool_stuff</td><td>2</td><td>2024-04-14</td></tr><tr><td>brinquedos, cama_mesa_banho</td><td>2</td><td>2024-04-14</td></tr><tr><td>utilidades_domesticas, bebes, bebes</td><td>2</td><td>2024-04-14</td></tr><tr><td>consoles_games, informatica_acessorios</td><td>1</td><td>2024-04-14</td></tr><tr><td>pet_shop, consoles_games</td><td>1</td><td>2024-04-14</td></tr><tr><td>ferramentas_jardim, ferramentas_jardim, malas_acessorios</td><td>1</td><td>2024-04-14</td></tr><tr><td>pet_shop, cama_mesa_banho</td><td>1</td><td>2024-04-14</td></tr><tr><td>papelaria, informatica_acessorios</td><td>1</td><td>2024-04-14</td></tr><tr><td>instrumentos_musicais, brinquedos</td><td>1</td><td>2024-04-14</td></tr><tr><td>papelaria, malas_acessorios</td><td>1</td><td>2024-04-14</td></tr><tr><td>moveis_decoracao, instrumentos_musicais, moveis_decoracao</td><td>1</td><td>2024-04-14</td></tr><tr><td>telefonia_fixa, alimentos</td><td>1</td><td>2024-04-14</td></tr><tr><td>perfumaria, brinquedos</td><td>1</td><td>2024-04-14</td></tr><tr><td>bebes, bebes, construcao_ferramentas_iluminacao</td><td>1</td><td>2024-04-14</td></tr><tr><td>utilidades_domesticas, perfumaria</td><td>1</td><td>2024-04-14</td></tr><tr><td>beleza_saude, bebes</td><td>1</td><td>2024-04-14</td></tr><tr><td>cama_mesa_banho, construcao_ferramentas_construcao</td><td>1</td><td>2024-04-14</td></tr><tr><td>construcao_ferramentas_construcao, ferramentas_jardim</td><td>1</td><td>2024-04-14</td></tr><tr><td>utilidades_domesticas, alimentos_bebidas, utilidades_domesticas</td><td>1</td><td>2024-04-14</td></tr><tr><td>consoles_games, cool_stuff</td><td>1</td><td>2024-04-14</td></tr><tr><td>alimentos_bebidas, esporte_lazer</td><td>1</td><td>2024-04-14</td></tr><tr><td>climatizacao, esporte_lazer</td><td>1</td><td>2024-04-14</td></tr><tr><td>ferramentas_jardim, informatica_acessorios, ferramentas_jardim</td><td>1</td><td>2024-04-14</td></tr><tr><td>beleza_saude, beleza_saude, beleza_saude, cama_mesa_banho</td><td>1</td><td>2024-04-14</td></tr><tr><td>papelaria, artes</td><td>1</td><td>2024-04-14</td></tr><tr><td>construcao_ferramentas_construcao, construcao_ferramentas_construcao, ferramentas_jardim</td><td>1</td><td>2024-04-14</td></tr><tr><td>ferramentas_jardim, artes_e_artesanato</td><td>1</td><td>2024-04-14</td></tr><tr><td>bebes, moveis_sala</td><td>1</td><td>2024-04-14</td></tr><tr><td>moveis_cozinha_area_de_servico_jantar_e_jardim, cama_mesa_banho</td><td>1</td><td>2024-04-14</td></tr><tr><td>telefonia, cool_stuff, telefonia</td><td>1</td><td>2024-04-14</td></tr><tr><td>moveis_cozinha_area_de_servico_jantar_e_jardim, construcao_ferramentas_construcao</td><td>1</td><td>2024-04-14</td></tr><tr><td>beleza_saude, papelaria, papelaria</td><td>1</td><td>2024-04-14</td></tr><tr><td>automotivo, casa_conforto_2</td><td>1</td><td>2024-04-14</td></tr><tr><td>construcao_ferramentas_seguranca, cool_stuff</td><td>1</td><td>2024-04-14</td></tr><tr><td>esporte_lazer, eletronicos</td><td>1</td><td>2024-04-14</td></tr><tr><td>cama_mesa_banho, utilidades_domesticas, utilidades_domesticas</td><td>1</td><td>2024-04-14</td></tr><tr><td>cama_mesa_banho, artigos_de_festas</td><td>1</td><td>2024-04-14</td></tr><tr><td>utilidades_domesticas, moveis_decoracao, utilidades_domesticas</td><td>1</td><td>2024-04-14</td></tr><tr><td>eletrodomesticos_2, cama_mesa_banho</td><td>1</td><td>2024-04-14</td></tr><tr><td>esporte_lazer, automotivo</td><td>1</td><td>2024-04-14</td></tr><tr><td>cool_stuff, bebes, bebes</td><td>1</td><td>2024-04-14</td></tr><tr><td>automotivo, automotivo, telefonia</td><td>1</td><td>2024-04-14</td></tr><tr><td>eletronicos, moveis_decoracao, eletronicos</td><td>1</td><td>2024-04-14</td></tr><tr><td>moveis_escritorio, moveis_decoracao</td><td>1</td><td>2024-04-14</td></tr><tr><td>moveis_decoracao, automotivo, moveis_decoracao, moveis_decoracao</td><td>1</td><td>2024-04-14</td></tr><tr><td>papelaria, utilidades_domesticas</td><td>1</td><td>2024-04-14</td></tr><tr><td>artes_e_artesanato, brinquedos</td><td>1</td><td>2024-04-14</td></tr><tr><td>moveis_escritorio, esporte_lazer</td><td>1</td><td>2024-04-14</td></tr><tr><td>telefonia, relogios_presentes</td><td>1</td><td>2024-04-14</td></tr><tr><td>papelaria, relogios_presentes</td><td>1</td><td>2024-04-14</td></tr><tr><td>brinquedos, telefonia</td><td>1</td><td>2024-04-14</td></tr><tr><td>telefonia, cool_stuff</td><td>1</td><td>2024-04-14</td></tr><tr><td>industria_comercio_e_negocios, utilidades_domesticas</td><td>1</td><td>2024-04-14</td></tr><tr><td>industria_comercio_e_negocios, moveis_decoracao</td><td>1</td><td>2024-04-14</td></tr><tr><td>beleza_saude, utilidades_domesticas</td><td>1</td><td>2024-04-14</td></tr><tr><td>telefonia, automotivo</td><td>1</td><td>2024-04-14</td></tr><tr><td>informatica_acessorios, informatica_acessorios, ferramentas_jardim</td><td>1</td><td>2024-04-14</td></tr><tr><td>construcao_ferramentas_construcao, brinquedos</td><td>1</td><td>2024-04-14</td></tr><tr><td>utilidades_domesticas, cool_stuff</td><td>1</td><td>2024-04-14</td></tr><tr><td>moveis_decoracao, livros_tecnicos</td><td>1</td><td>2024-04-14</td></tr><tr><td>cool_stuff, moveis_decoracao</td><td>1</td><td>2024-04-14</td></tr><tr><td>eletronicos, eletroportateis</td><td>1</td><td>2024-04-14</td></tr><tr><td>bebes, moveis_quarto</td><td>1</td><td>2024-04-14</td></tr><tr><td>construcao_ferramentas_jardim, telefonia</td><td>1</td><td>2024-04-14</td></tr><tr><td>relogios_presentes, eletronicos</td><td>1</td><td>2024-04-14</td></tr><tr><td>cool_stuff, telefonia, telefonia</td><td>1</td><td>2024-04-14</td></tr><tr><td>moveis_escritorio, cama_mesa_banho</td><td>1</td><td>2024-04-14</td></tr><tr><td>utilidades_domesticas, casa_construcao, utilidades_domesticas</td><td>1</td><td>2024-04-14</td></tr><tr><td>fashion_bolsas_e_acessorios, beleza_saude</td><td>1</td><td>2024-04-14</td></tr><tr><td>instrumentos_musicais, relogios_presentes</td><td>1</td><td>2024-04-14</td></tr><tr><td>construcao_ferramentas_iluminacao, construcao_ferramentas_jardim</td><td>1</td><td>2024-04-14</td></tr><tr><td>bebes, malas_acessorios</td><td>1</td><td>2024-04-14</td></tr><tr><td>moveis_decoracao, casa_conforto</td><td>1</td><td>2024-04-14</td></tr><tr><td>utilidades_domesticas, bebidas</td><td>1</td><td>2024-04-14</td></tr><tr><td>moveis_quarto, moveis_decoracao</td><td>1</td><td>2024-04-14</td></tr><tr><td>informatica_acessorios, informatica_acessorios, eletronicos, informatica_acessorios</td><td>1</td><td>2024-04-14</td></tr><tr><td>moveis_decoracao, moveis_decoracao, construcao_ferramentas_iluminacao</td><td>1</td><td>2024-04-14</td></tr><tr><td>moveis_decoracao, beleza_saude</td><td>1</td><td>2024-04-14</td></tr><tr><td>construcao_ferramentas_jardim, pet_shop</td><td>1</td><td>2024-04-14</td></tr><tr><td>casa_construcao, eletronicos</td><td>1</td><td>2024-04-14</td></tr><tr><td>cama_mesa_banho, moveis_escritorio, cama_mesa_banho, cama_mesa_banho</td><td>1</td><td>2024-04-14</td></tr><tr><td>cama_mesa_banho, moveis_sala</td><td>1</td><td>2024-04-14</td></tr><tr><td>moveis_sala, moveis_decoracao, moveis_decoracao</td><td>1</td><td>2024-04-14</td></tr><tr><td>relogios_presentes, bebes</td><td>1</td><td>2024-04-14</td></tr><tr><td>moveis_escritorio, industria_comercio_e_negocios</td><td>1</td><td>2024-04-14</td></tr><tr><td>construcao_ferramentas_jardim, flores</td><td>1</td><td>2024-04-14</td></tr><tr><td>cama_mesa_banho, cama_mesa_banho, cama_mesa_banho, moveis_decoracao, moveis_decoracao</td><td>1</td><td>2024-04-14</td></tr><tr><td>ferramentas_jardim, ferramentas_jardim, cama_mesa_banho</td><td>1</td><td>2024-04-14</td></tr><tr><td>cama_mesa_banho, alimentos</td><td>1</td><td>2024-04-14</td></tr><tr><td>instrumentos_musicais, casa_conforto_2</td><td>1</td><td>2024-04-14</td></tr><tr><td>bebes, utilidades_domesticas</td><td>1</td><td>2024-04-14</td></tr><tr><td>ferramentas_jardim, pet_shop</td><td>1</td><td>2024-04-14</td></tr><tr><td>moveis_decoracao, casa_conforto, moveis_decoracao</td><td>1</td><td>2024-04-14</td></tr><tr><td>moveis_decoracao, perfumaria</td><td>1</td><td>2024-04-14</td></tr><tr><td>automotivo, artigos_de_natal</td><td>1</td><td>2024-04-14</td></tr><tr><td>construcao_ferramentas_jardim, livros_tecnicos</td><td>1</td><td>2024-04-14</td></tr><tr><td>construcao_ferramentas_seguranca, informatica_acessorios</td><td>1</td><td>2024-04-14</td></tr><tr><td>automotivo, bebidas</td><td>1</td><td>2024-04-14</td></tr><tr><td>construcao_ferramentas_jardim, cama_mesa_banho</td><td>1</td><td>2024-04-14</td></tr><tr><td>perfumaria, brinquedos, perfumaria</td><td>1</td><td>2024-04-14</td></tr><tr><td>beleza_saude, beleza_saude, cool_stuff, beleza_saude</td><td>1</td><td>2024-04-14</td></tr><tr><td>casa_construcao, construcao_ferramentas_seguranca, casa_construcao, casa_construcao</td><td>1</td><td>2024-04-14</td></tr><tr><td>moveis_decoracao, moveis_decoracao, ferramentas_jardim</td><td>1</td><td>2024-04-14</td></tr><tr><td>pet_shop, beleza_saude</td><td>1</td><td>2024-04-14</td></tr><tr><td>moveis_decoracao, esporte_lazer</td><td>1</td><td>2024-04-14</td></tr><tr><td>pet_shop, alimentos</td><td>1</td><td>2024-04-14</td></tr><tr><td>casa_conforto, utilidades_domesticas</td><td>1</td><td>2024-04-14</td></tr><tr><td>ferramentas_jardim, automotivo</td><td>1</td><td>2024-04-14</td></tr><tr><td>casa_construcao, construcao_ferramentas_seguranca</td><td>1</td><td>2024-04-14</td></tr><tr><td>utilidades_domesticas, automotivo</td><td>1</td><td>2024-04-14</td></tr><tr><td>eletronicos, malas_acessorios</td><td>1</td><td>2024-04-14</td></tr><tr><td>utilidades_domesticas, bebes</td><td>1</td><td>2024-04-14</td></tr><tr><td>moveis_cozinha_area_de_servico_jantar_e_jardim, utilidades_domesticas</td><td>1</td><td>2024-04-14</td></tr><tr><td>cine_foto, esporte_lazer</td><td>1</td><td>2024-04-14</td></tr><tr><td>musica, perfumaria</td><td>1</td><td>2024-04-14</td></tr><tr><td>moveis_decoracao, industria_comercio_e_negocios</td><td>1</td><td>2024-04-14</td></tr><tr><td>beleza_saude, brinquedos</td><td>1</td><td>2024-04-14</td></tr><tr><td>cama_mesa_banho, moveis_decoracao, cama_mesa_banho, moveis_decoracao</td><td>1</td><td>2024-04-14</td></tr><tr><td>malas_acessorios, automotivo</td><td>1</td><td>2024-04-14</td></tr><tr><td>moveis_sala, cama_mesa_banho</td><td>1</td><td>2024-04-14</td></tr><tr><td>utilidades_domesticas, livros_interesse_geral</td><td>1</td><td>2024-04-14</td></tr><tr><td>informatica_acessorios, papelaria</td><td>1</td><td>2024-04-14</td></tr><tr><td>eletroportateis, moveis_decoracao</td><td>1</td><td>2024-04-14</td></tr><tr><td>cama_mesa_banho, moveis_escritorio, moveis_escritorio</td><td>1</td><td>2024-04-14</td></tr><tr><td>utilidades_domesticas, dvds_blu_ray</td><td>1</td><td>2024-04-14</td></tr><tr><td>fashion_bolsas_e_acessorios, bebes</td><td>1</td><td>2024-04-14</td></tr><tr><td>informatica_acessorios, moveis_decoracao</td><td>1</td><td>2024-04-14</td></tr><tr><td>papelaria, esporte_lazer</td><td>1</td><td>2024-04-14</td></tr><tr><td>informatica_acessorios, cama_mesa_banho</td><td>1</td><td>2024-04-14</td></tr><tr><td>la_cuisine, bebes</td><td>1</td><td>2024-04-14</td></tr><tr><td>fashion_roupa_feminina, fashion_esporte</td><td>1</td><td>2024-04-14</td></tr><tr><td>construcao_ferramentas_iluminacao, casa_construcao</td><td>1</td><td>2024-04-14</td></tr><tr><td>perfumaria, eletronicos</td><td>1</td><td>2024-04-14</td></tr><tr><td>moveis_decoracao, artes, moveis_decoracao, moveis_decoracao</td><td>1</td><td>2024-04-14</td></tr><tr><td>relogios_presentes, brinquedos</td><td>1</td><td>2024-04-14</td></tr><tr><td>casa_conforto, cama_mesa_banho, cama_mesa_banho</td><td>1</td><td>2024-04-14</td></tr><tr><td>eletronicos, relogios_presentes</td><td>1</td><td>2024-04-14</td></tr><tr><td>beleza_saude, livros_tecnicos</td><td>1</td><td>2024-04-14</td></tr><tr><td>moveis_decoracao, moveis_sala</td><td>1</td><td>2024-04-14</td></tr><tr><td>fashion_bolsas_e_acessorios, cama_mesa_banho</td><td>1</td><td>2024-04-14</td></tr><tr><td>telefonia, eletroportateis</td><td>1</td><td>2024-04-14</td></tr><tr><td>perfumaria, moveis_decoracao</td><td>1</td><td>2024-04-14</td></tr><tr><td>esporte_lazer, moveis_escritorio</td><td>1</td><td>2024-04-14</td></tr><tr><td>dvds_blu_ray, informatica_acessorios</td><td>1</td><td>2024-04-14</td></tr><tr><td>utilidades_domesticas, relogios_presentes</td><td>1</td><td>2024-04-14</td></tr><tr><td>bebes, fashion_calcados</td><td>1</td><td>2024-04-14</td></tr><tr><td>telefonia, eletronicos</td><td>1</td><td>2024-04-14</td></tr><tr><td>relogios_presentes, cool_stuff</td><td>1</td><td>2024-04-14</td></tr><tr><td>utilidades_domesticas, moveis_cozinha_area_de_servico_jantar_e_jardim</td><td>1</td><td>2024-04-14</td></tr><tr><td>utilidades_domesticas, ferramentas_jardim, ferramentas_jardim</td><td>1</td><td>2024-04-14</td></tr><tr><td>eletronicos, perfumaria</td><td>1</td><td>2024-04-14</td></tr><tr><td>cama_mesa_banho, construcao_ferramentas_jardim</td><td>1</td><td>2024-04-14</td></tr><tr><td>moveis_decoracao, moveis_decoracao, cama_mesa_banho, moveis_decoracao</td><td>1</td><td>2024-04-14</td></tr><tr><td>eletronicos, telefonia</td><td>1</td><td>2024-04-14</td></tr><tr><td>eletronicos, ferramentas_jardim</td><td>1</td><td>2024-04-14</td></tr><tr><td>casa_conforto, moveis_decoracao, moveis_decoracao</td><td>1</td><td>2024-04-14</td></tr><tr><td>relogios_presentes, automotivo</td><td>1</td><td>2024-04-14</td></tr><tr><td>construcao_ferramentas_seguranca, bebes</td><td>1</td><td>2024-04-14</td></tr><tr><td>consoles_games, automotivo</td><td>1</td><td>2024-04-14</td></tr><tr><td>telefonia, telefonia_fixa</td><td>1</td><td>2024-04-14</td></tr><tr><td>cool_stuff, pc_gamer</td><td>1</td><td>2024-04-14</td></tr><tr><td>bebes, cama_mesa_banho, cama_mesa_banho</td><td>1</td><td>2024-04-14</td></tr><tr><td>eletroportateis, beleza_saude</td><td>1</td><td>2024-04-14</td></tr><tr><td>moveis_decoracao, automotivo</td><td>1</td><td>2024-04-14</td></tr><tr><td>ferramentas_jardim, telefonia</td><td>1</td><td>2024-04-14</td></tr><tr><td>perfumaria, relogios_presentes</td><td>1</td><td>2024-04-14</td></tr><tr><td>relogios_presentes, papelaria</td><td>1</td><td>2024-04-14</td></tr><tr><td>relogios_presentes, casa_conforto</td><td>1</td><td>2024-04-14</td></tr><tr><td>automotivo, utilidades_domesticas</td><td>1</td><td>2024-04-14</td></tr><tr><td>relogios_presentes, telefonia</td><td>1</td><td>2024-04-14</td></tr><tr><td>construcao_ferramentas_construcao, automotivo</td><td>1</td><td>2024-04-14</td></tr><tr><td>moveis_escritorio, informatica_acessorios</td><td>1</td><td>2024-04-14</td></tr><tr><td>moveis_decoracao, bebes, moveis_decoracao</td><td>1</td><td>2024-04-14</td></tr><tr><td>utilidades_domesticas, eletroportateis, utilidades_domesticas</td><td>1</td><td>2024-04-14</td></tr><tr><td>construcao_ferramentas_construcao, beleza_saude</td><td>1</td><td>2024-04-14</td></tr><tr><td>beleza_saude, cool_stuff</td><td>1</td><td>2024-04-14</td></tr><tr><td>instrumentos_musicais, malas_acessorios</td><td>1</td><td>2024-04-14</td></tr><tr><td>bebes, bebes, utilidades_domesticas</td><td>1</td><td>2024-04-14</td></tr><tr><td>beleza_saude, alimentos, beleza_saude</td><td>1</td><td>2024-04-14</td></tr><tr><td>consoles_games, esporte_lazer</td><td>1</td><td>2024-04-14</td></tr><tr><td>ferramentas_jardim, esporte_lazer, ferramentas_jardim</td><td>1</td><td>2024-04-14</td></tr><tr><td>informatica_acessorios, malas_acessorios</td><td>1</td><td>2024-04-14</td></tr><tr><td>alimentos_bebidas, utilidades_domesticas</td><td>1</td><td>2024-04-14</td></tr><tr><td>cool_stuff, tablets_impressao_imagem</td><td>1</td><td>2024-04-14</td></tr><tr><td>malas_acessorios, informatica_acessorios</td><td>1</td><td>2024-04-14</td></tr><tr><td>automotivo, beleza_saude</td><td>1</td><td>2024-04-14</td></tr><tr><td>beleza_saude, cama_mesa_banho, cama_mesa_banho</td><td>1</td><td>2024-04-14</td></tr><tr><td>relogios_presentes, ferramentas_jardim</td><td>1</td><td>2024-04-14</td></tr><tr><td>cama_mesa_banho, bebes, bebes</td><td>1</td><td>2024-04-14</td></tr><tr><td>bebidas, utilidades_domesticas</td><td>1</td><td>2024-04-14</td></tr><tr><td>cama_mesa_banho, moveis_escritorio</td><td>1</td><td>2024-04-14</td></tr><tr><td>musica, livros_tecnicos</td><td>1</td><td>2024-04-14</td></tr><tr><td>moveis_decoracao, eletronicos</td><td>1</td><td>2024-04-14</td></tr><tr><td>tablets_impressao_imagem, cool_stuff</td><td>1</td><td>2024-04-14</td></tr><tr><td>utilidades_domesticas, consoles_games</td><td>1</td><td>2024-04-14</td></tr><tr><td>cool_stuff, livros_interesse_geral</td><td>1</td><td>2024-04-14</td></tr><tr><td>livros_interesse_geral, market_place</td><td>1</td><td>2024-04-14</td></tr><tr><td>flores, moveis_decoracao, moveis_decoracao, moveis_decoracao</td><td>1</td><td>2024-04-14</td></tr><tr><td>moveis_escritorio, moveis_sala</td><td>1</td><td>2024-04-14</td></tr><tr><td>papelaria, beleza_saude</td><td>1</td><td>2024-04-14</td></tr><tr><td>construcao_ferramentas_jardim, ferramentas_jardim</td><td>1</td><td>2024-04-14</td></tr><tr><td>consoles_games, brinquedos</td><td>1</td><td>2024-04-14</td></tr><tr><td>automotivo, telefonia</td><td>1</td><td>2024-04-14</td></tr><tr><td>moveis_decoracao, construcao_ferramentas_construcao</td><td>1</td><td>2024-04-14</td></tr><tr><td>construcao_ferramentas_jardim, casa_construcao</td><td>1</td><td>2024-04-14</td></tr><tr><td>esporte_lazer, alimentos_bebidas</td><td>1</td><td>2024-04-14</td></tr><tr><td>cama_mesa_banho, construcao_ferramentas_seguranca</td><td>1</td><td>2024-04-14</td></tr><tr><td>papelaria, brinquedos</td><td>1</td><td>2024-04-14</td></tr><tr><td>informatica_acessorios, relogios_presentes</td><td>1</td><td>2024-04-14</td></tr><tr><td>ferramentas_jardim, automotivo, ferramentas_jardim</td><td>1</td><td>2024-04-14</td></tr><tr><td>moveis_decoracao, pet_shop</td><td>1</td><td>2024-04-14</td></tr><tr><td>automotivo, cama_mesa_banho</td><td>1</td><td>2024-04-14</td></tr><tr><td>moveis_sala, brinquedos</td><td>1</td><td>2024-04-14</td></tr><tr><td>climatizacao, informatica_acessorios</td><td>1</td><td>2024-04-14</td></tr><tr><td>moveis_decoracao, market_place</td><td>1</td><td>2024-04-14</td></tr><tr><td>esporte_lazer, bebes</td><td>1</td><td>2024-04-14</td></tr><tr><td>informatica_acessorios, construcao_ferramentas_construcao</td><td>1</td><td>2024-04-14</td></tr><tr><td>cool_stuff, relogios_presentes</td><td>1</td><td>2024-04-14</td></tr><tr><td>alimentos, eletronicos</td><td>1</td><td>2024-04-14</td></tr><tr><td>moveis_decoracao, pcs</td><td>1</td><td>2024-04-14</td></tr><tr><td>moveis_decoracao, cama_mesa_banho, moveis_decoracao</td><td>1</td><td>2024-04-14</td></tr><tr><td>utilidades_domesticas, market_place</td><td>1</td><td>2024-04-14</td></tr><tr><td>relogios_presentes, beleza_saude</td><td>1</td><td>2024-04-14</td></tr><tr><td>esporte_lazer, alimentos, alimentos</td><td>1</td><td>2024-04-14</td></tr><tr><td>relogios_presentes, audio</td><td>1</td><td>2024-04-14</td></tr><tr><td>livros_interesse_geral, bebes</td><td>1</td><td>2024-04-14</td></tr><tr><td>market_place, livros_interesse_geral</td><td>1</td><td>2024-04-14</td></tr><tr><td>malas_acessorios, telefonia</td><td>1</td><td>2024-04-14</td></tr><tr><td>esporte_lazer, moveis_decoracao</td><td>1</td><td>2024-04-14</td></tr><tr><td>utilidades_domesticas, construcao_ferramentas_construcao</td><td>1</td><td>2024-04-14</td></tr><tr><td>market_place, beleza_saude</td><td>1</td><td>2024-04-14</td></tr><tr><td>malas_acessorios, malas_acessorios, papelaria</td><td>1</td><td>2024-04-14</td></tr><tr><td>fashion_esporte, fashion_bolsas_e_acessorios</td><td>1</td><td>2024-04-14</td></tr><tr><td>tablets_impressao_imagem, informatica_acessorios</td><td>1</td><td>2024-04-14</td></tr><tr><td>cool_stuff, cool_stuff, bebes</td><td>1</td><td>2024-04-14</td></tr><tr><td>brinquedos, moveis_cozinha_area_de_servico_jantar_e_jardim</td><td>1</td><td>2024-04-14</td></tr><tr><td>eletronicos, utilidades_domesticas, utilidades_domesticas, utilidades_domesticas, utilidades_domesticas, utilidades_domesticas</td><td>1</td><td>2024-04-14</td></tr><tr><td>ferramentas_jardim, relogios_presentes</td><td>1</td><td>2024-04-14</td></tr><tr><td>moveis_decoracao, moveis_cozinha_area_de_servico_jantar_e_jardim</td><td>1</td><td>2024-04-14</td></tr><tr><td>market_place, utilidades_domesticas</td><td>1</td><td>2024-04-14</td></tr><tr><td>ferramentas_jardim, la_cuisine</td><td>1</td><td>2024-04-14</td></tr><tr><td>cama_mesa_banho, moveis_quarto</td><td>1</td><td>2024-04-14</td></tr><tr><td>market_place, instrumentos_musicais</td><td>1</td><td>2024-04-14</td></tr><tr><td>construcao_ferramentas_iluminacao, esporte_lazer</td><td>1</td><td>2024-04-14</td></tr><tr><td>pet_shop, construcao_ferramentas_construcao</td><td>1</td><td>2024-04-14</td></tr><tr><td>cool_stuff, construcao_ferramentas_seguranca</td><td>1</td><td>2024-04-14</td></tr><tr><td>ferramentas_jardim, moveis_sala</td><td>1</td><td>2024-04-14</td></tr><tr><td>esporte_lazer, eletroportateis, esporte_lazer</td><td>1</td><td>2024-04-14</td></tr><tr><td>informatica_acessorios, cool_stuff</td><td>1</td><td>2024-04-14</td></tr><tr><td>cama_mesa_banho, market_place, cama_mesa_banho</td><td>1</td><td>2024-04-14</td></tr><tr><td>pet_shop, perfumaria</td><td>1</td><td>2024-04-14</td></tr><tr><td>sinalizacao_e_seguranca, bebes</td><td>1</td><td>2024-04-14</td></tr><tr><td>automotivo, eletronicos</td><td>1</td><td>2024-04-14</td></tr><tr><td>relogios_presentes, construcao_ferramentas_construcao</td><td>1</td><td>2024-04-14</td></tr><tr><td>esporte_lazer, cama_mesa_banho, cama_mesa_banho</td><td>1</td><td>2024-04-14</td></tr><tr><td>cool_stuff, esporte_lazer</td><td>1</td><td>2024-04-14</td></tr><tr><td>beleza_saude, market_place</td><td>1</td><td>2024-04-14</td></tr><tr><td>brinquedos, consoles_games</td><td>1</td><td>2024-04-14</td></tr><tr><td>fashion_calcados, bebes</td><td>1</td><td>2024-04-14</td></tr></tbody></table></div>"
      ]
     },
     "metadata": {
      "application/vnd.databricks.v1+output": {
       "addedWidgets": {},
       "aggData": [],
       "aggError": "",
       "aggOverflow": false,
       "aggSchema": [],
       "aggSeriesLimitReached": false,
       "aggType": "",
       "arguments": {},
       "columnCustomDisplayInfos": {},
       "data": [
        [
         "moveis_decoracao, cama_mesa_banho",
         "30",
         "2024-04-14"
        ],
        [
         "cama_mesa_banho, moveis_decoracao",
         "24",
         "2024-04-14"
        ],
        [
         "casa_conforto, cama_mesa_banho",
         "20",
         "2024-04-14"
        ],
        [
         "cama_mesa_banho, casa_conforto",
         "17",
         "2024-04-14"
        ],
        [
         "bebes, brinquedos",
         "14",
         "2024-04-14"
        ],
        [
         "cama_mesa_banho, utilidades_domesticas",
         "12",
         "2024-04-14"
        ],
        [
         "utilidades_domesticas, moveis_decoracao",
         "12",
         "2024-04-14"
        ],
        [
         "bebes, cool_stuff",
         "9",
         "2024-04-14"
        ],
        [
         "moveis_decoracao, utilidades_domesticas",
         "9",
         "2024-04-14"
        ],
        [
         "ferramentas_jardim, moveis_decoracao",
         "8",
         "2024-04-14"
        ],
        [
         "ferramentas_jardim, utilidades_domesticas",
         "8",
         "2024-04-14"
        ],
        [
         "cool_stuff, bebes",
         "8",
         "2024-04-14"
        ],
        [
         "esporte_lazer, utilidades_domesticas",
         "8",
         "2024-04-14"
        ],
        [
         "bebes, cama_mesa_banho",
         "8",
         "2024-04-14"
        ],
        [
         "esporte_lazer, beleza_saude",
         "7",
         "2024-04-14"
        ],
        [
         "bebes, moveis_decoracao",
         "7",
         "2024-04-14"
        ],
        [
         "cool_stuff, brinquedos",
         "7",
         "2024-04-14"
        ],
        [
         "moveis_decoracao, casa_construcao",
         "6",
         "2024-04-14"
        ],
        [
         "beleza_saude, esporte_lazer",
         "6",
         "2024-04-14"
        ],
        [
         "cama_mesa_banho, bebes",
         "5",
         "2024-04-14"
        ],
        [
         "construcao_ferramentas_iluminacao, moveis_decoracao",
         "5",
         "2024-04-14"
        ],
        [
         "perfumaria, beleza_saude",
         "5",
         "2024-04-14"
        ],
        [
         "moveis_decoracao, ferramentas_jardim",
         "5",
         "2024-04-14"
        ],
        [
         "brinquedos, papelaria",
         "5",
         "2024-04-14"
        ],
        [
         "cama_mesa_banho, beleza_saude",
         "5",
         "2024-04-14"
        ],
        [
         "moveis_sala, moveis_decoracao",
         "5",
         "2024-04-14"
        ],
        [
         "beleza_saude, perfumaria",
         "5",
         "2024-04-14"
        ],
        [
         "casa_construcao, moveis_decoracao",
         "5",
         "2024-04-14"
        ],
        [
         "ferramentas_jardim, informatica_acessorios",
         "5",
         "2024-04-14"
        ],
        [
         "audio, relogios_presentes",
         "5",
         "2024-04-14"
        ],
        [
         "utilidades_domesticas, cama_mesa_banho",
         "5",
         "2024-04-14"
        ],
        [
         "cama_mesa_banho, cool_stuff",
         "4",
         "2024-04-14"
        ],
        [
         "casa_construcao, ferramentas_jardim",
         "4",
         "2024-04-14"
        ],
        [
         "utilidades_domesticas, informatica_acessorios",
         "4",
         "2024-04-14"
        ],
        [
         "beleza_saude, cama_mesa_banho",
         "4",
         "2024-04-14"
        ],
        [
         "telefonia, informatica_acessorios",
         "4",
         "2024-04-14"
        ],
        [
         "cool_stuff, cama_mesa_banho",
         "4",
         "2024-04-14"
        ],
        [
         "ferramentas_jardim, construcao_ferramentas_construcao",
         "3",
         "2024-04-14"
        ],
        [
         "esporte_lazer, perfumaria",
         "3",
         "2024-04-14"
        ],
        [
         "cama_mesa_banho, moveis_decoracao, cama_mesa_banho",
         "3",
         "2024-04-14"
        ],
        [
         "cool_stuff, informatica_acessorios",
         "3",
         "2024-04-14"
        ],
        [
         "esporte_lazer, relogios_presentes",
         "3",
         "2024-04-14"
        ],
        [
         "automotivo, informatica_acessorios",
         "3",
         "2024-04-14"
        ],
        [
         "moveis_decoracao, relogios_presentes",
         "3",
         "2024-04-14"
        ],
        [
         "bebidas, beleza_saude",
         "3",
         "2024-04-14"
        ],
        [
         "utilidades_domesticas, esporte_lazer",
         "3",
         "2024-04-14"
        ],
        [
         "moveis_decoracao, moveis_decoracao, cama_mesa_banho",
         "3",
         "2024-04-14"
        ],
        [
         "utilidades_domesticas, papelaria",
         "3",
         "2024-04-14"
        ],
        [
         "malas_acessorios, papelaria",
         "3",
         "2024-04-14"
        ],
        [
         "moveis_decoracao, cama_mesa_banho, cama_mesa_banho",
         "3",
         "2024-04-14"
        ],
        [
         "moveis_decoracao, cool_stuff",
         "3",
         "2024-04-14"
        ],
        [
         "relogios_presentes, moveis_decoracao",
         "3",
         "2024-04-14"
        ],
        [
         "moveis_decoracao, bebes",
         "3",
         "2024-04-14"
        ],
        [
         "brinquedos, bebes",
         "3",
         "2024-04-14"
        ],
        [
         "moveis_decoracao, construcao_ferramentas_iluminacao",
         "3",
         "2024-04-14"
        ],
        [
         "cool_stuff, telefonia",
         "2",
         "2024-04-14"
        ],
        [
         "moveis_sala, moveis_escritorio",
         "2",
         "2024-04-14"
        ],
        [
         "fashion_bolsas_e_acessorios, papelaria",
         "2",
         "2024-04-14"
        ],
        [
         "utilidades_domesticas, ferramentas_jardim",
         "2",
         "2024-04-14"
        ],
        [
         "eletronicos, cama_mesa_banho",
         "2",
         "2024-04-14"
        ],
        [
         "ferramentas_jardim, cama_mesa_banho",
         "2",
         "2024-04-14"
        ],
        [
         "esporte_lazer, brinquedos",
         "2",
         "2024-04-14"
        ],
        [
         "moveis_decoracao, moveis_escritorio",
         "2",
         "2024-04-14"
        ],
        [
         "beleza_saude, moveis_decoracao",
         "2",
         "2024-04-14"
        ],
        [
         "alimentos, beleza_saude",
         "2",
         "2024-04-14"
        ],
        [
         "esporte_lazer, bebidas",
         "2",
         "2024-04-14"
        ],
        [
         "bebes, automotivo",
         "2",
         "2024-04-14"
        ],
        [
         "brinquedos, esporte_lazer",
         "2",
         "2024-04-14"
        ],
        [
         "bebes, brinquedos, brinquedos",
         "2",
         "2024-04-14"
        ],
        [
         "moveis_decoracao, construcao_ferramentas_iluminacao, moveis_decoracao",
         "2",
         "2024-04-14"
        ],
        [
         "bebes, ferramentas_jardim",
         "2",
         "2024-04-14"
        ],
        [
         "cama_mesa_banho, casa_conforto, cama_mesa_banho",
         "2",
         "2024-04-14"
        ],
        [
         "relogios_presentes, esporte_lazer",
         "2",
         "2024-04-14"
        ],
        [
         "informatica_acessorios, eletronicos",
         "2",
         "2024-04-14"
        ],
        [
         "informatica_acessorios, ferramentas_jardim",
         "2",
         "2024-04-14"
        ],
        [
         "artes, moveis_decoracao",
         "2",
         "2024-04-14"
        ],
        [
         "automotivo, construcao_ferramentas_construcao",
         "2",
         "2024-04-14"
        ],
        [
         "beleza_saude, malas_acessorios",
         "2",
         "2024-04-14"
        ],
        [
         "casa_conforto, moveis_decoracao",
         "2",
         "2024-04-14"
        ],
        [
         "ferramentas_jardim, casa_construcao",
         "2",
         "2024-04-14"
        ],
        [
         "informatica_acessorios, telefonia",
         "2",
         "2024-04-14"
        ],
        [
         "esporte_lazer, construcao_ferramentas_iluminacao",
         "2",
         "2024-04-14"
        ],
        [
         "papelaria, ferramentas_jardim",
         "2",
         "2024-04-14"
        ],
        [
         "perfumaria, beleza_saude, perfumaria",
         "2",
         "2024-04-14"
        ],
        [
         "moveis_decoracao, papelaria",
         "2",
         "2024-04-14"
        ],
        [
         "moveis_decoracao, artes",
         "2",
         "2024-04-14"
        ],
        [
         "cama_mesa_banho, cama_mesa_banho, casa_conforto",
         "2",
         "2024-04-14"
        ],
        [
         "esporte_lazer, ferramentas_jardim",
         "2",
         "2024-04-14"
        ],
        [
         "beleza_saude, telefonia",
         "2",
         "2024-04-14"
        ],
        [
         "eletronicos, informatica_acessorios",
         "2",
         "2024-04-14"
        ],
        [
         "informatica_acessorios, automotivo",
         "2",
         "2024-04-14"
        ],
        [
         "fashion_bolsas_e_acessorios, fashion_roupa_infanto_juvenil",
         "2",
         "2024-04-14"
        ],
        [
         "beleza_saude, relogios_presentes",
         "2",
         "2024-04-14"
        ],
        [
         "ferramentas_jardim, bebes",
         "2",
         "2024-04-14"
        ],
        [
         "utilidades_domesticas, cama_mesa_banho, utilidades_domesticas",
         "2",
         "2024-04-14"
        ],
        [
         "moveis_decoracao, ferramentas_jardim, moveis_decoracao",
         "2",
         "2024-04-14"
        ],
        [
         "informatica_acessorios, esporte_lazer",
         "2",
         "2024-04-14"
        ],
        [
         "automotivo, esporte_lazer",
         "2",
         "2024-04-14"
        ],
        [
         "market_place, moveis_decoracao",
         "2",
         "2024-04-14"
        ],
        [
         "bebes, fashion_bolsas_e_acessorios",
         "2",
         "2024-04-14"
        ],
        [
         "beleza_saude, papelaria",
         "2",
         "2024-04-14"
        ],
        [
         "automotivo, cool_stuff",
         "2",
         "2024-04-14"
        ],
        [
         "brinquedos, cama_mesa_banho",
         "2",
         "2024-04-14"
        ],
        [
         "utilidades_domesticas, bebes, bebes",
         "2",
         "2024-04-14"
        ],
        [
         "consoles_games, informatica_acessorios",
         "1",
         "2024-04-14"
        ],
        [
         "pet_shop, consoles_games",
         "1",
         "2024-04-14"
        ],
        [
         "ferramentas_jardim, ferramentas_jardim, malas_acessorios",
         "1",
         "2024-04-14"
        ],
        [
         "pet_shop, cama_mesa_banho",
         "1",
         "2024-04-14"
        ],
        [
         "papelaria, informatica_acessorios",
         "1",
         "2024-04-14"
        ],
        [
         "instrumentos_musicais, brinquedos",
         "1",
         "2024-04-14"
        ],
        [
         "papelaria, malas_acessorios",
         "1",
         "2024-04-14"
        ],
        [
         "moveis_decoracao, instrumentos_musicais, moveis_decoracao",
         "1",
         "2024-04-14"
        ],
        [
         "telefonia_fixa, alimentos",
         "1",
         "2024-04-14"
        ],
        [
         "perfumaria, brinquedos",
         "1",
         "2024-04-14"
        ],
        [
         "bebes, bebes, construcao_ferramentas_iluminacao",
         "1",
         "2024-04-14"
        ],
        [
         "utilidades_domesticas, perfumaria",
         "1",
         "2024-04-14"
        ],
        [
         "beleza_saude, bebes",
         "1",
         "2024-04-14"
        ],
        [
         "cama_mesa_banho, construcao_ferramentas_construcao",
         "1",
         "2024-04-14"
        ],
        [
         "construcao_ferramentas_construcao, ferramentas_jardim",
         "1",
         "2024-04-14"
        ],
        [
         "utilidades_domesticas, alimentos_bebidas, utilidades_domesticas",
         "1",
         "2024-04-14"
        ],
        [
         "consoles_games, cool_stuff",
         "1",
         "2024-04-14"
        ],
        [
         "alimentos_bebidas, esporte_lazer",
         "1",
         "2024-04-14"
        ],
        [
         "climatizacao, esporte_lazer",
         "1",
         "2024-04-14"
        ],
        [
         "ferramentas_jardim, informatica_acessorios, ferramentas_jardim",
         "1",
         "2024-04-14"
        ],
        [
         "beleza_saude, beleza_saude, beleza_saude, cama_mesa_banho",
         "1",
         "2024-04-14"
        ],
        [
         "papelaria, artes",
         "1",
         "2024-04-14"
        ],
        [
         "construcao_ferramentas_construcao, construcao_ferramentas_construcao, ferramentas_jardim",
         "1",
         "2024-04-14"
        ],
        [
         "ferramentas_jardim, artes_e_artesanato",
         "1",
         "2024-04-14"
        ],
        [
         "bebes, moveis_sala",
         "1",
         "2024-04-14"
        ],
        [
         "moveis_cozinha_area_de_servico_jantar_e_jardim, cama_mesa_banho",
         "1",
         "2024-04-14"
        ],
        [
         "telefonia, cool_stuff, telefonia",
         "1",
         "2024-04-14"
        ],
        [
         "moveis_cozinha_area_de_servico_jantar_e_jardim, construcao_ferramentas_construcao",
         "1",
         "2024-04-14"
        ],
        [
         "beleza_saude, papelaria, papelaria",
         "1",
         "2024-04-14"
        ],
        [
         "automotivo, casa_conforto_2",
         "1",
         "2024-04-14"
        ],
        [
         "construcao_ferramentas_seguranca, cool_stuff",
         "1",
         "2024-04-14"
        ],
        [
         "esporte_lazer, eletronicos",
         "1",
         "2024-04-14"
        ],
        [
         "cama_mesa_banho, utilidades_domesticas, utilidades_domesticas",
         "1",
         "2024-04-14"
        ],
        [
         "cama_mesa_banho, artigos_de_festas",
         "1",
         "2024-04-14"
        ],
        [
         "utilidades_domesticas, moveis_decoracao, utilidades_domesticas",
         "1",
         "2024-04-14"
        ],
        [
         "eletrodomesticos_2, cama_mesa_banho",
         "1",
         "2024-04-14"
        ],
        [
         "esporte_lazer, automotivo",
         "1",
         "2024-04-14"
        ],
        [
         "cool_stuff, bebes, bebes",
         "1",
         "2024-04-14"
        ],
        [
         "automotivo, automotivo, telefonia",
         "1",
         "2024-04-14"
        ],
        [
         "eletronicos, moveis_decoracao, eletronicos",
         "1",
         "2024-04-14"
        ],
        [
         "moveis_escritorio, moveis_decoracao",
         "1",
         "2024-04-14"
        ],
        [
         "moveis_decoracao, automotivo, moveis_decoracao, moveis_decoracao",
         "1",
         "2024-04-14"
        ],
        [
         "papelaria, utilidades_domesticas",
         "1",
         "2024-04-14"
        ],
        [
         "artes_e_artesanato, brinquedos",
         "1",
         "2024-04-14"
        ],
        [
         "moveis_escritorio, esporte_lazer",
         "1",
         "2024-04-14"
        ],
        [
         "telefonia, relogios_presentes",
         "1",
         "2024-04-14"
        ],
        [
         "papelaria, relogios_presentes",
         "1",
         "2024-04-14"
        ],
        [
         "brinquedos, telefonia",
         "1",
         "2024-04-14"
        ],
        [
         "telefonia, cool_stuff",
         "1",
         "2024-04-14"
        ],
        [
         "industria_comercio_e_negocios, utilidades_domesticas",
         "1",
         "2024-04-14"
        ],
        [
         "industria_comercio_e_negocios, moveis_decoracao",
         "1",
         "2024-04-14"
        ],
        [
         "beleza_saude, utilidades_domesticas",
         "1",
         "2024-04-14"
        ],
        [
         "telefonia, automotivo",
         "1",
         "2024-04-14"
        ],
        [
         "informatica_acessorios, informatica_acessorios, ferramentas_jardim",
         "1",
         "2024-04-14"
        ],
        [
         "construcao_ferramentas_construcao, brinquedos",
         "1",
         "2024-04-14"
        ],
        [
         "utilidades_domesticas, cool_stuff",
         "1",
         "2024-04-14"
        ],
        [
         "moveis_decoracao, livros_tecnicos",
         "1",
         "2024-04-14"
        ],
        [
         "cool_stuff, moveis_decoracao",
         "1",
         "2024-04-14"
        ],
        [
         "eletronicos, eletroportateis",
         "1",
         "2024-04-14"
        ],
        [
         "bebes, moveis_quarto",
         "1",
         "2024-04-14"
        ],
        [
         "construcao_ferramentas_jardim, telefonia",
         "1",
         "2024-04-14"
        ],
        [
         "relogios_presentes, eletronicos",
         "1",
         "2024-04-14"
        ],
        [
         "cool_stuff, telefonia, telefonia",
         "1",
         "2024-04-14"
        ],
        [
         "moveis_escritorio, cama_mesa_banho",
         "1",
         "2024-04-14"
        ],
        [
         "utilidades_domesticas, casa_construcao, utilidades_domesticas",
         "1",
         "2024-04-14"
        ],
        [
         "fashion_bolsas_e_acessorios, beleza_saude",
         "1",
         "2024-04-14"
        ],
        [
         "instrumentos_musicais, relogios_presentes",
         "1",
         "2024-04-14"
        ],
        [
         "construcao_ferramentas_iluminacao, construcao_ferramentas_jardim",
         "1",
         "2024-04-14"
        ],
        [
         "bebes, malas_acessorios",
         "1",
         "2024-04-14"
        ],
        [
         "moveis_decoracao, casa_conforto",
         "1",
         "2024-04-14"
        ],
        [
         "utilidades_domesticas, bebidas",
         "1",
         "2024-04-14"
        ],
        [
         "moveis_quarto, moveis_decoracao",
         "1",
         "2024-04-14"
        ],
        [
         "informatica_acessorios, informatica_acessorios, eletronicos, informatica_acessorios",
         "1",
         "2024-04-14"
        ],
        [
         "moveis_decoracao, moveis_decoracao, construcao_ferramentas_iluminacao",
         "1",
         "2024-04-14"
        ],
        [
         "moveis_decoracao, beleza_saude",
         "1",
         "2024-04-14"
        ],
        [
         "construcao_ferramentas_jardim, pet_shop",
         "1",
         "2024-04-14"
        ],
        [
         "casa_construcao, eletronicos",
         "1",
         "2024-04-14"
        ],
        [
         "cama_mesa_banho, moveis_escritorio, cama_mesa_banho, cama_mesa_banho",
         "1",
         "2024-04-14"
        ],
        [
         "cama_mesa_banho, moveis_sala",
         "1",
         "2024-04-14"
        ],
        [
         "moveis_sala, moveis_decoracao, moveis_decoracao",
         "1",
         "2024-04-14"
        ],
        [
         "relogios_presentes, bebes",
         "1",
         "2024-04-14"
        ],
        [
         "moveis_escritorio, industria_comercio_e_negocios",
         "1",
         "2024-04-14"
        ],
        [
         "construcao_ferramentas_jardim, flores",
         "1",
         "2024-04-14"
        ],
        [
         "cama_mesa_banho, cama_mesa_banho, cama_mesa_banho, moveis_decoracao, moveis_decoracao",
         "1",
         "2024-04-14"
        ],
        [
         "ferramentas_jardim, ferramentas_jardim, cama_mesa_banho",
         "1",
         "2024-04-14"
        ],
        [
         "cama_mesa_banho, alimentos",
         "1",
         "2024-04-14"
        ],
        [
         "instrumentos_musicais, casa_conforto_2",
         "1",
         "2024-04-14"
        ],
        [
         "bebes, utilidades_domesticas",
         "1",
         "2024-04-14"
        ],
        [
         "ferramentas_jardim, pet_shop",
         "1",
         "2024-04-14"
        ],
        [
         "moveis_decoracao, casa_conforto, moveis_decoracao",
         "1",
         "2024-04-14"
        ],
        [
         "moveis_decoracao, perfumaria",
         "1",
         "2024-04-14"
        ],
        [
         "automotivo, artigos_de_natal",
         "1",
         "2024-04-14"
        ],
        [
         "construcao_ferramentas_jardim, livros_tecnicos",
         "1",
         "2024-04-14"
        ],
        [
         "construcao_ferramentas_seguranca, informatica_acessorios",
         "1",
         "2024-04-14"
        ],
        [
         "automotivo, bebidas",
         "1",
         "2024-04-14"
        ],
        [
         "construcao_ferramentas_jardim, cama_mesa_banho",
         "1",
         "2024-04-14"
        ],
        [
         "perfumaria, brinquedos, perfumaria",
         "1",
         "2024-04-14"
        ],
        [
         "beleza_saude, beleza_saude, cool_stuff, beleza_saude",
         "1",
         "2024-04-14"
        ],
        [
         "casa_construcao, construcao_ferramentas_seguranca, casa_construcao, casa_construcao",
         "1",
         "2024-04-14"
        ],
        [
         "moveis_decoracao, moveis_decoracao, ferramentas_jardim",
         "1",
         "2024-04-14"
        ],
        [
         "pet_shop, beleza_saude",
         "1",
         "2024-04-14"
        ],
        [
         "moveis_decoracao, esporte_lazer",
         "1",
         "2024-04-14"
        ],
        [
         "pet_shop, alimentos",
         "1",
         "2024-04-14"
        ],
        [
         "casa_conforto, utilidades_domesticas",
         "1",
         "2024-04-14"
        ],
        [
         "ferramentas_jardim, automotivo",
         "1",
         "2024-04-14"
        ],
        [
         "casa_construcao, construcao_ferramentas_seguranca",
         "1",
         "2024-04-14"
        ],
        [
         "utilidades_domesticas, automotivo",
         "1",
         "2024-04-14"
        ],
        [
         "eletronicos, malas_acessorios",
         "1",
         "2024-04-14"
        ],
        [
         "utilidades_domesticas, bebes",
         "1",
         "2024-04-14"
        ],
        [
         "moveis_cozinha_area_de_servico_jantar_e_jardim, utilidades_domesticas",
         "1",
         "2024-04-14"
        ],
        [
         "cine_foto, esporte_lazer",
         "1",
         "2024-04-14"
        ],
        [
         "musica, perfumaria",
         "1",
         "2024-04-14"
        ],
        [
         "moveis_decoracao, industria_comercio_e_negocios",
         "1",
         "2024-04-14"
        ],
        [
         "beleza_saude, brinquedos",
         "1",
         "2024-04-14"
        ],
        [
         "cama_mesa_banho, moveis_decoracao, cama_mesa_banho, moveis_decoracao",
         "1",
         "2024-04-14"
        ],
        [
         "malas_acessorios, automotivo",
         "1",
         "2024-04-14"
        ],
        [
         "moveis_sala, cama_mesa_banho",
         "1",
         "2024-04-14"
        ],
        [
         "utilidades_domesticas, livros_interesse_geral",
         "1",
         "2024-04-14"
        ],
        [
         "informatica_acessorios, papelaria",
         "1",
         "2024-04-14"
        ],
        [
         "eletroportateis, moveis_decoracao",
         "1",
         "2024-04-14"
        ],
        [
         "cama_mesa_banho, moveis_escritorio, moveis_escritorio",
         "1",
         "2024-04-14"
        ],
        [
         "utilidades_domesticas, dvds_blu_ray",
         "1",
         "2024-04-14"
        ],
        [
         "fashion_bolsas_e_acessorios, bebes",
         "1",
         "2024-04-14"
        ],
        [
         "informatica_acessorios, moveis_decoracao",
         "1",
         "2024-04-14"
        ],
        [
         "papelaria, esporte_lazer",
         "1",
         "2024-04-14"
        ],
        [
         "informatica_acessorios, cama_mesa_banho",
         "1",
         "2024-04-14"
        ],
        [
         "la_cuisine, bebes",
         "1",
         "2024-04-14"
        ],
        [
         "fashion_roupa_feminina, fashion_esporte",
         "1",
         "2024-04-14"
        ],
        [
         "construcao_ferramentas_iluminacao, casa_construcao",
         "1",
         "2024-04-14"
        ],
        [
         "perfumaria, eletronicos",
         "1",
         "2024-04-14"
        ],
        [
         "moveis_decoracao, artes, moveis_decoracao, moveis_decoracao",
         "1",
         "2024-04-14"
        ],
        [
         "relogios_presentes, brinquedos",
         "1",
         "2024-04-14"
        ],
        [
         "casa_conforto, cama_mesa_banho, cama_mesa_banho",
         "1",
         "2024-04-14"
        ],
        [
         "eletronicos, relogios_presentes",
         "1",
         "2024-04-14"
        ],
        [
         "beleza_saude, livros_tecnicos",
         "1",
         "2024-04-14"
        ],
        [
         "moveis_decoracao, moveis_sala",
         "1",
         "2024-04-14"
        ],
        [
         "fashion_bolsas_e_acessorios, cama_mesa_banho",
         "1",
         "2024-04-14"
        ],
        [
         "telefonia, eletroportateis",
         "1",
         "2024-04-14"
        ],
        [
         "perfumaria, moveis_decoracao",
         "1",
         "2024-04-14"
        ],
        [
         "esporte_lazer, moveis_escritorio",
         "1",
         "2024-04-14"
        ],
        [
         "dvds_blu_ray, informatica_acessorios",
         "1",
         "2024-04-14"
        ],
        [
         "utilidades_domesticas, relogios_presentes",
         "1",
         "2024-04-14"
        ],
        [
         "bebes, fashion_calcados",
         "1",
         "2024-04-14"
        ],
        [
         "telefonia, eletronicos",
         "1",
         "2024-04-14"
        ],
        [
         "relogios_presentes, cool_stuff",
         "1",
         "2024-04-14"
        ],
        [
         "utilidades_domesticas, moveis_cozinha_area_de_servico_jantar_e_jardim",
         "1",
         "2024-04-14"
        ],
        [
         "utilidades_domesticas, ferramentas_jardim, ferramentas_jardim",
         "1",
         "2024-04-14"
        ],
        [
         "eletronicos, perfumaria",
         "1",
         "2024-04-14"
        ],
        [
         "cama_mesa_banho, construcao_ferramentas_jardim",
         "1",
         "2024-04-14"
        ],
        [
         "moveis_decoracao, moveis_decoracao, cama_mesa_banho, moveis_decoracao",
         "1",
         "2024-04-14"
        ],
        [
         "eletronicos, telefonia",
         "1",
         "2024-04-14"
        ],
        [
         "eletronicos, ferramentas_jardim",
         "1",
         "2024-04-14"
        ],
        [
         "casa_conforto, moveis_decoracao, moveis_decoracao",
         "1",
         "2024-04-14"
        ],
        [
         "relogios_presentes, automotivo",
         "1",
         "2024-04-14"
        ],
        [
         "construcao_ferramentas_seguranca, bebes",
         "1",
         "2024-04-14"
        ],
        [
         "consoles_games, automotivo",
         "1",
         "2024-04-14"
        ],
        [
         "telefonia, telefonia_fixa",
         "1",
         "2024-04-14"
        ],
        [
         "cool_stuff, pc_gamer",
         "1",
         "2024-04-14"
        ],
        [
         "bebes, cama_mesa_banho, cama_mesa_banho",
         "1",
         "2024-04-14"
        ],
        [
         "eletroportateis, beleza_saude",
         "1",
         "2024-04-14"
        ],
        [
         "moveis_decoracao, automotivo",
         "1",
         "2024-04-14"
        ],
        [
         "ferramentas_jardim, telefonia",
         "1",
         "2024-04-14"
        ],
        [
         "perfumaria, relogios_presentes",
         "1",
         "2024-04-14"
        ],
        [
         "relogios_presentes, papelaria",
         "1",
         "2024-04-14"
        ],
        [
         "relogios_presentes, casa_conforto",
         "1",
         "2024-04-14"
        ],
        [
         "automotivo, utilidades_domesticas",
         "1",
         "2024-04-14"
        ],
        [
         "relogios_presentes, telefonia",
         "1",
         "2024-04-14"
        ],
        [
         "construcao_ferramentas_construcao, automotivo",
         "1",
         "2024-04-14"
        ],
        [
         "moveis_escritorio, informatica_acessorios",
         "1",
         "2024-04-14"
        ],
        [
         "moveis_decoracao, bebes, moveis_decoracao",
         "1",
         "2024-04-14"
        ],
        [
         "utilidades_domesticas, eletroportateis, utilidades_domesticas",
         "1",
         "2024-04-14"
        ],
        [
         "construcao_ferramentas_construcao, beleza_saude",
         "1",
         "2024-04-14"
        ],
        [
         "beleza_saude, cool_stuff",
         "1",
         "2024-04-14"
        ],
        [
         "instrumentos_musicais, malas_acessorios",
         "1",
         "2024-04-14"
        ],
        [
         "bebes, bebes, utilidades_domesticas",
         "1",
         "2024-04-14"
        ],
        [
         "beleza_saude, alimentos, beleza_saude",
         "1",
         "2024-04-14"
        ],
        [
         "consoles_games, esporte_lazer",
         "1",
         "2024-04-14"
        ],
        [
         "ferramentas_jardim, esporte_lazer, ferramentas_jardim",
         "1",
         "2024-04-14"
        ],
        [
         "informatica_acessorios, malas_acessorios",
         "1",
         "2024-04-14"
        ],
        [
         "alimentos_bebidas, utilidades_domesticas",
         "1",
         "2024-04-14"
        ],
        [
         "cool_stuff, tablets_impressao_imagem",
         "1",
         "2024-04-14"
        ],
        [
         "malas_acessorios, informatica_acessorios",
         "1",
         "2024-04-14"
        ],
        [
         "automotivo, beleza_saude",
         "1",
         "2024-04-14"
        ],
        [
         "beleza_saude, cama_mesa_banho, cama_mesa_banho",
         "1",
         "2024-04-14"
        ],
        [
         "relogios_presentes, ferramentas_jardim",
         "1",
         "2024-04-14"
        ],
        [
         "cama_mesa_banho, bebes, bebes",
         "1",
         "2024-04-14"
        ],
        [
         "bebidas, utilidades_domesticas",
         "1",
         "2024-04-14"
        ],
        [
         "cama_mesa_banho, moveis_escritorio",
         "1",
         "2024-04-14"
        ],
        [
         "musica, livros_tecnicos",
         "1",
         "2024-04-14"
        ],
        [
         "moveis_decoracao, eletronicos",
         "1",
         "2024-04-14"
        ],
        [
         "tablets_impressao_imagem, cool_stuff",
         "1",
         "2024-04-14"
        ],
        [
         "utilidades_domesticas, consoles_games",
         "1",
         "2024-04-14"
        ],
        [
         "cool_stuff, livros_interesse_geral",
         "1",
         "2024-04-14"
        ],
        [
         "livros_interesse_geral, market_place",
         "1",
         "2024-04-14"
        ],
        [
         "flores, moveis_decoracao, moveis_decoracao, moveis_decoracao",
         "1",
         "2024-04-14"
        ],
        [
         "moveis_escritorio, moveis_sala",
         "1",
         "2024-04-14"
        ],
        [
         "papelaria, beleza_saude",
         "1",
         "2024-04-14"
        ],
        [
         "construcao_ferramentas_jardim, ferramentas_jardim",
         "1",
         "2024-04-14"
        ],
        [
         "consoles_games, brinquedos",
         "1",
         "2024-04-14"
        ],
        [
         "automotivo, telefonia",
         "1",
         "2024-04-14"
        ],
        [
         "moveis_decoracao, construcao_ferramentas_construcao",
         "1",
         "2024-04-14"
        ],
        [
         "construcao_ferramentas_jardim, casa_construcao",
         "1",
         "2024-04-14"
        ],
        [
         "esporte_lazer, alimentos_bebidas",
         "1",
         "2024-04-14"
        ],
        [
         "cama_mesa_banho, construcao_ferramentas_seguranca",
         "1",
         "2024-04-14"
        ],
        [
         "papelaria, brinquedos",
         "1",
         "2024-04-14"
        ],
        [
         "informatica_acessorios, relogios_presentes",
         "1",
         "2024-04-14"
        ],
        [
         "ferramentas_jardim, automotivo, ferramentas_jardim",
         "1",
         "2024-04-14"
        ],
        [
         "moveis_decoracao, pet_shop",
         "1",
         "2024-04-14"
        ],
        [
         "automotivo, cama_mesa_banho",
         "1",
         "2024-04-14"
        ],
        [
         "moveis_sala, brinquedos",
         "1",
         "2024-04-14"
        ],
        [
         "climatizacao, informatica_acessorios",
         "1",
         "2024-04-14"
        ],
        [
         "moveis_decoracao, market_place",
         "1",
         "2024-04-14"
        ],
        [
         "esporte_lazer, bebes",
         "1",
         "2024-04-14"
        ],
        [
         "informatica_acessorios, construcao_ferramentas_construcao",
         "1",
         "2024-04-14"
        ],
        [
         "cool_stuff, relogios_presentes",
         "1",
         "2024-04-14"
        ],
        [
         "alimentos, eletronicos",
         "1",
         "2024-04-14"
        ],
        [
         "moveis_decoracao, pcs",
         "1",
         "2024-04-14"
        ],
        [
         "moveis_decoracao, cama_mesa_banho, moveis_decoracao",
         "1",
         "2024-04-14"
        ],
        [
         "utilidades_domesticas, market_place",
         "1",
         "2024-04-14"
        ],
        [
         "relogios_presentes, beleza_saude",
         "1",
         "2024-04-14"
        ],
        [
         "esporte_lazer, alimentos, alimentos",
         "1",
         "2024-04-14"
        ],
        [
         "relogios_presentes, audio",
         "1",
         "2024-04-14"
        ],
        [
         "livros_interesse_geral, bebes",
         "1",
         "2024-04-14"
        ],
        [
         "market_place, livros_interesse_geral",
         "1",
         "2024-04-14"
        ],
        [
         "malas_acessorios, telefonia",
         "1",
         "2024-04-14"
        ],
        [
         "esporte_lazer, moveis_decoracao",
         "1",
         "2024-04-14"
        ],
        [
         "utilidades_domesticas, construcao_ferramentas_construcao",
         "1",
         "2024-04-14"
        ],
        [
         "market_place, beleza_saude",
         "1",
         "2024-04-14"
        ],
        [
         "malas_acessorios, malas_acessorios, papelaria",
         "1",
         "2024-04-14"
        ],
        [
         "fashion_esporte, fashion_bolsas_e_acessorios",
         "1",
         "2024-04-14"
        ],
        [
         "tablets_impressao_imagem, informatica_acessorios",
         "1",
         "2024-04-14"
        ],
        [
         "cool_stuff, cool_stuff, bebes",
         "1",
         "2024-04-14"
        ],
        [
         "brinquedos, moveis_cozinha_area_de_servico_jantar_e_jardim",
         "1",
         "2024-04-14"
        ],
        [
         "eletronicos, utilidades_domesticas, utilidades_domesticas, utilidades_domesticas, utilidades_domesticas, utilidades_domesticas",
         "1",
         "2024-04-14"
        ],
        [
         "ferramentas_jardim, relogios_presentes",
         "1",
         "2024-04-14"
        ],
        [
         "moveis_decoracao, moveis_cozinha_area_de_servico_jantar_e_jardim",
         "1",
         "2024-04-14"
        ],
        [
         "market_place, utilidades_domesticas",
         "1",
         "2024-04-14"
        ],
        [
         "ferramentas_jardim, la_cuisine",
         "1",
         "2024-04-14"
        ],
        [
         "cama_mesa_banho, moveis_quarto",
         "1",
         "2024-04-14"
        ],
        [
         "market_place, instrumentos_musicais",
         "1",
         "2024-04-14"
        ],
        [
         "construcao_ferramentas_iluminacao, esporte_lazer",
         "1",
         "2024-04-14"
        ],
        [
         "pet_shop, construcao_ferramentas_construcao",
         "1",
         "2024-04-14"
        ],
        [
         "cool_stuff, construcao_ferramentas_seguranca",
         "1",
         "2024-04-14"
        ],
        [
         "ferramentas_jardim, moveis_sala",
         "1",
         "2024-04-14"
        ],
        [
         "esporte_lazer, eletroportateis, esporte_lazer",
         "1",
         "2024-04-14"
        ],
        [
         "informatica_acessorios, cool_stuff",
         "1",
         "2024-04-14"
        ],
        [
         "cama_mesa_banho, market_place, cama_mesa_banho",
         "1",
         "2024-04-14"
        ],
        [
         "pet_shop, perfumaria",
         "1",
         "2024-04-14"
        ],
        [
         "sinalizacao_e_seguranca, bebes",
         "1",
         "2024-04-14"
        ],
        [
         "automotivo, eletronicos",
         "1",
         "2024-04-14"
        ],
        [
         "relogios_presentes, construcao_ferramentas_construcao",
         "1",
         "2024-04-14"
        ],
        [
         "esporte_lazer, cama_mesa_banho, cama_mesa_banho",
         "1",
         "2024-04-14"
        ],
        [
         "cool_stuff, esporte_lazer",
         "1",
         "2024-04-14"
        ],
        [
         "beleza_saude, market_place",
         "1",
         "2024-04-14"
        ],
        [
         "brinquedos, consoles_games",
         "1",
         "2024-04-14"
        ],
        [
         "fashion_calcados, bebes",
         "1",
         "2024-04-14"
        ]
       ],
       "datasetInfos": [],
       "dbfsResultPath": null,
       "isJsonSchema": true,
       "metadata": {
        "dataframeName": "_sqldf",
        "executionCount": 105
       },
       "overflow": false,
       "plotOptions": {
        "customPlotOptions": {},
        "displayType": "table",
        "pivotAggregation": null,
        "pivotColumns": null,
        "xColumns": null,
        "yColumns": null
       },
       "removedWidgets": [],
       "schema": [
        {
         "metadata": "{}",
         "name": "categoria_produtos",
         "type": "\"string\""
        },
        {
         "metadata": "{}",
         "name": "total",
         "type": "\"string\""
        },
        {
         "metadata": "{}",
         "name": "date_ref_carga",
         "type": "\"date\""
        }
       ],
       "type": "table"
      }
     },
     "output_type": "display_data"
    }
   ],
   "source": [
    "%sql\n",
    "\n",
    "WITH\n",
    "orders AS (\n",
    "  SELECT DISTINCT order_id, product_id\n",
    "  FROM datum.silver.olist_order_items\n",
    "),\n",
    "\n",
    "agrupado AS (\n",
    "  SELECT order_id, COLLECT_LIST(product_category_name) AS product_category_name\n",
    "  FROM orders AS o\n",
    "    LEFT JOIN datum.silver.olist_products AS p\n",
    "      ON o.product_id = p.product_id\n",
    "  GROUP BY order_id\n",
    "  HAVING SIZE(COLLECT_SET(p.product_category_name)) == 2)\n",
    "\n",
    "SELECT REPLACE(REPLACE(CAST(product_category_name AS STRING), '[', ''), ']', '') AS categoria_produtos, \n",
    "       CAST(COUNT(*) AS STRING) AS total,\n",
    "       CAST(NOW() AS DATE) AS date_ref_carga\n",
    "FROM agrupado\n",
    "GROUP BY product_category_name\n",
    "ORDER BY COUNT(*) DESC"
   ]
  },
  {
   "cell_type": "markdown",
   "metadata": {
    "application/vnd.databricks.v1+cell": {
     "cellMetadata": {},
     "inputWidgets": {},
     "nuid": "d6add25f-8cf7-4e24-aa52-a7dddd08d139",
     "showTitle": false,
     "title": ""
    }
   },
   "source": [
    "---\n",
    "# 5. Delta Lake"
   ]
  },
  {
   "cell_type": "code",
   "execution_count": 0,
   "metadata": {
    "application/vnd.databricks.v1+cell": {
     "cellMetadata": {
      "byteLimit": 2048000,
      "implicitDf": true,
      "rowLimit": 10000
     },
     "inputWidgets": {},
     "nuid": "167e1b13-3aa8-4982-b340-86335552efcc",
     "showTitle": false,
     "title": ""
    }
   },
   "outputs": [
    {
     "output_type": "display_data",
     "data": {
      "text/html": [
       "<style scoped>\n",
       "  .table-result-container {\n",
       "    max-height: 300px;\n",
       "    overflow: auto;\n",
       "  }\n",
       "  table, th, td {\n",
       "    border: 1px solid black;\n",
       "    border-collapse: collapse;\n",
       "  }\n",
       "  th, td {\n",
       "    padding: 5px;\n",
       "  }\n",
       "  th {\n",
       "    text-align: left;\n",
       "  }\n",
       "</style><div class='table-result-container'><table class='table-result'><thead style='background-color: white'><tr></tr></thead><tbody></tbody></table></div>"
      ]
     },
     "metadata": {
      "application/vnd.databricks.v1+output": {
       "addedWidgets": {},
       "aggData": [],
       "aggError": "",
       "aggOverflow": false,
       "aggSchema": [],
       "aggSeriesLimitReached": false,
       "aggType": "",
       "arguments": {},
       "columnCustomDisplayInfos": {},
       "data": [],
       "datasetInfos": [],
       "dbfsResultPath": null,
       "isJsonSchema": true,
       "metadata": {
        "dataframeName": null
       },
       "overflow": false,
       "plotOptions": {
        "customPlotOptions": {},
        "displayType": "table",
        "pivotAggregation": null,
        "pivotColumns": null,
        "xColumns": null,
        "yColumns": null
       },
       "removedWidgets": [],
       "schema": [],
       "type": "table"
      }
     },
     "output_type": "display_data"
    }
   ],
   "source": [
    "%sql\n",
    "\n",
    "USE CATALOG datum"
   ]
  },
  {
   "cell_type": "code",
   "execution_count": 0,
   "metadata": {
    "application/vnd.databricks.v1+cell": {
     "cellMetadata": {
      "byteLimit": 2048000,
      "implicitDf": true,
      "rowLimit": 10000
     },
     "inputWidgets": {},
     "nuid": "d650c3dd-5f4e-4069-8566-ef9d22c7ebbe",
     "showTitle": false,
     "title": ""
    }
   },
   "outputs": [
    {
     "output_type": "display_data",
     "data": {
      "text/html": [
       "<style scoped>\n",
       "  .table-result-container {\n",
       "    max-height: 300px;\n",
       "    overflow: auto;\n",
       "  }\n",
       "  table, th, td {\n",
       "    border: 1px solid black;\n",
       "    border-collapse: collapse;\n",
       "  }\n",
       "  th, td {\n",
       "    padding: 5px;\n",
       "  }\n",
       "  th {\n",
       "    text-align: left;\n",
       "  }\n",
       "</style><div class='table-result-container'><table class='table-result'><thead style='background-color: white'><tr></tr></thead><tbody></tbody></table></div>"
      ]
     },
     "metadata": {
      "application/vnd.databricks.v1+output": {
       "addedWidgets": {},
       "aggData": [],
       "aggError": "",
       "aggOverflow": false,
       "aggSchema": [],
       "aggSeriesLimitReached": false,
       "aggType": "",
       "arguments": {},
       "columnCustomDisplayInfos": {},
       "data": [],
       "datasetInfos": [],
       "dbfsResultPath": null,
       "isJsonSchema": true,
       "metadata": {
        "dataframeName": null
       },
       "overflow": false,
       "plotOptions": {
        "customPlotOptions": {},
        "displayType": "table",
        "pivotAggregation": null,
        "pivotColumns": null,
        "xColumns": null,
        "yColumns": null
       },
       "removedWidgets": [],
       "schema": [],
       "type": "table"
      }
     },
     "output_type": "display_data"
    }
   ],
   "source": [
    "%sql\n",
    "\n",
    "USE DATABASE gold"
   ]
  },
  {
   "cell_type": "code",
   "execution_count": 0,
   "metadata": {
    "application/vnd.databricks.v1+cell": {
     "cellMetadata": {
      "byteLimit": 2048000,
      "implicitDf": true,
      "rowLimit": 10000
     },
     "inputWidgets": {},
     "nuid": "45e71855-1c65-4404-bb5c-f1b298ff3040",
     "showTitle": false,
     "title": ""
    }
   },
   "outputs": [
    {
     "output_type": "display_data",
     "data": {
      "text/html": [
       "<style scoped>\n",
       "  .table-result-container {\n",
       "    max-height: 300px;\n",
       "    overflow: auto;\n",
       "  }\n",
       "  table, th, td {\n",
       "    border: 1px solid black;\n",
       "    border-collapse: collapse;\n",
       "  }\n",
       "  th, td {\n",
       "    padding: 5px;\n",
       "  }\n",
       "  th {\n",
       "    text-align: left;\n",
       "  }\n",
       "</style><div class='table-result-container'><table class='table-result'><thead style='background-color: white'><tr></tr></thead><tbody></tbody></table></div>"
      ]
     },
     "metadata": {
      "application/vnd.databricks.v1+output": {
       "addedWidgets": {},
       "aggData": [],
       "aggError": "",
       "aggOverflow": false,
       "aggSchema": [],
       "aggSeriesLimitReached": false,
       "aggType": "",
       "arguments": {},
       "columnCustomDisplayInfos": {},
       "data": [],
       "datasetInfos": [],
       "dbfsResultPath": null,
       "isJsonSchema": true,
       "metadata": {
        "dataframeName": null
       },
       "overflow": false,
       "plotOptions": {
        "customPlotOptions": {},
        "displayType": "table",
        "pivotAggregation": null,
        "pivotColumns": null,
        "xColumns": null,
        "yColumns": null
       },
       "removedWidgets": [],
       "schema": [],
       "type": "table"
      }
     },
     "output_type": "display_data"
    }
   ],
   "source": [
    "%sql\n",
    "\n",
    "CREATE TABLE IF NOT EXISTS olist_ml_pares_produtos\n",
    "(\n",
    "  categoria_produtos STRING,\n",
    "  freq               STRING,\n",
    "  date_ref_carga     DATE\n",
    ")\n",
    "USING DELTA\n",
    "LOCATION 'abfss://unity-datum@datumunity.dfs.core.windows.net/gold/olist_ml_pares_produtos'\n",
    "PARTITIONED BY (date_ref_carga)"
   ]
  },
  {
   "cell_type": "code",
   "execution_count": 0,
   "metadata": {
    "application/vnd.databricks.v1+cell": {
     "cellMetadata": {
      "byteLimit": 2048000,
      "rowLimit": 10000
     },
     "inputWidgets": {},
     "nuid": "71792732-7eca-4277-babb-269b34356fde",
     "showTitle": false,
     "title": ""
    }
   },
   "outputs": [],
   "source": [
    "if df_most_common_product_pair.count() != 0 and df_most_common_product_pair is not None:\n",
    "    df_most_common_product_pair.write.format('delta').mode('overwrite').save('abfss://unity-datum@datumunity.dfs.core.windows.net/gold/olist_ml_pares_produtos')"
   ]
  },
  {
   "cell_type": "code",
   "execution_count": 0,
   "metadata": {
    "application/vnd.databricks.v1+cell": {
     "cellMetadata": {
      "byteLimit": 2048000,
      "implicitDf": true,
      "rowLimit": 10000
     },
     "inputWidgets": {},
     "nuid": "1e5054b7-b840-411e-9fcc-110f732e3385",
     "showTitle": false,
     "title": ""
    }
   },
   "outputs": [
    {
     "output_type": "display_data",
     "data": {
      "text/html": [
       "<style scoped>\n",
       "  .table-result-container {\n",
       "    max-height: 300px;\n",
       "    overflow: auto;\n",
       "  }\n",
       "  table, th, td {\n",
       "    border: 1px solid black;\n",
       "    border-collapse: collapse;\n",
       "  }\n",
       "  th, td {\n",
       "    padding: 5px;\n",
       "  }\n",
       "  th {\n",
       "    text-align: left;\n",
       "  }\n",
       "</style><div class='table-result-container'><table class='table-result'><thead style='background-color: white'><tr></tr></thead><tbody></tbody></table></div>"
      ]
     },
     "metadata": {
      "application/vnd.databricks.v1+output": {
       "addedWidgets": {},
       "aggData": [],
       "aggError": "",
       "aggOverflow": false,
       "aggSchema": [],
       "aggSeriesLimitReached": false,
       "aggType": "",
       "arguments": {},
       "columnCustomDisplayInfos": {},
       "data": [],
       "datasetInfos": [],
       "dbfsResultPath": null,
       "isJsonSchema": true,
       "metadata": {
        "dataframeName": null
       },
       "overflow": false,
       "plotOptions": {
        "customPlotOptions": {},
        "displayType": "table",
        "pivotAggregation": null,
        "pivotColumns": null,
        "xColumns": null,
        "yColumns": null
       },
       "removedWidgets": [],
       "schema": [],
       "type": "table"
      }
     },
     "output_type": "display_data"
    }
   ],
   "source": [
    "%sql\n",
    "\n",
    "CREATE TABLE IF NOT EXISTS olist_pares_produtos\n",
    "(\n",
    "  categoria_produtos STRING,\n",
    "  total              STRING,\n",
    "  date_ref_carga     DATE\n",
    ")\n",
    "USING DELTA\n",
    "LOCATION 'abfss://unity-datum@datumunity.dfs.core.windows.net/gold/olist_pares_produtos'\n",
    "PARTITIONED BY (date_ref_carga)"
   ]
  },
  {
   "cell_type": "code",
   "execution_count": 0,
   "metadata": {
    "application/vnd.databricks.v1+cell": {
     "cellMetadata": {
      "byteLimit": 2048000,
      "rowLimit": 10000
     },
     "inputWidgets": {},
     "nuid": "ce5d31dd-5c8e-4928-928f-ca770e063f22",
     "showTitle": false,
     "title": ""
    }
   },
   "outputs": [],
   "source": [
    "if _sqldf.count() != 0 and _sqldf is not None:\n",
    "    _sqldf.write.format('delta').mode('overwrite').save('abfss://unity-datum@datumunity.dfs.core.windows.net/gold/olist_pares_produtos')"
   ]
  },
  {
   "cell_type": "code",
   "execution_count": 0,
   "metadata": {
    "application/vnd.databricks.v1+cell": {
     "cellMetadata": {},
     "inputWidgets": {},
     "nuid": "cd499beb-ae7c-4e36-a76c-b547e324b5a4",
     "showTitle": false,
     "title": ""
    }
   },
   "outputs": [],
   "source": [
    "del df_most_common_product_pair, _sqldf"
   ]
  }
 ],
 "metadata": {
  "application/vnd.databricks.v1+notebook": {
   "dashboards": [],
   "language": "python",
   "notebookMetadata": {
    "mostRecentlyExecutedCommandWithImplicitDF": {
     "commandId": 2794799031482248,
     "dataframes": [
      "_sqldf"
     ]
    },
    "pythonIndentUnit": 4
   },
   "notebookName": "PARES DE PRODUTO",
   "widgets": {}
  }
 },
 "nbformat": 4,
 "nbformat_minor": 0
}
