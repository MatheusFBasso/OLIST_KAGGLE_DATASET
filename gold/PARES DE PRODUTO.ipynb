{
 "cells": [
  {
   "cell_type": "markdown",
   "metadata": {
    "application/vnd.databricks.v1+cell": {
     "cellMetadata": {
      "byteLimit": 2048000,
      "rowLimit": 10000
     },
     "inputWidgets": {},
     "nuid": "23c4b4ec-210f-46a4-81aa-fc49a3c6dc5d",
     "showTitle": false,
     "title": ""
    }
   },
   "source": [
    "\n",
    "# 1. Bibliotecas"
   ]
  },
  {
   "cell_type": "code",
   "execution_count": 0,
   "metadata": {
    "application/vnd.databricks.v1+cell": {
     "cellMetadata": {
      "byteLimit": 2048000,
      "rowLimit": 10000
     },
     "inputWidgets": {},
     "nuid": "2c7ee10c-b824-4f83-9f3c-9461e9b92086",
     "showTitle": false,
     "title": ""
    }
   },
   "outputs": [],
   "source": [
    "from pyspark.ml.fpm import FPGrowth\n",
    "from datetime import datetime\n",
    "from pyspark.sql.types import DateType, StringType, IntegerType\n",
    "from pyspark.sql.functions import size, col, collect_list, collect_set, concat_ws, lit, udf"
   ]
  },
  {
   "cell_type": "markdown",
   "metadata": {
    "application/vnd.databricks.v1+cell": {
     "cellMetadata": {
      "byteLimit": 2048000,
      "rowLimit": 10000
     },
     "inputWidgets": {},
     "nuid": "1cbadb5d-88ed-49dd-b65a-764fa7bb399a",
     "showTitle": false,
     "title": ""
    }
   },
   "source": [
    "---\n",
    "# 2. Importando Dados"
   ]
  },
  {
   "cell_type": "code",
   "execution_count": 0,
   "metadata": {
    "application/vnd.databricks.v1+cell": {
     "cellMetadata": {
      "byteLimit": 2048000,
      "rowLimit": 10000
     },
     "inputWidgets": {},
     "nuid": "7e4bdd99-43bc-4e6d-adc9-032e54afaa07",
     "showTitle": false,
     "title": ""
    }
   },
   "outputs": [],
   "source": [
    "df_order_items = spark.table('datum.silver.olist_order_items')\n",
    "df_products = spark.table('datum.silver.olist_products')\n",
    "df_products = df_products.dropna(subset=['product_category_name'])"
   ]
  },
  {
   "cell_type": "markdown",
   "metadata": {
    "application/vnd.databricks.v1+cell": {
     "cellMetadata": {
      "byteLimit": 2048000,
      "rowLimit": 10000
     },
     "inputWidgets": {},
     "nuid": "2c76514a-d706-4dff-aa03-f59c0a7ceb73",
     "showTitle": false,
     "title": ""
    }
   },
   "source": [
    "---\n",
    "# 3. Aplicando modelo de ML\n",
    "\n",
    "Foi usado o seguinte artigo como base para aplicação de um modelo já existente dentro do PySpark chamado de FPGrowth\n",
    "\n",
    "<a href=\"https://www.databricks.com/blog/2018/09/18/simplify-market-basket-analysis-using-fp-growth-on-databricks.html\">Marker Basket</a>"
   ]
  },
  {
   "cell_type": "code",
   "execution_count": 0,
   "metadata": {
    "application/vnd.databricks.v1+cell": {
     "cellMetadata": {
      "byteLimit": 2048000,
      "rowLimit": 10000
     },
     "inputWidgets": {},
     "nuid": "c3c8f892-f5cc-490e-b2bb-14b7d2f8129a",
     "showTitle": false,
     "title": ""
    }
   },
   "outputs": [],
   "source": [
    "df_join = (df_order_items.join(\n",
    "    df_products, \n",
    "    df_order_items.product_id == df_products.product_id, \n",
    "    how='left').\n",
    "           drop(df_products.product_id))"
   ]
  },
  {
   "cell_type": "code",
   "execution_count": 0,
   "metadata": {
    "application/vnd.databricks.v1+cell": {
     "cellMetadata": {
      "byteLimit": 2048000,
      "rowLimit": 10000
     },
     "inputWidgets": {},
     "nuid": "30f13563-0943-4cc0-af68-66271e5e5759",
     "showTitle": false,
     "title": ""
    }
   },
   "outputs": [],
   "source": [
    "df_grouped = (df_join\n",
    "              .groupBy('order_id')\n",
    "              .agg(collect_set('product_category_name').alias('products')))"
   ]
  },
  {
   "cell_type": "code",
   "execution_count": 0,
   "metadata": {
    "application/vnd.databricks.v1+cell": {
     "cellMetadata": {
      "byteLimit": 2048000,
      "rowLimit": 10000
     },
     "inputWidgets": {},
     "nuid": "a5a2b992-b9ad-424a-a280-64ca05563acc",
     "showTitle": false,
     "title": ""
    }
   },
   "outputs": [],
   "source": [
    "fpGrowth = FPGrowth(itemsCol='products', minSupport=0.00001, minConfidence=0.001)\n",
    "model = fpGrowth.fit(df_grouped)"
   ]
  },
  {
   "cell_type": "code",
   "execution_count": 0,
   "metadata": {
    "application/vnd.databricks.v1+cell": {
     "cellMetadata": {
      "byteLimit": 2048000,
      "rowLimit": 10000
     },
     "inputWidgets": {},
     "nuid": "e08b7ae1-ea96-4d56-abcd-5f51a8ffadae",
     "showTitle": false,
     "title": ""
    }
   },
   "outputs": [],
   "source": [
    "frequent_itemsets = model.freqItemsets\n",
    "df_most_common_product_pair = frequent_itemsets.filter(size(frequent_itemsets['items']) == 2)"
   ]
  },
  {
   "cell_type": "code",
   "execution_count": 0,
   "metadata": {
    "application/vnd.databricks.v1+cell": {
     "cellMetadata": {
      "byteLimit": 2048000,
      "rowLimit": 10000
     },
     "inputWidgets": {},
     "nuid": "c41792a7-9363-435d-ad3b-79f7e591fb42",
     "showTitle": false,
     "title": ""
    }
   },
   "outputs": [],
   "source": [
    "association_rules = model.associationRules"
   ]
  },
  {
   "cell_type": "code",
   "execution_count": 0,
   "metadata": {
    "application/vnd.databricks.v1+cell": {
     "cellMetadata": {
      "byteLimit": 2048000,
      "rowLimit": 10000
     },
     "inputWidgets": {},
     "nuid": "7519258e-7759-4149-b39a-0c63af42db07",
     "showTitle": false,
     "title": ""
    }
   },
   "outputs": [
    {
     "output_type": "display_data",
     "data": {
      "text/html": [
       "<style scoped>\n",
       "  .table-result-container {\n",
       "    max-height: 300px;\n",
       "    overflow: auto;\n",
       "  }\n",
       "  table, th, td {\n",
       "    border: 1px solid black;\n",
       "    border-collapse: collapse;\n",
       "  }\n",
       "  th, td {\n",
       "    padding: 5px;\n",
       "  }\n",
       "  th {\n",
       "    text-align: left;\n",
       "  }\n",
       "</style><div class='table-result-container'><table class='table-result'><thead style='background-color: white'><tr><th>antecedent</th><th>consequent</th><th>confidence</th><th>lift</th><th>support</th></tr></thead><tbody><tr><td>List(consoles_games)</td><td>List(brinquedos)</td><td>0.0018832391713747645</td><td>0.047815665487097925</td><td>2.0270407232481302E-5</td></tr><tr><td>List(relogios_presentes)</td><td>List(audio)</td><td>0.0010668563300142249</td><td>0.3007498475919529</td><td>6.08112216974439E-5</td></tr><tr><td>List(relogios_presentes)</td><td>List(moveis_decoracao)</td><td>0.0012446657183499289</td><td>0.019042671385751914</td><td>7.094642531368455E-5</td></tr><tr><td>List(artes_e_artesanato)</td><td>List(ferramentas_jardim)</td><td>0.043478260869565216</td><td>1.2193934300615468</td><td>1.0135203616240651E-5</td></tr><tr><td>List(artes_e_artesanato)</td><td>List(brinquedos)</td><td>0.043478260869565216</td><td>1.1039181901586521</td><td>1.0135203616240651E-5</td></tr><tr><td>List(cine_foto)</td><td>List(esporte_lazer)</td><td>0.015384615384615385</td><td>0.19662415304902353</td><td>1.0135203616240651E-5</td></tr><tr><td>List(cine_foto)</td><td>List(telefonia)</td><td>0.015384615384615385</td><td>0.36149999084031</td><td>1.0135203616240651E-5</td></tr><tr><td>List(cine_foto)</td><td>List(cool_stuff)</td><td>0.015384615384615385</td><td>0.4179345984412064</td><td>1.0135203616240651E-5</td></tr><tr><td>List(relogios_presentes, utilidades_domesticas)</td><td>List(moveis_decoracao)</td><td>0.5</td><td>7.649713133819198</td><td>1.0135203616240651E-5</td></tr><tr><td>List(moveis_escritorio, cama_mesa_banho)</td><td>List(moveis_decoracao)</td><td>0.2</td><td>3.0598852535276793</td><td>1.0135203616240651E-5</td></tr><tr><td>List(malas_acessorios)</td><td>List(beleza_saude)</td><td>0.0019342359767891683</td><td>0.02159838466340879</td><td>2.0270407232481302E-5</td></tr><tr><td>List(malas_acessorios)</td><td>List(informatica_acessorios)</td><td>0.0019342359767891683</td><td>0.028530920449376603</td><td>2.0270407232481302E-5</td></tr><tr><td>List(malas_acessorios)</td><td>List(papelaria)</td><td>0.004835589941972921</td><td>0.2064510243248378</td><td>5.067601808120325E-5</td></tr><tr><td>List(construcao_ferramentas_construcao)</td><td>List(pet_shop)</td><td>0.001336898395721925</td><td>0.07713825562122775</td><td>1.0135203616240651E-5</td></tr><tr><td>List(construcao_ferramentas_construcao)</td><td>List(automotivo)</td><td>0.004010695187165776</td><td>0.1015445859217086</td><td>3.040561084872195E-5</td></tr></tbody></table></div>"
      ]
     },
     "metadata": {
      "application/vnd.databricks.v1+output": {
       "addedWidgets": {},
       "aggData": [],
       "aggError": "",
       "aggOverflow": false,
       "aggSchema": [],
       "aggSeriesLimitReached": false,
       "aggType": "",
       "arguments": {},
       "columnCustomDisplayInfos": {},
       "data": [
        [
         [
          "consoles_games"
         ],
         [
          "brinquedos"
         ],
         0.0018832391713747645,
         0.047815665487097925,
         2.0270407232481302E-5
        ],
        [
         [
          "relogios_presentes"
         ],
         [
          "audio"
         ],
         0.0010668563300142249,
         0.3007498475919529,
         6.08112216974439E-5
        ],
        [
         [
          "relogios_presentes"
         ],
         [
          "moveis_decoracao"
         ],
         0.0012446657183499289,
         0.019042671385751914,
         7.094642531368455E-5
        ],
        [
         [
          "artes_e_artesanato"
         ],
         [
          "ferramentas_jardim"
         ],
         0.043478260869565216,
         1.2193934300615468,
         1.0135203616240651E-5
        ],
        [
         [
          "artes_e_artesanato"
         ],
         [
          "brinquedos"
         ],
         0.043478260869565216,
         1.1039181901586521,
         1.0135203616240651E-5
        ],
        [
         [
          "cine_foto"
         ],
         [
          "esporte_lazer"
         ],
         0.015384615384615385,
         0.19662415304902353,
         1.0135203616240651E-5
        ],
        [
         [
          "cine_foto"
         ],
         [
          "telefonia"
         ],
         0.015384615384615385,
         0.36149999084031,
         1.0135203616240651E-5
        ],
        [
         [
          "cine_foto"
         ],
         [
          "cool_stuff"
         ],
         0.015384615384615385,
         0.4179345984412064,
         1.0135203616240651E-5
        ],
        [
         [
          "relogios_presentes",
          "utilidades_domesticas"
         ],
         [
          "moveis_decoracao"
         ],
         0.5,
         7.649713133819198,
         1.0135203616240651E-5
        ],
        [
         [
          "moveis_escritorio",
          "cama_mesa_banho"
         ],
         [
          "moveis_decoracao"
         ],
         0.2,
         3.0598852535276793,
         1.0135203616240651E-5
        ],
        [
         [
          "malas_acessorios"
         ],
         [
          "beleza_saude"
         ],
         0.0019342359767891683,
         0.02159838466340879,
         2.0270407232481302E-5
        ],
        [
         [
          "malas_acessorios"
         ],
         [
          "informatica_acessorios"
         ],
         0.0019342359767891683,
         0.028530920449376603,
         2.0270407232481302E-5
        ],
        [
         [
          "malas_acessorios"
         ],
         [
          "papelaria"
         ],
         0.004835589941972921,
         0.2064510243248378,
         5.067601808120325E-5
        ],
        [
         [
          "construcao_ferramentas_construcao"
         ],
         [
          "pet_shop"
         ],
         0.001336898395721925,
         0.07713825562122775,
         1.0135203616240651E-5
        ],
        [
         [
          "construcao_ferramentas_construcao"
         ],
         [
          "automotivo"
         ],
         0.004010695187165776,
         0.1015445859217086,
         3.040561084872195E-5
        ]
       ],
       "datasetInfos": [],
       "dbfsResultPath": null,
       "isJsonSchema": true,
       "metadata": {},
       "overflow": false,
       "plotOptions": {
        "customPlotOptions": {},
        "displayType": "table",
        "pivotAggregation": null,
        "pivotColumns": null,
        "xColumns": null,
        "yColumns": null
       },
       "removedWidgets": [],
       "schema": [
        {
         "metadata": "{}",
         "name": "antecedent",
         "type": "{\"type\":\"array\",\"elementType\":\"string\",\"containsNull\":false}"
        },
        {
         "metadata": "{}",
         "name": "consequent",
         "type": "{\"type\":\"array\",\"elementType\":\"string\",\"containsNull\":false}"
        },
        {
         "metadata": "{}",
         "name": "confidence",
         "type": "\"double\""
        },
        {
         "metadata": "{}",
         "name": "lift",
         "type": "\"double\""
        },
        {
         "metadata": "{}",
         "name": "support",
         "type": "\"double\""
        }
       ],
       "type": "table"
      }
     },
     "output_type": "display_data"
    }
   ],
   "source": [
    "association_rules.limit(15).display()"
   ]
  },
  {
   "cell_type": "markdown",
   "metadata": {
    "application/vnd.databricks.v1+cell": {
     "cellMetadata": {
      "byteLimit": 2048000,
      "rowLimit": 10000
     },
     "inputWidgets": {},
     "nuid": "3e82e5d2-c305-40bf-8962-ba2e7c26088c",
     "showTitle": false,
     "title": ""
    }
   },
   "source": [
    "\n",
    "Conforme vemos no artigo o modelo procura prever qual a próxima categoria de produto que será comprada"
   ]
  },
  {
   "cell_type": "code",
   "execution_count": 0,
   "metadata": {
    "application/vnd.databricks.v1+cell": {
     "cellMetadata": {
      "byteLimit": 2048000,
      "rowLimit": 10000
     },
     "inputWidgets": {},
     "nuid": "63b7128d-5a5a-4901-a238-9e81e44d2043",
     "showTitle": false,
     "title": ""
    }
   },
   "outputs": [],
   "source": [
    "df_most_common_product_pair = df_most_common_product_pair.withColumn(\n",
    "    'categoria_produtos', concat_ws(', ', 'items')).select('categoria_produtos', 'freq')"
   ]
  },
  {
   "cell_type": "code",
   "execution_count": 0,
   "metadata": {
    "application/vnd.databricks.v1+cell": {
     "cellMetadata": {
      "byteLimit": 2048000,
      "rowLimit": 10000
     },
     "inputWidgets": {},
     "nuid": "f891a788-92e1-4e43-908f-a0e67b115ed0",
     "showTitle": false,
     "title": ""
    }
   },
   "outputs": [],
   "source": [
    "df_most_common_product_pair = df_most_common_product_pair.withColumn('date_ref_carga', lit(datetime.now()).cast(DateType())).withColumn('freq', col('freq').cast(StringType()))"
   ]
  },
  {
   "cell_type": "code",
   "execution_count": 0,
   "metadata": {
    "application/vnd.databricks.v1+cell": {
     "cellMetadata": {
      "byteLimit": 2048000,
      "rowLimit": 10000
     },
     "inputWidgets": {},
     "nuid": "b29a5a62-953c-48a9-9a11-b5b51b63d9a7",
     "showTitle": false,
     "title": ""
    }
   },
   "outputs": [],
   "source": [
    "def order_category(text:str) -> str:\n",
    "    final = text.split(',')\n",
    "    final = ', '.join(sorted([x.strip() for x in list(set(final))]))\n",
    "    return final\n",
    "\n",
    "udf_order_category = udf(lambda x: order_category(str(x)), StringType())"
   ]
  },
  {
   "cell_type": "code",
   "execution_count": 0,
   "metadata": {
    "application/vnd.databricks.v1+cell": {
     "cellMetadata": {
      "byteLimit": 2048000,
      "rowLimit": 10000
     },
     "inputWidgets": {},
     "nuid": "20796e84-c864-4300-b072-c201ac8b4609",
     "showTitle": false,
     "title": ""
    }
   },
   "outputs": [],
   "source": [
    "df_most_common_product_pair = (df_most_common_product_pair\n",
    "                               .withColumn('freq', col('freq').cast(IntegerType()))\\\n",
    "                               .orderBy('freq', ascending=False)\\\n",
    "                               .withColumn('categoria_produtos', udf_order_category('categoria_produtos')))"
   ]
  },
  {
   "cell_type": "code",
   "execution_count": 0,
   "metadata": {
    "application/vnd.databricks.v1+cell": {
     "cellMetadata": {
      "byteLimit": 2048000,
      "rowLimit": 10000
     },
     "inputWidgets": {},
     "nuid": "9e0af773-178c-41cc-b1dc-23fa4d2150f1",
     "showTitle": false,
     "title": ""
    }
   },
   "outputs": [
    {
     "output_type": "display_data",
     "data": {
      "text/html": [
       "<style scoped>\n",
       "  .table-result-container {\n",
       "    max-height: 300px;\n",
       "    overflow: auto;\n",
       "  }\n",
       "  table, th, td {\n",
       "    border: 1px solid black;\n",
       "    border-collapse: collapse;\n",
       "  }\n",
       "  th, td {\n",
       "    padding: 5px;\n",
       "  }\n",
       "  th {\n",
       "    text-align: left;\n",
       "  }\n",
       "</style><div class='table-result-container'><table class='table-result'><thead style='background-color: white'><tr><th>categoria_produtos</th><th>freq</th><th>date_ref_carga</th></tr></thead><tbody><tr><td>cama_mesa_banho, moveis_decoracao</td><td>70</td><td>2024-04-14</td></tr><tr><td>cama_mesa_banho, casa_conforto</td><td>43</td><td>2024-04-14</td></tr><tr><td>moveis_decoracao, utilidades_domesticas</td><td>24</td><td>2024-04-14</td></tr><tr><td>cama_mesa_banho, utilidades_domesticas</td><td>20</td><td>2024-04-14</td></tr><tr><td>bebes, cool_stuff</td><td>20</td><td>2024-04-14</td></tr><tr><td>bebes, brinquedos</td><td>19</td><td>2024-04-14</td></tr><tr><td>bebes, cama_mesa_banho</td><td>17</td><td>2024-04-14</td></tr><tr><td>ferramentas_jardim, moveis_decoracao</td><td>17</td><td>2024-04-14</td></tr><tr><td>beleza_saude, esporte_lazer</td><td>14</td><td>2024-04-14</td></tr><tr><td>casa_construcao, moveis_decoracao</td><td>13</td><td>2024-04-14</td></tr></tbody></table></div>"
      ]
     },
     "metadata": {
      "application/vnd.databricks.v1+output": {
       "addedWidgets": {},
       "aggData": [],
       "aggError": "",
       "aggOverflow": false,
       "aggSchema": [],
       "aggSeriesLimitReached": false,
       "aggType": "",
       "arguments": {},
       "columnCustomDisplayInfos": {},
       "data": [
        [
         "cama_mesa_banho, moveis_decoracao",
         70,
         "2024-04-14"
        ],
        [
         "cama_mesa_banho, casa_conforto",
         43,
         "2024-04-14"
        ],
        [
         "moveis_decoracao, utilidades_domesticas",
         24,
         "2024-04-14"
        ],
        [
         "cama_mesa_banho, utilidades_domesticas",
         20,
         "2024-04-14"
        ],
        [
         "bebes, cool_stuff",
         20,
         "2024-04-14"
        ],
        [
         "bebes, brinquedos",
         19,
         "2024-04-14"
        ],
        [
         "bebes, cama_mesa_banho",
         17,
         "2024-04-14"
        ],
        [
         "ferramentas_jardim, moveis_decoracao",
         17,
         "2024-04-14"
        ],
        [
         "beleza_saude, esporte_lazer",
         14,
         "2024-04-14"
        ],
        [
         "casa_construcao, moveis_decoracao",
         13,
         "2024-04-14"
        ]
       ],
       "datasetInfos": [],
       "dbfsResultPath": null,
       "isJsonSchema": true,
       "metadata": {},
       "overflow": false,
       "plotOptions": {
        "customPlotOptions": {},
        "displayType": "table",
        "pivotAggregation": null,
        "pivotColumns": null,
        "xColumns": null,
        "yColumns": null
       },
       "removedWidgets": [],
       "schema": [
        {
         "metadata": "{}",
         "name": "categoria_produtos",
         "type": "\"string\""
        },
        {
         "metadata": "{}",
         "name": "freq",
         "type": "\"integer\""
        },
        {
         "metadata": "{}",
         "name": "date_ref_carga",
         "type": "\"date\""
        }
       ],
       "type": "table"
      }
     },
     "output_type": "display_data"
    }
   ],
   "source": [
    "df_most_common_product_pair.limit(10).display()"
   ]
  },
  {
   "cell_type": "markdown",
   "metadata": {
    "application/vnd.databricks.v1+cell": {
     "cellMetadata": {},
     "inputWidgets": {},
     "nuid": "05adbf9c-c06f-436b-87cd-0ef212d90306",
     "showTitle": false,
     "title": ""
    }
   },
   "source": [
    "---\n",
    "# 4. Agrupando dados para termos a mesma visualização do modelo mas com os dados disponíveis"
   ]
  },
  {
   "cell_type": "code",
   "execution_count": 0,
   "metadata": {
    "application/vnd.databricks.v1+cell": {
     "cellMetadata": {
      "byteLimit": 2048000,
      "implicitDf": true,
      "rowLimit": 10000
     },
     "inputWidgets": {},
     "nuid": "37eb2a9c-9358-47d7-aeee-7a83e7b6e666",
     "showTitle": false,
     "title": ""
    }
   },
   "outputs": [],
   "source": [
    "_sql = \"\"\"\n",
    "WITH\n",
    "orders AS (\n",
    "  SELECT DISTINCT order_id, product_id\n",
    "  FROM datum.silver.olist_order_items\n",
    "),\n",
    "\n",
    "products AS (\n",
    "  SELECT DISTINCT product_id, product_category_name\n",
    "  FROM datum.silver.olist_products\n",
    "  ORDER BY product_category_name\n",
    "),\n",
    "\n",
    "agrupado AS (\n",
    "  SELECT order_id, \n",
    "         COLLECT_SET(product_category_name) AS product_category_name\n",
    "  FROM orders AS o\n",
    "    LEFT JOIN products AS p\n",
    "      ON o.product_id = p.product_id\n",
    "  GROUP BY order_id\n",
    "  HAVING SIZE(COLLECT_SET(p.product_category_name)) == 2)\n",
    "\n",
    "SELECT REPLACE(REPLACE(CAST(product_category_name AS STRING), '[', ''), ']', '') AS categoria_produtos, \n",
    "       CAST(COUNT(*) AS INTEGER) AS total,\n",
    "       CAST(NOW() AS DATE) AS date_ref_carga\n",
    "FROM agrupado\n",
    "GROUP BY product_category_name\n",
    "ORDER BY COUNT(*) DESC\n",
    "\"\"\"\n",
    "\n",
    "pares_mais_comuns_atuais = spark.sql(_sql)"
   ]
  },
  {
   "cell_type": "code",
   "execution_count": 0,
   "metadata": {
    "application/vnd.databricks.v1+cell": {
     "cellMetadata": {
      "byteLimit": 2048000,
      "rowLimit": 10000
     },
     "inputWidgets": {},
     "nuid": "4bc64214-0563-49ff-a9b3-ae669d7a2d60",
     "showTitle": false,
     "title": ""
    }
   },
   "outputs": [
    {
     "output_type": "display_data",
     "data": {
      "text/html": [
       "<style scoped>\n",
       "  .table-result-container {\n",
       "    max-height: 300px;\n",
       "    overflow: auto;\n",
       "  }\n",
       "  table, th, td {\n",
       "    border: 1px solid black;\n",
       "    border-collapse: collapse;\n",
       "  }\n",
       "  th, td {\n",
       "    padding: 5px;\n",
       "  }\n",
       "  th {\n",
       "    text-align: left;\n",
       "  }\n",
       "</style><div class='table-result-container'><table class='table-result'><thead style='background-color: white'><tr><th>categoria_produtos</th><th>total</th><th>date_ref_carga</th></tr></thead><tbody><tr><td>cama_mesa_banho, moveis_decoracao</td><td>67</td><td>2024-04-14</td></tr><tr><td>cama_mesa_banho, casa_conforto</td><td>42</td><td>2024-04-14</td></tr><tr><td>utilidades_domesticas, moveis_decoracao</td><td>22</td><td>2024-04-14</td></tr><tr><td>utilidades_domesticas, cama_mesa_banho</td><td>20</td><td>2024-04-14</td></tr><tr><td>brinquedos, bebes</td><td>19</td><td>2024-04-14</td></tr><tr><td>bebes, cool_stuff</td><td>19</td><td>2024-04-14</td></tr><tr><td>ferramentas_jardim, moveis_decoracao</td><td>16</td><td>2024-04-14</td></tr><tr><td>bebes, cama_mesa_banho</td><td>15</td><td>2024-04-14</td></tr><tr><td>beleza_saude, esporte_lazer</td><td>13</td><td>2024-04-14</td></tr><tr><td>perfumaria, beleza_saude</td><td>12</td><td>2024-04-14</td></tr><tr><td>construcao_ferramentas_iluminacao, moveis_decoracao</td><td>11</td><td>2024-04-14</td></tr><tr><td>bebes, moveis_decoracao</td><td>11</td><td>2024-04-14</td></tr><tr><td>cama_mesa_banho, beleza_saude</td><td>11</td><td>2024-04-14</td></tr><tr><td>utilidades_domesticas, esporte_lazer</td><td>11</td><td>2024-04-14</td></tr><tr><td>casa_construcao, moveis_decoracao</td><td>11</td><td>2024-04-14</td></tr></tbody></table></div>"
      ]
     },
     "metadata": {
      "application/vnd.databricks.v1+output": {
       "addedWidgets": {},
       "aggData": [],
       "aggError": "",
       "aggOverflow": false,
       "aggSchema": [],
       "aggSeriesLimitReached": false,
       "aggType": "",
       "arguments": {},
       "columnCustomDisplayInfos": {},
       "data": [
        [
         "cama_mesa_banho, moveis_decoracao",
         67,
         "2024-04-14"
        ],
        [
         "cama_mesa_banho, casa_conforto",
         42,
         "2024-04-14"
        ],
        [
         "utilidades_domesticas, moveis_decoracao",
         22,
         "2024-04-14"
        ],
        [
         "utilidades_domesticas, cama_mesa_banho",
         20,
         "2024-04-14"
        ],
        [
         "brinquedos, bebes",
         19,
         "2024-04-14"
        ],
        [
         "bebes, cool_stuff",
         19,
         "2024-04-14"
        ],
        [
         "ferramentas_jardim, moveis_decoracao",
         16,
         "2024-04-14"
        ],
        [
         "bebes, cama_mesa_banho",
         15,
         "2024-04-14"
        ],
        [
         "beleza_saude, esporte_lazer",
         13,
         "2024-04-14"
        ],
        [
         "perfumaria, beleza_saude",
         12,
         "2024-04-14"
        ],
        [
         "construcao_ferramentas_iluminacao, moveis_decoracao",
         11,
         "2024-04-14"
        ],
        [
         "bebes, moveis_decoracao",
         11,
         "2024-04-14"
        ],
        [
         "cama_mesa_banho, beleza_saude",
         11,
         "2024-04-14"
        ],
        [
         "utilidades_domesticas, esporte_lazer",
         11,
         "2024-04-14"
        ],
        [
         "casa_construcao, moveis_decoracao",
         11,
         "2024-04-14"
        ]
       ],
       "datasetInfos": [],
       "dbfsResultPath": null,
       "isJsonSchema": true,
       "metadata": {},
       "overflow": false,
       "plotOptions": {
        "customPlotOptions": {},
        "displayType": "table",
        "pivotAggregation": null,
        "pivotColumns": null,
        "xColumns": null,
        "yColumns": null
       },
       "removedWidgets": [],
       "schema": [
        {
         "metadata": "{}",
         "name": "categoria_produtos",
         "type": "\"string\""
        },
        {
         "metadata": "{}",
         "name": "total",
         "type": "\"integer\""
        },
        {
         "metadata": "{}",
         "name": "date_ref_carga",
         "type": "\"date\""
        }
       ],
       "type": "table"
      }
     },
     "output_type": "display_data"
    }
   ],
   "source": [
    "pares_mais_comuns_atuais.limit(15).display()"
   ]
  },
  {
   "cell_type": "markdown",
   "metadata": {
    "application/vnd.databricks.v1+cell": {
     "cellMetadata": {},
     "inputWidgets": {},
     "nuid": "d6add25f-8cf7-4e24-aa52-a7dddd08d139",
     "showTitle": false,
     "title": ""
    }
   },
   "source": [
    "---\n",
    "# 5. Delta Lake"
   ]
  },
  {
   "cell_type": "code",
   "execution_count": 0,
   "metadata": {
    "application/vnd.databricks.v1+cell": {
     "cellMetadata": {
      "byteLimit": 2048000,
      "implicitDf": true,
      "rowLimit": 10000
     },
     "inputWidgets": {},
     "nuid": "167e1b13-3aa8-4982-b340-86335552efcc",
     "showTitle": false,
     "title": ""
    }
   },
   "outputs": [
    {
     "output_type": "display_data",
     "data": {
      "text/html": [
       "<style scoped>\n",
       "  .table-result-container {\n",
       "    max-height: 300px;\n",
       "    overflow: auto;\n",
       "  }\n",
       "  table, th, td {\n",
       "    border: 1px solid black;\n",
       "    border-collapse: collapse;\n",
       "  }\n",
       "  th, td {\n",
       "    padding: 5px;\n",
       "  }\n",
       "  th {\n",
       "    text-align: left;\n",
       "  }\n",
       "</style><div class='table-result-container'><table class='table-result'><thead style='background-color: white'><tr></tr></thead><tbody></tbody></table></div>"
      ]
     },
     "metadata": {
      "application/vnd.databricks.v1+output": {
       "addedWidgets": {},
       "aggData": [],
       "aggError": "",
       "aggOverflow": false,
       "aggSchema": [],
       "aggSeriesLimitReached": false,
       "aggType": "",
       "arguments": {},
       "columnCustomDisplayInfos": {},
       "data": [],
       "datasetInfos": [],
       "dbfsResultPath": null,
       "isJsonSchema": true,
       "metadata": {
        "dataframeName": null
       },
       "overflow": false,
       "plotOptions": {
        "customPlotOptions": {},
        "displayType": "table",
        "pivotAggregation": null,
        "pivotColumns": null,
        "xColumns": null,
        "yColumns": null
       },
       "removedWidgets": [],
       "schema": [],
       "type": "table"
      }
     },
     "output_type": "display_data"
    }
   ],
   "source": [
    "%sql\n",
    "\n",
    "USE CATALOG datum"
   ]
  },
  {
   "cell_type": "code",
   "execution_count": 0,
   "metadata": {
    "application/vnd.databricks.v1+cell": {
     "cellMetadata": {
      "byteLimit": 2048000,
      "implicitDf": true,
      "rowLimit": 10000
     },
     "inputWidgets": {},
     "nuid": "d650c3dd-5f4e-4069-8566-ef9d22c7ebbe",
     "showTitle": false,
     "title": ""
    }
   },
   "outputs": [
    {
     "output_type": "display_data",
     "data": {
      "text/html": [
       "<style scoped>\n",
       "  .table-result-container {\n",
       "    max-height: 300px;\n",
       "    overflow: auto;\n",
       "  }\n",
       "  table, th, td {\n",
       "    border: 1px solid black;\n",
       "    border-collapse: collapse;\n",
       "  }\n",
       "  th, td {\n",
       "    padding: 5px;\n",
       "  }\n",
       "  th {\n",
       "    text-align: left;\n",
       "  }\n",
       "</style><div class='table-result-container'><table class='table-result'><thead style='background-color: white'><tr></tr></thead><tbody></tbody></table></div>"
      ]
     },
     "metadata": {
      "application/vnd.databricks.v1+output": {
       "addedWidgets": {},
       "aggData": [],
       "aggError": "",
       "aggOverflow": false,
       "aggSchema": [],
       "aggSeriesLimitReached": false,
       "aggType": "",
       "arguments": {},
       "columnCustomDisplayInfos": {},
       "data": [],
       "datasetInfos": [],
       "dbfsResultPath": null,
       "isJsonSchema": true,
       "metadata": {
        "dataframeName": null
       },
       "overflow": false,
       "plotOptions": {
        "customPlotOptions": {},
        "displayType": "table",
        "pivotAggregation": null,
        "pivotColumns": null,
        "xColumns": null,
        "yColumns": null
       },
       "removedWidgets": [],
       "schema": [],
       "type": "table"
      }
     },
     "output_type": "display_data"
    }
   ],
   "source": [
    "%sql\n",
    "\n",
    "USE DATABASE gold"
   ]
  },
  {
   "cell_type": "code",
   "execution_count": 0,
   "metadata": {
    "application/vnd.databricks.v1+cell": {
     "cellMetadata": {
      "byteLimit": 2048000,
      "implicitDf": true,
      "rowLimit": 10000
     },
     "inputWidgets": {},
     "nuid": "45e71855-1c65-4404-bb5c-f1b298ff3040",
     "showTitle": false,
     "title": ""
    }
   },
   "outputs": [
    {
     "output_type": "display_data",
     "data": {
      "text/html": [
       "<style scoped>\n",
       "  .table-result-container {\n",
       "    max-height: 300px;\n",
       "    overflow: auto;\n",
       "  }\n",
       "  table, th, td {\n",
       "    border: 1px solid black;\n",
       "    border-collapse: collapse;\n",
       "  }\n",
       "  th, td {\n",
       "    padding: 5px;\n",
       "  }\n",
       "  th {\n",
       "    text-align: left;\n",
       "  }\n",
       "</style><div class='table-result-container'><table class='table-result'><thead style='background-color: white'><tr></tr></thead><tbody></tbody></table></div>"
      ]
     },
     "metadata": {
      "application/vnd.databricks.v1+output": {
       "addedWidgets": {},
       "aggData": [],
       "aggError": "",
       "aggOverflow": false,
       "aggSchema": [],
       "aggSeriesLimitReached": false,
       "aggType": "",
       "arguments": {},
       "columnCustomDisplayInfos": {},
       "data": [],
       "datasetInfos": [],
       "dbfsResultPath": null,
       "isJsonSchema": true,
       "metadata": {
        "dataframeName": null
       },
       "overflow": false,
       "plotOptions": {
        "customPlotOptions": {},
        "displayType": "table",
        "pivotAggregation": null,
        "pivotColumns": null,
        "xColumns": null,
        "yColumns": null
       },
       "removedWidgets": [],
       "schema": [],
       "type": "table"
      }
     },
     "output_type": "display_data"
    }
   ],
   "source": [
    "%sql\n",
    "\n",
    "CREATE TABLE IF NOT EXISTS olist_ml_pares_produtos\n",
    "(\n",
    "  categoria_produtos STRING,\n",
    "  freq               INTEGER,\n",
    "  date_ref_carga     DATE\n",
    ")\n",
    "USING DELTA\n",
    "LOCATION 'abfss://unity-datum@datumunity.dfs.core.windows.net/gold/olist_ml_pares_produtos'\n",
    "PARTITIONED BY (date_ref_carga)"
   ]
  },
  {
   "cell_type": "code",
   "execution_count": 0,
   "metadata": {
    "application/vnd.databricks.v1+cell": {
     "cellMetadata": {
      "byteLimit": 2048000,
      "rowLimit": 10000
     },
     "inputWidgets": {},
     "nuid": "71792732-7eca-4277-babb-269b34356fde",
     "showTitle": false,
     "title": ""
    }
   },
   "outputs": [],
   "source": [
    "if df_most_common_product_pair.count() != 0 and df_most_common_product_pair is not None:\n",
    "    df_most_common_product_pair.write.format('delta').mode('overwrite').save('abfss://unity-datum@datumunity.dfs.core.windows.net/gold/olist_ml_pares_produtos')"
   ]
  },
  {
   "cell_type": "code",
   "execution_count": 0,
   "metadata": {
    "application/vnd.databricks.v1+cell": {
     "cellMetadata": {
      "byteLimit": 2048000,
      "implicitDf": true,
      "rowLimit": 10000
     },
     "inputWidgets": {},
     "nuid": "1e5054b7-b840-411e-9fcc-110f732e3385",
     "showTitle": false,
     "title": ""
    }
   },
   "outputs": [
    {
     "output_type": "display_data",
     "data": {
      "text/html": [
       "<style scoped>\n",
       "  .table-result-container {\n",
       "    max-height: 300px;\n",
       "    overflow: auto;\n",
       "  }\n",
       "  table, th, td {\n",
       "    border: 1px solid black;\n",
       "    border-collapse: collapse;\n",
       "  }\n",
       "  th, td {\n",
       "    padding: 5px;\n",
       "  }\n",
       "  th {\n",
       "    text-align: left;\n",
       "  }\n",
       "</style><div class='table-result-container'><table class='table-result'><thead style='background-color: white'><tr></tr></thead><tbody></tbody></table></div>"
      ]
     },
     "metadata": {
      "application/vnd.databricks.v1+output": {
       "addedWidgets": {},
       "aggData": [],
       "aggError": "",
       "aggOverflow": false,
       "aggSchema": [],
       "aggSeriesLimitReached": false,
       "aggType": "",
       "arguments": {},
       "columnCustomDisplayInfos": {},
       "data": [],
       "datasetInfos": [],
       "dbfsResultPath": null,
       "isJsonSchema": true,
       "metadata": {
        "dataframeName": null
       },
       "overflow": false,
       "plotOptions": {
        "customPlotOptions": {},
        "displayType": "table",
        "pivotAggregation": null,
        "pivotColumns": null,
        "xColumns": null,
        "yColumns": null
       },
       "removedWidgets": [],
       "schema": [],
       "type": "table"
      }
     },
     "output_type": "display_data"
    }
   ],
   "source": [
    "%sql\n",
    "\n",
    "CREATE TABLE IF NOT EXISTS olist_pares_produtos\n",
    "(\n",
    "  categoria_produtos STRING,\n",
    "  total              INTEGER,\n",
    "  date_ref_carga     DATE\n",
    ")\n",
    "USING DELTA\n",
    "LOCATION 'abfss://unity-datum@datumunity.dfs.core.windows.net/gold/olist_pares_produtos'\n",
    "PARTITIONED BY (date_ref_carga)"
   ]
  },
  {
   "cell_type": "code",
   "execution_count": 0,
   "metadata": {
    "application/vnd.databricks.v1+cell": {
     "cellMetadata": {
      "byteLimit": 2048000,
      "rowLimit": 10000
     },
     "inputWidgets": {},
     "nuid": "ce5d31dd-5c8e-4928-928f-ca770e063f22",
     "showTitle": false,
     "title": ""
    }
   },
   "outputs": [],
   "source": [
    "if pares_mais_comuns_atuais.count() != 0 and pares_mais_comuns_atuais is not None:\n",
    "    pares_mais_comuns_atuais.write.format('delta').mode('overwrite').save('abfss://unity-datum@datumunity.dfs.core.windows.net/gold/olist_pares_produtos')"
   ]
  },
  {
   "cell_type": "code",
   "execution_count": 0,
   "metadata": {
    "application/vnd.databricks.v1+cell": {
     "cellMetadata": {},
     "inputWidgets": {},
     "nuid": "cd499beb-ae7c-4e36-a76c-b547e324b5a4",
     "showTitle": false,
     "title": ""
    }
   },
   "outputs": [],
   "source": [
    "del df_most_common_product_pair, pares_mais_comuns_atuais"
   ]
  }
 ],
 "metadata": {
  "application/vnd.databricks.v1+notebook": {
   "dashboards": [],
   "language": "python",
   "notebookMetadata": {
    "mostRecentlyExecutedCommandWithImplicitDF": {
     "commandId": 2794799031482246,
     "dataframes": [
      "_sqldf"
     ]
    },
    "pythonIndentUnit": 4
   },
   "notebookName": "PARES DE PRODUTO",
   "widgets": {}
  }
 },
 "nbformat": 4,
 "nbformat_minor": 0
}
