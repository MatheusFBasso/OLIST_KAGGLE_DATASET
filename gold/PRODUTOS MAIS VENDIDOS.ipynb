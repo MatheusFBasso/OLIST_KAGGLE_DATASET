{
 "cells": [
  {
   "cell_type": "markdown",
   "metadata": {
    "application/vnd.databricks.v1+cell": {
     "cellMetadata": {
      "byteLimit": 2048000,
      "rowLimit": 10000
     },
     "inputWidgets": {},
     "nuid": "fa6b73c1-c88b-49bb-a3aa-0423fff7c908",
     "showTitle": false,
     "title": ""
    }
   },
   "source": [
    "# 1. Bibliotecas"
   ]
  },
  {
   "cell_type": "code",
   "execution_count": 0,
   "metadata": {
    "application/vnd.databricks.v1+cell": {
     "cellMetadata": {
      "byteLimit": 2048000,
      "rowLimit": 10000
     },
     "inputWidgets": {},
     "nuid": "a25185c8-67ba-48a1-b798-346a26320740",
     "showTitle": false,
     "title": ""
    }
   },
   "outputs": [],
   "source": [
    "from datetime import datetime\n",
    "from pyspark.sql.functions import date_format, udf, sum, col, lit, month\n",
    "from pyspark.sql.types import StringType, DecimalType, DateType"
   ]
  },
  {
   "cell_type": "markdown",
   "metadata": {
    "application/vnd.databricks.v1+cell": {
     "cellMetadata": {
      "byteLimit": 2048000,
      "rowLimit": 10000
     },
     "inputWidgets": {},
     "nuid": "6a184868-9bea-45e2-a09e-cb35e680ebac",
     "showTitle": false,
     "title": ""
    }
   },
   "source": [
    "---\n",
    "# 2. Carregando Delta Tables"
   ]
  },
  {
   "cell_type": "markdown",
   "metadata": {
    "application/vnd.databricks.v1+cell": {
     "cellMetadata": {
      "byteLimit": 2048000,
      "rowLimit": 10000
     },
     "inputWidgets": {},
     "nuid": "6c6a3ffa-9c8c-4abe-9fe2-ed318c25b5fa",
     "showTitle": false,
     "title": ""
    }
   },
   "source": [
    "\n",
    "## 2.1 Products"
   ]
  },
  {
   "cell_type": "code",
   "execution_count": 0,
   "metadata": {
    "application/vnd.databricks.v1+cell": {
     "cellMetadata": {
      "byteLimit": 2048000,
      "rowLimit": 10000
     },
     "inputWidgets": {},
     "nuid": "fdaaa057-c593-4039-99e9-7029ba16df88",
     "showTitle": true,
     "title": "Products"
    }
   },
   "outputs": [],
   "source": [
    "df_products = spark.table('datum.silver.olist_products')"
   ]
  },
  {
   "cell_type": "markdown",
   "metadata": {
    "application/vnd.databricks.v1+cell": {
     "cellMetadata": {
      "byteLimit": 2048000,
      "rowLimit": 10000
     },
     "inputWidgets": {},
     "nuid": "2bdffb3c-bb54-4747-aed2-a0601e80e95f",
     "showTitle": false,
     "title": ""
    }
   },
   "source": [
    "## 2.2 Orders"
   ]
  },
  {
   "cell_type": "code",
   "execution_count": 0,
   "metadata": {
    "application/vnd.databricks.v1+cell": {
     "cellMetadata": {
      "byteLimit": 2048000,
      "rowLimit": 10000
     },
     "inputWidgets": {},
     "nuid": "073a98e8-806f-4c4c-9ef3-d22facc3663b",
     "showTitle": true,
     "title": "Orders"
    }
   },
   "outputs": [],
   "source": [
    "df_oders = spark.table('datum.silver.olist_orders')"
   ]
  },
  {
   "cell_type": "markdown",
   "metadata": {
    "application/vnd.databricks.v1+cell": {
     "cellMetadata": {
      "byteLimit": 2048000,
      "rowLimit": 10000
     },
     "inputWidgets": {},
     "nuid": "5afbff12-deb3-417f-9c04-204d256b7420",
     "showTitle": false,
     "title": ""
    }
   },
   "source": [
    "## 2.3 Payments"
   ]
  },
  {
   "cell_type": "code",
   "execution_count": 0,
   "metadata": {
    "application/vnd.databricks.v1+cell": {
     "cellMetadata": {
      "byteLimit": 2048000,
      "rowLimit": 10000
     },
     "inputWidgets": {},
     "nuid": "ece51b8f-2bd5-4447-9799-083a2a856ccc",
     "showTitle": true,
     "title": "Payment"
    }
   },
   "outputs": [],
   "source": [
    "df_payments = spark.table('datum.silver.olist_payments')"
   ]
  },
  {
   "cell_type": "markdown",
   "metadata": {
    "application/vnd.databricks.v1+cell": {
     "cellMetadata": {
      "byteLimit": 2048000,
      "rowLimit": 10000
     },
     "inputWidgets": {},
     "nuid": "8ecb1afe-93e9-4cb1-a979-b1d639e0c99f",
     "showTitle": false,
     "title": ""
    }
   },
   "source": [
    "## 2.4 Customer"
   ]
  },
  {
   "cell_type": "code",
   "execution_count": 0,
   "metadata": {
    "application/vnd.databricks.v1+cell": {
     "cellMetadata": {
      "byteLimit": 2048000,
      "rowLimit": 10000
     },
     "inputWidgets": {},
     "nuid": "743224ec-d66a-4e43-a0cd-3cda79a564a1",
     "showTitle": false,
     "title": ""
    }
   },
   "outputs": [],
   "source": [
    "df_customers = spark.table('datum.silver.olist_customers')"
   ]
  },
  {
   "cell_type": "markdown",
   "metadata": {
    "application/vnd.databricks.v1+cell": {
     "cellMetadata": {
      "byteLimit": 2048000,
      "implicitDf": true,
      "rowLimit": 10000
     },
     "inputWidgets": {},
     "nuid": "5b13dbbe-d4fa-4626-aee4-087f850712d4",
     "showTitle": false,
     "title": ""
    }
   },
   "source": [
    "---\n",
    "# 3. Gerando agrupamento dos dados para estatísticas de vendas"
   ]
  },
  {
   "cell_type": "markdown",
   "metadata": {
    "application/vnd.databricks.v1+cell": {
     "cellMetadata": {
      "byteLimit": 2048000,
      "rowLimit": 10000
     },
     "inputWidgets": {},
     "nuid": "fddca709-9e04-4385-8cb5-36bb0a680cb1",
     "showTitle": false,
     "title": ""
    }
   },
   "source": [
    "## 3.1 Total (R$) de vendas por dia da semana"
   ]
  },
  {
   "cell_type": "code",
   "execution_count": 0,
   "metadata": {
    "application/vnd.databricks.v1+cell": {
     "cellMetadata": {
      "byteLimit": 2048000,
      "rowLimit": 10000
     },
     "inputWidgets": {},
     "nuid": "51152d44-ad55-4758-81b5-81c4ead41c43",
     "showTitle": true,
     "title": "Função para converter de inglês para português os dias da semana"
    }
   },
   "outputs": [],
   "source": [
    "dict_week_day = {\n",
    "    'Sun': 'Domingo',\n",
    "    'Mon': 'Segunda',\n",
    "    'Tue': 'Terça',\n",
    "    'Wed': 'Quarta',\n",
    "    'Thu': 'Quinta',\n",
    "    'Fri': 'Sexta',\n",
    "    'Sat': 'Sábado',\n",
    "}\n",
    "\n",
    "udf_day_of_week = udf(lambda x: dict_week_day.get(str(x)))"
   ]
  },
  {
   "cell_type": "code",
   "execution_count": 0,
   "metadata": {
    "application/vnd.databricks.v1+cell": {
     "cellMetadata": {
      "byteLimit": 2048000,
      "implicitDf": true,
      "rowLimit": 10000
     },
     "inputWidgets": {},
     "nuid": "b0172dc9-7cf1-4e30-92a9-23ed5ea67ca6",
     "showTitle": false,
     "title": ""
    }
   },
   "outputs": [],
   "source": [
    "# Unindo os DataFrames de orders e payment para pegarmos as datas e valores nelas para agruparmos posteriormente\n",
    "df_vendas_dia_semana = df_oders.select('order_id', 'order_approved_at').where(col('order_approved_at').isNotNull())\\\n",
    "                               .join(\n",
    "                                   df_payments.select('order_id', 'payment_value').where(col('payment_value').isNotNull()), \n",
    "                                   on = ['order_id'], how='inner')\n",
    "\n",
    "# Pegando o dia da semana referente a data                               \n",
    "df_vendas_dia_semana = df_vendas_dia_semana.withColumn('dia_da_semana', date_format('order_approved_at', 'E'))\\\n",
    "                                           .select('dia_da_semana', 'payment_value')\n",
    "\n",
    "# Aplicando a função para traduzir os dias da semana para português\n",
    "df_vendas_dia_semana = df_vendas_dia_semana.withColumn('dia_da_semana', udf_day_of_week('dia_da_semana'))\n",
    "\n",
    "# Agrupando o DF nos dias da semana e somando os valor e por fim ordenando de forma decrescente por valor total\n",
    "df_vendas_dia_semana = df_vendas_dia_semana.groupBy('dia_da_semana').agg(sum('payment_value').alias('total')).orderBy('total', ascending=False)\n",
    "\n",
    "# Convertendoo total para Decimal(10,2) por ser uma formato mais ideal dentro dos dados\n",
    "df_vendas_dia_semana = df_vendas_dia_semana.withColumn('total', col('total').cast(DecimalType(10,2)))\n",
    "\n",
    "# Por fim adicionando a coluna date_ref_carga para termos o controle no futuro em caso de registros para comparação com registros anteriormente processados\n",
    "df_vendas_dia_semana = df_vendas_dia_semana.withColumn('date_ref_carga', lit(datetime.now()).cast(DateType()))"
   ]
  },
  {
   "cell_type": "code",
   "execution_count": 0,
   "metadata": {
    "application/vnd.databricks.v1+cell": {
     "cellMetadata": {
      "byteLimit": 2048000,
      "rowLimit": 10000
     },
     "inputWidgets": {},
     "nuid": "9373b721-5725-4469-a30f-e81bb029531a",
     "showTitle": false,
     "title": ""
    }
   },
   "outputs": [
    {
     "output_type": "display_data",
     "data": {
      "text/html": [
       "<style scoped>\n",
       "  .table-result-container {\n",
       "    max-height: 300px;\n",
       "    overflow: auto;\n",
       "  }\n",
       "  table, th, td {\n",
       "    border: 1px solid black;\n",
       "    border-collapse: collapse;\n",
       "  }\n",
       "  th, td {\n",
       "    padding: 5px;\n",
       "  }\n",
       "  th {\n",
       "    text-align: left;\n",
       "  }\n",
       "</style><div class='table-result-container'><table class='table-result'><thead style='background-color: white'><tr><th>dia_da_semana</th><th>total</th><th>date_ref_carga</th></tr></thead><tbody><tr><td>Terça</td><td>3019003.32</td><td>2024-04-14</td></tr><tr><td>Quarta</td><td>2526603.51</td><td>2024-04-14</td></tr><tr><td>Quinta</td><td>2494340.73</td><td>2024-04-14</td></tr><tr><td>Sexta</td><td>2366216.26</td><td>2024-04-14</td></tr><tr><td>Segunda</td><td>2138720.93</td><td>2024-04-14</td></tr><tr><td>Sábado</td><td>2001180.50</td><td>2024-04-14</td></tr><tr><td>Domingo</td><td>1425677.10</td><td>2024-04-14</td></tr></tbody></table></div>"
      ]
     },
     "metadata": {
      "application/vnd.databricks.v1+output": {
       "addedWidgets": {},
       "aggData": [],
       "aggError": "",
       "aggOverflow": false,
       "aggSchema": [],
       "aggSeriesLimitReached": false,
       "aggType": "",
       "arguments": {},
       "columnCustomDisplayInfos": {},
       "data": [
        [
         "Terça",
         "3019003.32",
         "2024-04-14"
        ],
        [
         "Quarta",
         "2526603.51",
         "2024-04-14"
        ],
        [
         "Quinta",
         "2494340.73",
         "2024-04-14"
        ],
        [
         "Sexta",
         "2366216.26",
         "2024-04-14"
        ],
        [
         "Segunda",
         "2138720.93",
         "2024-04-14"
        ],
        [
         "Sábado",
         "2001180.50",
         "2024-04-14"
        ],
        [
         "Domingo",
         "1425677.10",
         "2024-04-14"
        ]
       ],
       "datasetInfos": [],
       "dbfsResultPath": null,
       "isJsonSchema": true,
       "metadata": {},
       "overflow": false,
       "plotOptions": {
        "customPlotOptions": {},
        "displayType": "table",
        "pivotAggregation": null,
        "pivotColumns": null,
        "xColumns": null,
        "yColumns": null
       },
       "removedWidgets": [],
       "schema": [
        {
         "metadata": "{}",
         "name": "dia_da_semana",
         "type": "\"string\""
        },
        {
         "metadata": "{}",
         "name": "total",
         "type": "\"decimal(10,2)\""
        },
        {
         "metadata": "{}",
         "name": "date_ref_carga",
         "type": "\"date\""
        }
       ],
       "type": "table"
      }
     },
     "output_type": "display_data"
    }
   ],
   "source": [
    "df_vendas_dia_semana.limit(10).display()"
   ]
  },
  {
   "cell_type": "markdown",
   "metadata": {
    "application/vnd.databricks.v1+cell": {
     "cellMetadata": {
      "byteLimit": 2048000,
      "rowLimit": 10000
     },
     "inputWidgets": {},
     "nuid": "e227e983-88f8-423c-94eb-967b5dce5d28",
     "showTitle": false,
     "title": ""
    }
   },
   "source": [
    "\n",
    "### 3.1.1 Salvando dado na camada gold"
   ]
  },
  {
   "cell_type": "code",
   "execution_count": 0,
   "metadata": {
    "application/vnd.databricks.v1+cell": {
     "cellMetadata": {
      "byteLimit": 2048000,
      "implicitDf": true,
      "rowLimit": 10000
     },
     "inputWidgets": {},
     "nuid": "85aece2a-6c5b-49d7-b469-f32b140418a5",
     "showTitle": false,
     "title": ""
    }
   },
   "outputs": [
    {
     "output_type": "display_data",
     "data": {
      "text/html": [
       "<style scoped>\n",
       "  .table-result-container {\n",
       "    max-height: 300px;\n",
       "    overflow: auto;\n",
       "  }\n",
       "  table, th, td {\n",
       "    border: 1px solid black;\n",
       "    border-collapse: collapse;\n",
       "  }\n",
       "  th, td {\n",
       "    padding: 5px;\n",
       "  }\n",
       "  th {\n",
       "    text-align: left;\n",
       "  }\n",
       "</style><div class='table-result-container'><table class='table-result'><thead style='background-color: white'><tr></tr></thead><tbody></tbody></table></div>"
      ]
     },
     "metadata": {
      "application/vnd.databricks.v1+output": {
       "addedWidgets": {},
       "aggData": [],
       "aggError": "",
       "aggOverflow": false,
       "aggSchema": [],
       "aggSeriesLimitReached": false,
       "aggType": "",
       "arguments": {},
       "columnCustomDisplayInfos": {},
       "data": [],
       "datasetInfos": [],
       "dbfsResultPath": null,
       "isJsonSchema": true,
       "metadata": {
        "dataframeName": null
       },
       "overflow": false,
       "plotOptions": {
        "customPlotOptions": {},
        "displayType": "table",
        "pivotAggregation": null,
        "pivotColumns": null,
        "xColumns": null,
        "yColumns": null
       },
       "removedWidgets": [],
       "schema": [],
       "type": "table"
      }
     },
     "output_type": "display_data"
    }
   ],
   "source": [
    "%sql\n",
    "\n",
    "USE CATALOG datum"
   ]
  },
  {
   "cell_type": "code",
   "execution_count": 0,
   "metadata": {
    "application/vnd.databricks.v1+cell": {
     "cellMetadata": {
      "byteLimit": 2048000,
      "implicitDf": true,
      "rowLimit": 10000
     },
     "inputWidgets": {},
     "nuid": "7a535627-2083-4b0b-a82f-672b0990e67f",
     "showTitle": false,
     "title": ""
    }
   },
   "outputs": [
    {
     "output_type": "display_data",
     "data": {
      "text/html": [
       "<style scoped>\n",
       "  .table-result-container {\n",
       "    max-height: 300px;\n",
       "    overflow: auto;\n",
       "  }\n",
       "  table, th, td {\n",
       "    border: 1px solid black;\n",
       "    border-collapse: collapse;\n",
       "  }\n",
       "  th, td {\n",
       "    padding: 5px;\n",
       "  }\n",
       "  th {\n",
       "    text-align: left;\n",
       "  }\n",
       "</style><div class='table-result-container'><table class='table-result'><thead style='background-color: white'><tr></tr></thead><tbody></tbody></table></div>"
      ]
     },
     "metadata": {
      "application/vnd.databricks.v1+output": {
       "addedWidgets": {},
       "aggData": [],
       "aggError": "",
       "aggOverflow": false,
       "aggSchema": [],
       "aggSeriesLimitReached": false,
       "aggType": "",
       "arguments": {},
       "columnCustomDisplayInfos": {},
       "data": [],
       "datasetInfos": [],
       "dbfsResultPath": null,
       "isJsonSchema": true,
       "metadata": {
        "dataframeName": null
       },
       "overflow": false,
       "plotOptions": {
        "customPlotOptions": {},
        "displayType": "table",
        "pivotAggregation": null,
        "pivotColumns": null,
        "xColumns": null,
        "yColumns": null
       },
       "removedWidgets": [],
       "schema": [],
       "type": "table"
      }
     },
     "output_type": "display_data"
    }
   ],
   "source": [
    "%sql\n",
    "\n",
    "USE DATABASE gold"
   ]
  },
  {
   "cell_type": "code",
   "execution_count": 0,
   "metadata": {
    "application/vnd.databricks.v1+cell": {
     "cellMetadata": {
      "byteLimit": 2048000,
      "implicitDf": true,
      "rowLimit": 10000
     },
     "inputWidgets": {},
     "nuid": "a3a32b54-333d-477f-9ed8-14e6b958decf",
     "showTitle": false,
     "title": ""
    }
   },
   "outputs": [
    {
     "output_type": "display_data",
     "data": {
      "text/html": [
       "<style scoped>\n",
       "  .table-result-container {\n",
       "    max-height: 300px;\n",
       "    overflow: auto;\n",
       "  }\n",
       "  table, th, td {\n",
       "    border: 1px solid black;\n",
       "    border-collapse: collapse;\n",
       "  }\n",
       "  th, td {\n",
       "    padding: 5px;\n",
       "  }\n",
       "  th {\n",
       "    text-align: left;\n",
       "  }\n",
       "</style><div class='table-result-container'><table class='table-result'><thead style='background-color: white'><tr></tr></thead><tbody></tbody></table></div>"
      ]
     },
     "metadata": {
      "application/vnd.databricks.v1+output": {
       "addedWidgets": {},
       "aggData": [],
       "aggError": "",
       "aggOverflow": false,
       "aggSchema": [],
       "aggSeriesLimitReached": false,
       "aggType": "",
       "arguments": {},
       "columnCustomDisplayInfos": {},
       "data": [],
       "datasetInfos": [],
       "dbfsResultPath": null,
       "isJsonSchema": true,
       "metadata": {
        "dataframeName": null
       },
       "overflow": false,
       "plotOptions": {
        "customPlotOptions": {},
        "displayType": "table",
        "pivotAggregation": null,
        "pivotColumns": null,
        "xColumns": null,
        "yColumns": null
       },
       "removedWidgets": [],
       "schema": [],
       "type": "table"
      }
     },
     "output_type": "display_data"
    }
   ],
   "source": [
    "%sql\n",
    "\n",
    "CREATE TABLE IF NOT EXISTS olist_vendas_dias_semana\n",
    "(\n",
    "  dia_da_semana  STRING NOT NULL,\n",
    "  total          DECIMAL(10,2),\n",
    "  date_ref_carga DATE\n",
    ")\n",
    "USING DELTA\n",
    "LOCATION 'abfss://unity-datum@datumunity.dfs.core.windows.net/gold/olist_vendas_dias_semana'\n",
    "PARTITIONED BY(date_ref_carga)"
   ]
  },
  {
   "cell_type": "code",
   "execution_count": 0,
   "metadata": {
    "application/vnd.databricks.v1+cell": {
     "cellMetadata": {
      "byteLimit": 2048000,
      "rowLimit": 10000
     },
     "inputWidgets": {},
     "nuid": "5b022235-2511-48cd-a415-2e363699feea",
     "showTitle": false,
     "title": ""
    }
   },
   "outputs": [],
   "source": [
    "if df_vendas_dia_semana.count() != 0 or df_vendas_dia_semana is not None:\n",
    "    df_vendas_dia_semana.write.format('delta').mode('overwrite').save('abfss://unity-datum@datumunity.dfs.core.windows.net/gold/olist_vendas_dias_semana')\n",
    "del df_vendas_dia_semana"
   ]
  },
  {
   "cell_type": "markdown",
   "metadata": {
    "application/vnd.databricks.v1+cell": {
     "cellMetadata": {
      "byteLimit": 2048000,
      "rowLimit": 10000
     },
     "inputWidgets": {},
     "nuid": "d75abccd-edb4-4a74-957a-2997c4101e78",
     "showTitle": false,
     "title": ""
    }
   },
   "source": [
    "## 3.2 Total (R$) de vendas por mês"
   ]
  },
  {
   "cell_type": "code",
   "execution_count": 0,
   "metadata": {
    "application/vnd.databricks.v1+cell": {
     "cellMetadata": {
      "byteLimit": 2048000,
      "rowLimit": 10000
     },
     "inputWidgets": {},
     "nuid": "df092c0e-e548-4d1e-8ea3-3944a271bd9d",
     "showTitle": false,
     "title": ""
    }
   },
   "outputs": [],
   "source": [
    "dict_month = {\n",
    "    '1': 'Janeiro',\n",
    "    '2': 'Fevereiro',\n",
    "    '3': 'Março',\n",
    "    '4': 'Abril',\n",
    "    '5': 'Maio',\n",
    "    '6': 'Junho',\n",
    "    '7': 'Julho',\n",
    "    '8': 'Agosto',\n",
    "    '9': 'Setembro',\n",
    "    '10': 'Outubro',\n",
    "    '11': 'Novembro',\n",
    "    '12': 'Dezembro'\n",
    "}\n",
    "\n",
    "udf_dict_month = udf(lambda x: dict_month.get(str(x)))"
   ]
  },
  {
   "cell_type": "code",
   "execution_count": 0,
   "metadata": {
    "application/vnd.databricks.v1+cell": {
     "cellMetadata": {
      "byteLimit": 2048000,
      "rowLimit": 10000
     },
     "inputWidgets": {},
     "nuid": "64519e34-11d6-4475-89c6-6ff7863fe155",
     "showTitle": false,
     "title": ""
    }
   },
   "outputs": [],
   "source": [
    "# Unindo os DataFrames de orders e payment para pegarmos as datas e valores nelas para agruparmos posteriormente\n",
    "df_vendas_mes = df_oders.select('order_id', 'order_approved_at').where(col('order_approved_at').isNotNull())\\\n",
    "                               .join(\n",
    "                                   df_payments.select('order_id', 'payment_value').where(col('payment_value').isNotNull()), \n",
    "                                   on = ['order_id'], how='inner')\n",
    "\n",
    "# Pegando o dia da semana referente a data                               \n",
    "df_vendas_mes = df_vendas_mes.withColumn('mes', month('order_approved_at'))\\\n",
    "                                           .select('mes', 'payment_value')\n",
    "\n",
    "# Aplicando a função para traduzir os dias da semana para português\n",
    "df_vendas_mes = df_vendas_mes.withColumn('mes', udf_dict_month('mes'))\n",
    "\n",
    "# Agrupando o DF nos dias da semana e somando os valor e por fim ordenando de forma decrescente por valor total\n",
    "df_vendas_mes = df_vendas_mes.groupBy('mes').agg(sum('payment_value').alias('total')).orderBy('total', ascending=False)\n",
    "\n",
    "# Convertendoo total para Decimal(10,2) por ser uma formato mais ideal dentro dos dados\n",
    "df_vendas_mes = df_vendas_mes.withColumn('total', col('total').cast(DecimalType(10,2)))\n",
    "\n",
    "# Por fim adicionando a coluna date_ref_carga para termos o controle no futuro em caso de registros para comparação com registros anteriormente processados\n",
    "df_vendas_mes = df_vendas_mes.withColumn('date_ref_carga', lit(datetime.now()).cast(DateType()))"
   ]
  },
  {
   "cell_type": "code",
   "execution_count": 0,
   "metadata": {
    "application/vnd.databricks.v1+cell": {
     "cellMetadata": {
      "byteLimit": 2048000,
      "rowLimit": 10000
     },
     "inputWidgets": {},
     "nuid": "2686669f-49c6-404a-b82e-61c504427a1a",
     "showTitle": false,
     "title": ""
    }
   },
   "outputs": [
    {
     "output_type": "display_data",
     "data": {
      "text/html": [
       "<style scoped>\n",
       "  .table-result-container {\n",
       "    max-height: 300px;\n",
       "    overflow: auto;\n",
       "  }\n",
       "  table, th, td {\n",
       "    border: 1px solid black;\n",
       "    border-collapse: collapse;\n",
       "  }\n",
       "  th, td {\n",
       "    padding: 5px;\n",
       "  }\n",
       "  th {\n",
       "    text-align: left;\n",
       "  }\n",
       "</style><div class='table-result-container'><table class='table-result'><thead style='background-color: white'><tr><th>mes</th><th>total</th><th>date_ref_carga</th></tr></thead><tbody><tr><td>Maio</td><td>1773271.90</td><td>2024-04-14</td></tr><tr><td>Agosto</td><td>1708221.51</td><td>2024-04-14</td></tr><tr><td>Julho</td><td>1628398.06</td><td>2024-04-14</td></tr><tr><td>Março</td><td>1616403.88</td><td>2024-04-14</td></tr><tr><td>Abril</td><td>1551231.40</td><td>2024-04-14</td></tr><tr><td>Junho</td><td>1543311.41</td><td>2024-04-14</td></tr><tr><td>Fevereiro</td><td>1276258.23</td><td>2024-04-14</td></tr><tr><td>Janeiro</td><td>1237912.54</td><td>2024-04-14</td></tr><tr><td>Novembro</td><td>1174911.51</td><td>2024-04-14</td></tr><tr><td>Dezembro</td><td>902554.31</td><td>2024-04-14</td></tr></tbody></table></div>"
      ]
     },
     "metadata": {
      "application/vnd.databricks.v1+output": {
       "addedWidgets": {},
       "aggData": [],
       "aggError": "",
       "aggOverflow": false,
       "aggSchema": [],
       "aggSeriesLimitReached": false,
       "aggType": "",
       "arguments": {},
       "columnCustomDisplayInfos": {},
       "data": [
        [
         "Maio",
         "1773271.90",
         "2024-04-14"
        ],
        [
         "Agosto",
         "1708221.51",
         "2024-04-14"
        ],
        [
         "Julho",
         "1628398.06",
         "2024-04-14"
        ],
        [
         "Março",
         "1616403.88",
         "2024-04-14"
        ],
        [
         "Abril",
         "1551231.40",
         "2024-04-14"
        ],
        [
         "Junho",
         "1543311.41",
         "2024-04-14"
        ],
        [
         "Fevereiro",
         "1276258.23",
         "2024-04-14"
        ],
        [
         "Janeiro",
         "1237912.54",
         "2024-04-14"
        ],
        [
         "Novembro",
         "1174911.51",
         "2024-04-14"
        ],
        [
         "Dezembro",
         "902554.31",
         "2024-04-14"
        ]
       ],
       "datasetInfos": [],
       "dbfsResultPath": null,
       "isJsonSchema": true,
       "metadata": {},
       "overflow": false,
       "plotOptions": {
        "customPlotOptions": {},
        "displayType": "table",
        "pivotAggregation": null,
        "pivotColumns": null,
        "xColumns": null,
        "yColumns": null
       },
       "removedWidgets": [],
       "schema": [
        {
         "metadata": "{}",
         "name": "mes",
         "type": "\"string\""
        },
        {
         "metadata": "{}",
         "name": "total",
         "type": "\"decimal(10,2)\""
        },
        {
         "metadata": "{}",
         "name": "date_ref_carga",
         "type": "\"date\""
        }
       ],
       "type": "table"
      }
     },
     "output_type": "display_data"
    }
   ],
   "source": [
    "df_vendas_mes.limit(10).display()"
   ]
  },
  {
   "cell_type": "markdown",
   "metadata": {
    "application/vnd.databricks.v1+cell": {
     "cellMetadata": {
      "byteLimit": 2048000,
      "rowLimit": 10000
     },
     "inputWidgets": {},
     "nuid": "bed42e4e-7cd9-44ae-932f-05fe9c7a97e8",
     "showTitle": false,
     "title": ""
    }
   },
   "source": [
    "\n",
    "### 3.2.1 Salvando dado na camada gold"
   ]
  },
  {
   "cell_type": "code",
   "execution_count": 0,
   "metadata": {
    "application/vnd.databricks.v1+cell": {
     "cellMetadata": {
      "byteLimit": 2048000,
      "implicitDf": true,
      "rowLimit": 10000
     },
     "inputWidgets": {},
     "nuid": "eaa0954d-6832-400b-b064-acfe9ed38674",
     "showTitle": false,
     "title": ""
    }
   },
   "outputs": [
    {
     "output_type": "display_data",
     "data": {
      "text/html": [
       "<style scoped>\n",
       "  .table-result-container {\n",
       "    max-height: 300px;\n",
       "    overflow: auto;\n",
       "  }\n",
       "  table, th, td {\n",
       "    border: 1px solid black;\n",
       "    border-collapse: collapse;\n",
       "  }\n",
       "  th, td {\n",
       "    padding: 5px;\n",
       "  }\n",
       "  th {\n",
       "    text-align: left;\n",
       "  }\n",
       "</style><div class='table-result-container'><table class='table-result'><thead style='background-color: white'><tr></tr></thead><tbody></tbody></table></div>"
      ]
     },
     "metadata": {
      "application/vnd.databricks.v1+output": {
       "addedWidgets": {},
       "aggData": [],
       "aggError": "",
       "aggOverflow": false,
       "aggSchema": [],
       "aggSeriesLimitReached": false,
       "aggType": "",
       "arguments": {},
       "columnCustomDisplayInfos": {},
       "data": [],
       "datasetInfos": [],
       "dbfsResultPath": null,
       "isJsonSchema": true,
       "metadata": {
        "dataframeName": null
       },
       "overflow": false,
       "plotOptions": {
        "customPlotOptions": {},
        "displayType": "table",
        "pivotAggregation": null,
        "pivotColumns": null,
        "xColumns": null,
        "yColumns": null
       },
       "removedWidgets": [],
       "schema": [],
       "type": "table"
      }
     },
     "output_type": "display_data"
    }
   ],
   "source": [
    "%sql\n",
    "\n",
    "CREATE TABLE IF NOT EXISTS olist_vendas_mes\n",
    "(\n",
    "  mes            STRING NOT NULL,\n",
    "  total          DECIMAL(10,2),\n",
    "  date_ref_carga DATE\n",
    ")\n",
    "USING DELTA\n",
    "LOCATION 'abfss://unity-datum@datumunity.dfs.core.windows.net/gold/olist_vendas_mes'\n",
    "PARTITIONED BY(date_ref_carga)"
   ]
  },
  {
   "cell_type": "code",
   "execution_count": 0,
   "metadata": {
    "application/vnd.databricks.v1+cell": {
     "cellMetadata": {
      "byteLimit": 2048000,
      "rowLimit": 10000
     },
     "inputWidgets": {},
     "nuid": "79e1a077-7236-4d99-88d9-2351306b99bb",
     "showTitle": false,
     "title": ""
    }
   },
   "outputs": [],
   "source": [
    "if df_vendas_mes.count() != 0 or df_vendas_mes is not None:\n",
    "    df_vendas_mes.write.format('delta').mode('overwrite').save('abfss://unity-datum@datumunity.dfs.core.windows.net/gold/olist_vendas_mes')\n",
    "del df_vendas_mes"
   ]
  },
  {
   "cell_type": "markdown",
   "metadata": {
    "application/vnd.databricks.v1+cell": {
     "cellMetadata": {
      "byteLimit": 2048000,
      "rowLimit": 10000
     },
     "inputWidgets": {},
     "nuid": "e5cfc142-da47-49aa-95d9-b44970d2d5cc",
     "showTitle": false,
     "title": ""
    }
   },
   "source": [
    "## 3.3 Total (R$) de vendas por estado"
   ]
  },
  {
   "cell_type": "code",
   "execution_count": 0,
   "metadata": {
    "application/vnd.databricks.v1+cell": {
     "cellMetadata": {
      "byteLimit": 2048000,
      "rowLimit": 10000
     },
     "inputWidgets": {},
     "nuid": "5cecb6e8-7453-4a2d-93f2-a14e0592979a",
     "showTitle": false,
     "title": ""
    }
   },
   "outputs": [],
   "source": [
    "df_vendas_estado = df_oders.join(df_customers, on = ['customer_id'], how='inner')\\\n",
    "                           .select('order_id', 'customer_state')\\\n",
    "                           .join(df_payments.select('order_id', 'payment_value'), \n",
    "                                 on = ['order_id'], \n",
    "                                 how='inner').\\\n",
    "                           select('customer_state', 'payment_value')\n",
    "\n",
    "df_vendas_estado = df_vendas_estado.groupBy('customer_state').agg(sum('payment_value').alias('total'))\n",
    "df_vendas_estado = df_vendas_estado.withColumnRenamed('customer_state', 'estado')\n",
    "df_vendas_estado = df_vendas_estado.withColumn('total', col('total').cast(DecimalType(10,2)))\n",
    "df_vendas_estado = df_vendas_estado.withColumn('date_ref_carga', lit(datetime.now()).cast(DateType()))"
   ]
  },
  {
   "cell_type": "code",
   "execution_count": 0,
   "metadata": {
    "application/vnd.databricks.v1+cell": {
     "cellMetadata": {
      "byteLimit": 2048000,
      "rowLimit": 10000
     },
     "inputWidgets": {},
     "nuid": "05e5a255-1933-4e89-aa12-84546a5e4c8a",
     "showTitle": false,
     "title": ""
    }
   },
   "outputs": [
    {
     "output_type": "display_data",
     "data": {
      "text/html": [
       "<style scoped>\n",
       "  .table-result-container {\n",
       "    max-height: 300px;\n",
       "    overflow: auto;\n",
       "  }\n",
       "  table, th, td {\n",
       "    border: 1px solid black;\n",
       "    border-collapse: collapse;\n",
       "  }\n",
       "  th, td {\n",
       "    padding: 5px;\n",
       "  }\n",
       "  th {\n",
       "    text-align: left;\n",
       "  }\n",
       "</style><div class='table-result-container'><table class='table-result'><thead style='background-color: white'><tr><th>estado</th><th>total</th><th>date_ref_carga</th></tr></thead><tbody><tr><td>SP</td><td>5998226.96</td><td>2024-04-14</td></tr><tr><td>RJ</td><td>2144379.69</td><td>2024-04-14</td></tr><tr><td>MG</td><td>1872257.26</td><td>2024-04-14</td></tr><tr><td>RS</td><td>890898.54</td><td>2024-04-14</td></tr><tr><td>PR</td><td>811156.38</td><td>2024-04-14</td></tr><tr><td>SC</td><td>623086.43</td><td>2024-04-14</td></tr><tr><td>BA</td><td>616645.82</td><td>2024-04-14</td></tr><tr><td>DF</td><td>355141.08</td><td>2024-04-14</td></tr><tr><td>GO</td><td>350092.31</td><td>2024-04-14</td></tr><tr><td>ES</td><td>325967.55</td><td>2024-04-14</td></tr></tbody></table></div>"
      ]
     },
     "metadata": {
      "application/vnd.databricks.v1+output": {
       "addedWidgets": {},
       "aggData": [],
       "aggError": "",
       "aggOverflow": false,
       "aggSchema": [],
       "aggSeriesLimitReached": false,
       "aggType": "",
       "arguments": {},
       "columnCustomDisplayInfos": {},
       "data": [
        [
         "SP",
         "5998226.96",
         "2024-04-14"
        ],
        [
         "RJ",
         "2144379.69",
         "2024-04-14"
        ],
        [
         "MG",
         "1872257.26",
         "2024-04-14"
        ],
        [
         "RS",
         "890898.54",
         "2024-04-14"
        ],
        [
         "PR",
         "811156.38",
         "2024-04-14"
        ],
        [
         "SC",
         "623086.43",
         "2024-04-14"
        ],
        [
         "BA",
         "616645.82",
         "2024-04-14"
        ],
        [
         "DF",
         "355141.08",
         "2024-04-14"
        ],
        [
         "GO",
         "350092.31",
         "2024-04-14"
        ],
        [
         "ES",
         "325967.55",
         "2024-04-14"
        ]
       ],
       "datasetInfos": [],
       "dbfsResultPath": null,
       "isJsonSchema": true,
       "metadata": {},
       "overflow": false,
       "plotOptions": {
        "customPlotOptions": {},
        "displayType": "table",
        "pivotAggregation": null,
        "pivotColumns": null,
        "xColumns": null,
        "yColumns": null
       },
       "removedWidgets": [],
       "schema": [
        {
         "metadata": "{}",
         "name": "estado",
         "type": "\"string\""
        },
        {
         "metadata": "{}",
         "name": "total",
         "type": "\"decimal(10,2)\""
        },
        {
         "metadata": "{}",
         "name": "date_ref_carga",
         "type": "\"date\""
        }
       ],
       "type": "table"
      }
     },
     "output_type": "display_data"
    }
   ],
   "source": [
    "df_vendas_estado.orderBy('total', ascending=False).limit(10).display()"
   ]
  },
  {
   "cell_type": "markdown",
   "metadata": {
    "application/vnd.databricks.v1+cell": {
     "cellMetadata": {
      "byteLimit": 2048000,
      "rowLimit": 10000
     },
     "inputWidgets": {},
     "nuid": "b6d64014-8579-4b73-bd12-ed34eeeaff56",
     "showTitle": false,
     "title": ""
    }
   },
   "source": [
    "\n",
    "### 3.3.1 Salvando dado na camada gold"
   ]
  },
  {
   "cell_type": "code",
   "execution_count": 0,
   "metadata": {
    "application/vnd.databricks.v1+cell": {
     "cellMetadata": {
      "byteLimit": 2048000,
      "implicitDf": true,
      "rowLimit": 10000
     },
     "inputWidgets": {},
     "nuid": "aba9843b-b8a8-4763-9b59-022262676051",
     "showTitle": false,
     "title": ""
    }
   },
   "outputs": [
    {
     "output_type": "display_data",
     "data": {
      "text/html": [
       "<style scoped>\n",
       "  .table-result-container {\n",
       "    max-height: 300px;\n",
       "    overflow: auto;\n",
       "  }\n",
       "  table, th, td {\n",
       "    border: 1px solid black;\n",
       "    border-collapse: collapse;\n",
       "  }\n",
       "  th, td {\n",
       "    padding: 5px;\n",
       "  }\n",
       "  th {\n",
       "    text-align: left;\n",
       "  }\n",
       "</style><div class='table-result-container'><table class='table-result'><thead style='background-color: white'><tr></tr></thead><tbody></tbody></table></div>"
      ]
     },
     "metadata": {
      "application/vnd.databricks.v1+output": {
       "addedWidgets": {},
       "aggData": [],
       "aggError": "",
       "aggOverflow": false,
       "aggSchema": [],
       "aggSeriesLimitReached": false,
       "aggType": "",
       "arguments": {},
       "columnCustomDisplayInfos": {},
       "data": [],
       "datasetInfos": [],
       "dbfsResultPath": null,
       "isJsonSchema": true,
       "metadata": {
        "dataframeName": null
       },
       "overflow": false,
       "plotOptions": {
        "customPlotOptions": {},
        "displayType": "table",
        "pivotAggregation": null,
        "pivotColumns": null,
        "xColumns": null,
        "yColumns": null
       },
       "removedWidgets": [],
       "schema": [],
       "type": "table"
      }
     },
     "output_type": "display_data"
    }
   ],
   "source": [
    "%sql\n",
    "\n",
    "CREATE TABLE IF NOT EXISTS olist_vendas_estado\n",
    "(\n",
    "  estado         STRING NOT NULL,\n",
    "  total          DECIMAL(10,2),\n",
    "  date_ref_carga DATE\n",
    ")\n",
    "USING DELTA\n",
    "LOCATION 'abfss://unity-datum@datumunity.dfs.core.windows.net/gold/olist_vendas_estado'\n",
    "PARTITIONED BY(date_ref_carga)"
   ]
  },
  {
   "cell_type": "code",
   "execution_count": 0,
   "metadata": {
    "application/vnd.databricks.v1+cell": {
     "cellMetadata": {
      "byteLimit": 2048000,
      "rowLimit": 10000
     },
     "inputWidgets": {},
     "nuid": "d4872338-06bb-4ac9-89f6-eff6d14f7f09",
     "showTitle": false,
     "title": ""
    }
   },
   "outputs": [],
   "source": [
    "if df_vendas_estado.count() != 0 or df_vendas_estado is not None:\n",
    "    df_vendas_estado.write.format('delta').mode('overwrite').save('abfss://unity-datum@datumunity.dfs.core.windows.net/gold/olist_vendas_estado')\n",
    "del df_vendas_estado"
   ]
  }
 ],
 "metadata": {
  "application/vnd.databricks.v1+notebook": {
   "dashboards": [],
   "language": "python",
   "notebookMetadata": {
    "mostRecentlyExecutedCommandWithImplicitDF": {
     "commandId": 4421024554072249,
     "dataframes": [
      "_sqldf"
     ]
    },
    "pythonIndentUnit": 4
   },
   "notebookName": "PRODUTOS MAIS VENDIDOS",
   "widgets": {}
  }
 },
 "nbformat": 4,
 "nbformat_minor": 0
}
