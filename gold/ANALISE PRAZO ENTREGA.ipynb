{
 "cells": [
  {
   "cell_type": "markdown",
   "metadata": {
    "application/vnd.databricks.v1+cell": {
     "cellMetadata": {
      "byteLimit": 2048000,
      "rowLimit": 10000
     },
     "inputWidgets": {},
     "nuid": "15083a96-88da-4929-b38d-a378a967f9aa",
     "showTitle": false,
     "title": ""
    }
   },
   "source": [
    "\n",
    "# 1. Bibliotecas"
   ]
  },
  {
   "cell_type": "code",
   "execution_count": 0,
   "metadata": {
    "application/vnd.databricks.v1+cell": {
     "cellMetadata": {
      "byteLimit": 2048000,
      "rowLimit": 10000
     },
     "inputWidgets": {},
     "nuid": "c2cf52d3-c05e-4cdb-81ce-593bd3ef6fcc",
     "showTitle": false,
     "title": ""
    }
   },
   "outputs": [],
   "source": [
    "from pyspark.sql.functions import col, when, expr, lit\n",
    "from pyspark.sql.types import DecimalType, DateType, IntegerType\n",
    "from datetime import datetime"
   ]
  },
  {
   "cell_type": "markdown",
   "metadata": {
    "application/vnd.databricks.v1+cell": {
     "cellMetadata": {
      "byteLimit": 2048000,
      "rowLimit": 10000
     },
     "inputWidgets": {},
     "nuid": "542f02fe-077a-47f6-861e-2c218a2adb05",
     "showTitle": false,
     "title": ""
    }
   },
   "source": [
    "---\n",
    "\n",
    "# 2. Carregando dados\n",
    "\n",
    "Utilizado sql para usar unity catalog"
   ]
  },
  {
   "cell_type": "code",
   "execution_count": 0,
   "metadata": {
    "application/vnd.databricks.v1+cell": {
     "cellMetadata": {
      "byteLimit": 2048000,
      "rowLimit": 10000
     },
     "inputWidgets": {},
     "nuid": "dabc7c69-6f14-4315-9097-c2d7773c0a00",
     "showTitle": false,
     "title": ""
    }
   },
   "outputs": [],
   "source": [
    "df_orders = spark.table('datum.silver.olist_orders')\n",
    "df_orders_diff = spark.table('datum.silver.olist_orders_datediff')\n",
    "\n",
    "df_orders = df_orders.join(df_orders_diff, (df_orders.order_id == df_orders_diff.order_id) & (df_orders.customer_id == df_orders_diff.customer_id), how = 'inner').where(col('order_status') == 'delivered')\n",
    "\n",
    "del df_orders_diff"
   ]
  },
  {
   "cell_type": "markdown",
   "metadata": {
    "application/vnd.databricks.v1+cell": {
     "cellMetadata": {
      "byteLimit": 2048000,
      "rowLimit": 10000
     },
     "inputWidgets": {},
     "nuid": "195a0113-b8fe-4821-adea-c3e67342a1f7",
     "showTitle": false,
     "title": ""
    }
   },
   "source": [
    "---\n",
    "# 3. Análise"
   ]
  },
  {
   "cell_type": "markdown",
   "metadata": {
    "application/vnd.databricks.v1+cell": {
     "cellMetadata": {
      "byteLimit": 2048000,
      "rowLimit": 10000
     },
     "inputWidgets": {},
     "nuid": "7b96f93b-3083-4838-bf30-ff56635345e5",
     "showTitle": false,
     "title": ""
    }
   },
   "source": [
    "\n",
    "## 3.1 Agrupamento por categorização"
   ]
  },
  {
   "cell_type": "markdown",
   "metadata": {
    "application/vnd.databricks.v1+cell": {
     "cellMetadata": {
      "byteLimit": 2048000,
      "rowLimit": 10000
     },
     "inputWidgets": {},
     "nuid": "078fe645-70b4-4d47-a81b-4435260e1865",
     "showTitle": false,
     "title": ""
    }
   },
   "source": [
    "\n",
    "Assumindo as seguinte política para entrega\n",
    "\n",
    "| intervalo em dias | gravidade | sigla |\n",
    "| ----------------- | --------- | ----- |\n",
    "| 0 a - 5 dias | bom | B |\n",
    "| -6 a -12 dias | ótimo | O |\n",
    "| inferior a 12 dias | excelente | E |\n",
    "| 1 a 3 dias | tolerável | T |\n",
    "| 4 a 7 dias | ruim | R |\n",
    "| 8 a 14 dias | grave | G |\n",
    "| 15 a 28 dias | péssimo | P | \n",
    "| superior a 28 dias | urgente | U |"
   ]
  },
  {
   "cell_type": "code",
   "execution_count": 0,
   "metadata": {
    "application/vnd.databricks.v1+cell": {
     "cellMetadata": {
      "byteLimit": 2048000,
      "rowLimit": 10000
     },
     "inputWidgets": {},
     "nuid": "1252fe2c-fe31-4fe7-b732-fba9b7d14dbc",
     "showTitle": false,
     "title": ""
    }
   },
   "outputs": [],
   "source": [
    "df_orders = (df_orders.withColumn('analise_entrega',\n",
    "                  when((col('delivery_diff_promissed') <= 0) & (col('delivery_diff_promissed') >= -5), 'B | BOM').\n",
    "                  when((col('delivery_diff_promissed') <= -6) & (col('delivery_diff_promissed') >= -12), 'O | OTIMO').\n",
    "                  when(col('delivery_diff_promissed') < -12, 'E | EXCELENTE').\n",
    "                  when((col('delivery_diff_promissed') >= 1) & (col('delivery_diff_promissed') <= 3), 'T | TOLERAVEL').\n",
    "                  when((col('delivery_diff_promissed') >= 4) & (col('delivery_diff_promissed') <= 7), 'R | RUIM').\n",
    "                  when((col('delivery_diff_promissed') >= 8) & (col('delivery_diff_promissed') <= 14), 'G | GRAVE').\n",
    "                  when((col('delivery_diff_promissed') >= 15) & (col('delivery_diff_promissed') <= 28), 'P | PESSIMO').\n",
    "                  when(col('delivery_diff_promissed') > 28, 'U | URGENTE')\n",
    "                  ))\n",
    "\n",
    "df_orders_sigla = df_orders.groupBy('analise_entrega').count().withColumn('porcentagem', (col('count')/df_orders.count() * 100).cast(DecimalType(5,2)))\n",
    "df_orders_sigla = (df_orders_sigla.withColumnRenamed('analise_entrega', 'sigla').\n",
    "                                   withColumnRenamed('count', 'ordens').\n",
    "                                   withColumn('date_ref_carga', lit(datetime.now()).cast(DateType())).\n",
    "                                   withColumn('ordens', col('ordens').cast(IntegerType())))\n",
    "\n",
    "del df_orders"
   ]
  },
  {
   "cell_type": "code",
   "execution_count": 0,
   "metadata": {
    "application/vnd.databricks.v1+cell": {
     "cellMetadata": {
      "byteLimit": 2048000,
      "rowLimit": 10000
     },
     "inputWidgets": {},
     "nuid": "415f4f54-ef5c-4d5f-8817-4bddf3ef140f",
     "showTitle": false,
     "title": ""
    }
   },
   "outputs": [
    {
     "output_type": "display_data",
     "data": {
      "text/html": [
       "<style scoped>\n",
       "  .table-result-container {\n",
       "    max-height: 300px;\n",
       "    overflow: auto;\n",
       "  }\n",
       "  table, th, td {\n",
       "    border: 1px solid black;\n",
       "    border-collapse: collapse;\n",
       "  }\n",
       "  th, td {\n",
       "    padding: 5px;\n",
       "  }\n",
       "  th {\n",
       "    text-align: left;\n",
       "  }\n",
       "</style><div class='table-result-container'><table class='table-result'><thead style='background-color: white'><tr><th>sigla</th><th>ordens</th><th>porcentagem</th><th>date_ref_carga</th></tr></thead><tbody><tr><td>U | URGENTE</td><td>399</td><td>0.41</td><td>2024-04-14</td></tr><tr><td>O | OTIMO</td><td>31737</td><td>32.90</td><td>2024-04-14</td></tr><tr><td>E | EXCELENTE</td><td>48028</td><td>49.79</td><td>2024-04-14</td></tr><tr><td>T | TOLERAVEL</td><td>1870</td><td>1.94</td><td>2024-04-14</td></tr><tr><td>B | BOM</td><td>10171</td><td>10.54</td><td>2024-04-14</td></tr><tr><td>P | PESSIMO</td><td>985</td><td>1.02</td><td>2024-04-14</td></tr><tr><td>G | GRAVE</td><td>1478</td><td>1.53</td><td>2024-04-14</td></tr><tr><td>R | RUIM</td><td>1802</td><td>1.87</td><td>2024-04-14</td></tr></tbody></table></div>"
      ]
     },
     "metadata": {
      "application/vnd.databricks.v1+output": {
       "addedWidgets": {},
       "aggData": [],
       "aggError": "",
       "aggOverflow": false,
       "aggSchema": [],
       "aggSeriesLimitReached": false,
       "aggType": "",
       "arguments": {},
       "columnCustomDisplayInfos": {},
       "data": [
        [
         "U | URGENTE",
         399,
         "0.41",
         "2024-04-14"
        ],
        [
         "O | OTIMO",
         31737,
         "32.90",
         "2024-04-14"
        ],
        [
         "E | EXCELENTE",
         48028,
         "49.79",
         "2024-04-14"
        ],
        [
         "T | TOLERAVEL",
         1870,
         "1.94",
         "2024-04-14"
        ],
        [
         "B | BOM",
         10171,
         "10.54",
         "2024-04-14"
        ],
        [
         "P | PESSIMO",
         985,
         "1.02",
         "2024-04-14"
        ],
        [
         "G | GRAVE",
         1478,
         "1.53",
         "2024-04-14"
        ],
        [
         "R | RUIM",
         1802,
         "1.87",
         "2024-04-14"
        ]
       ],
       "datasetInfos": [],
       "dbfsResultPath": null,
       "isJsonSchema": true,
       "metadata": {},
       "overflow": false,
       "plotOptions": {
        "customPlotOptions": {},
        "displayType": "table",
        "pivotAggregation": null,
        "pivotColumns": null,
        "xColumns": null,
        "yColumns": null
       },
       "removedWidgets": [],
       "schema": [
        {
         "metadata": "{}",
         "name": "sigla",
         "type": "\"string\""
        },
        {
         "metadata": "{}",
         "name": "ordens",
         "type": "\"integer\""
        },
        {
         "metadata": "{}",
         "name": "porcentagem",
         "type": "\"decimal(5,2)\""
        },
        {
         "metadata": "{}",
         "name": "date_ref_carga",
         "type": "\"date\""
        }
       ],
       "type": "table"
      }
     },
     "output_type": "display_data"
    }
   ],
   "source": [
    "df_orders_sigla.display()"
   ]
  },
  {
   "cell_type": "markdown",
   "metadata": {
    "application/vnd.databricks.v1+cell": {
     "cellMetadata": {
      "byteLimit": 2048000,
      "rowLimit": 10000
     },
     "inputWidgets": {},
     "nuid": "87c4141e-d729-4aa7-af02-2027b15c15a4",
     "showTitle": false,
     "title": ""
    }
   },
   "source": [
    "\n",
    "Acima é realizado uma análise agrupando e categorizando as datas de entrega realizadas na categoria juntamente com o volume de pedidos e porcentagem proporcional de cada sigla"
   ]
  },
  {
   "cell_type": "markdown",
   "metadata": {
    "application/vnd.databricks.v1+cell": {
     "cellMetadata": {
      "byteLimit": 2048000,
      "rowLimit": 10000
     },
     "inputWidgets": {},
     "nuid": "744a0c71-c448-4790-9bab-784f978806ed",
     "showTitle": false,
     "title": ""
    }
   },
   "source": [
    "\n",
    "## 3.2 Agrupamento por categorização e estado"
   ]
  },
  {
   "cell_type": "code",
   "execution_count": 0,
   "metadata": {
    "application/vnd.databricks.v1+cell": {
     "cellMetadata": {
      "byteLimit": 2048000,
      "implicitDf": true,
      "rowLimit": 10000
     },
     "inputWidgets": {},
     "nuid": "04b3bbf8-9a05-416d-b41f-9fd6a686345d",
     "showTitle": false,
     "title": ""
    }
   },
   "outputs": [
    {
     "output_type": "display_data",
     "data": {
      "text/html": [
       "<style scoped>\n",
       "  .table-result-container {\n",
       "    max-height: 300px;\n",
       "    overflow: auto;\n",
       "  }\n",
       "  table, th, td {\n",
       "    border: 1px solid black;\n",
       "    border-collapse: collapse;\n",
       "  }\n",
       "  th, td {\n",
       "    padding: 5px;\n",
       "  }\n",
       "  th {\n",
       "    text-align: left;\n",
       "  }\n",
       "</style><div class='table-result-container'><table class='table-result'><thead style='background-color: white'><tr><th>estado</th><th>sigla</th><th>ordens</th><th>porcentagem</th><th>date_ref_carga</th></tr></thead><tbody><tr><td>AC</td><td>E | EXCELENTE</td><td>65</td><td>81.25</td><td>2024-04-14</td></tr><tr><td>AC</td><td>O | OTIMO</td><td>8</td><td>10.00</td><td>2024-04-14</td></tr><tr><td>AC</td><td>B | BOM</td><td>5</td><td>6.25</td><td>2024-04-14</td></tr><tr><td>AC</td><td>P | PESSIMO</td><td>1</td><td>1.25</td><td>2024-04-14</td></tr><tr><td>AC</td><td>T | TOLERAVEL</td><td>1</td><td>1.25</td><td>2024-04-14</td></tr><tr><td>AL</td><td>E | EXCELENTE</td><td>170</td><td>42.82</td><td>2024-04-14</td></tr><tr><td>AL</td><td>O | OTIMO</td><td>82</td><td>20.65</td><td>2024-04-14</td></tr><tr><td>AL</td><td>B | BOM</td><td>64</td><td>16.12</td><td>2024-04-14</td></tr><tr><td>AL</td><td>R | RUIM</td><td>29</td><td>7.30</td><td>2024-04-14</td></tr><tr><td>AL</td><td>G | GRAVE</td><td>24</td><td>6.05</td><td>2024-04-14</td></tr><tr><td>AL</td><td>T | TOLERAVEL</td><td>16</td><td>4.03</td><td>2024-04-14</td></tr><tr><td>AL</td><td>P | PESSIMO</td><td>12</td><td>3.02</td><td>2024-04-14</td></tr><tr><td>AM</td><td>E | EXCELENTE</td><td>107</td><td>73.79</td><td>2024-04-14</td></tr><tr><td>AM</td><td>O | OTIMO</td><td>26</td><td>17.93</td><td>2024-04-14</td></tr><tr><td>AM</td><td>B | BOM</td><td>9</td><td>6.21</td><td>2024-04-14</td></tr><tr><td>AM</td><td>T | TOLERAVEL</td><td>2</td><td>1.38</td><td>2024-04-14</td></tr><tr><td>AM</td><td>G | GRAVE</td><td>1</td><td>0.69</td><td>2024-04-14</td></tr><tr><td>AP</td><td>E | EXCELENTE</td><td>57</td><td>85.07</td><td>2024-04-14</td></tr><tr><td>AP</td><td>O | OTIMO</td><td>7</td><td>10.45</td><td>2024-04-14</td></tr><tr><td>AP</td><td>B | BOM</td><td>2</td><td>2.99</td><td>2024-04-14</td></tr><tr><td>AP</td><td>T | TOLERAVEL</td><td>1</td><td>1.49</td><td>2024-04-14</td></tr><tr><td>BA</td><td>E | EXCELENTE</td><td>1612</td><td>49.51</td><td>2024-04-14</td></tr><tr><td>BA</td><td>O | OTIMO</td><td>897</td><td>27.55</td><td>2024-04-14</td></tr><tr><td>BA</td><td>B | BOM</td><td>380</td><td>11.67</td><td>2024-04-14</td></tr><tr><td>BA</td><td>R | RUIM</td><td>116</td><td>3.56</td><td>2024-04-14</td></tr><tr><td>BA</td><td>G | GRAVE</td><td>107</td><td>3.29</td><td>2024-04-14</td></tr><tr><td>BA</td><td>T | TOLERAVEL</td><td>93</td><td>2.86</td><td>2024-04-14</td></tr><tr><td>BA</td><td>P | PESSIMO</td><td>51</td><td>1.57</td><td>2024-04-14</td></tr><tr><td>CE</td><td>E | EXCELENTE</td><td>668</td><td>52.23</td><td>2024-04-14</td></tr><tr><td>CE</td><td>O | OTIMO</td><td>311</td><td>24.32</td><td>2024-04-14</td></tr><tr><td>CE</td><td>B | BOM</td><td>148</td><td>11.57</td><td>2024-04-14</td></tr><tr><td>CE</td><td>G | GRAVE</td><td>55</td><td>4.30</td><td>2024-04-14</td></tr><tr><td>CE</td><td>P | PESSIMO</td><td>34</td><td>2.66</td><td>2024-04-14</td></tr><tr><td>CE</td><td>R | RUIM</td><td>33</td><td>2.58</td><td>2024-04-14</td></tr><tr><td>CE</td><td>T | TOLERAVEL</td><td>30</td><td>2.35</td><td>2024-04-14</td></tr><tr><td>DF</td><td>E | EXCELENTE</td><td>1044</td><td>50.19</td><td>2024-04-14</td></tr><tr><td>DF</td><td>O | OTIMO</td><td>697</td><td>33.51</td><td>2024-04-14</td></tr><tr><td>DF</td><td>B | BOM</td><td>224</td><td>10.77</td><td>2024-04-14</td></tr><tr><td>DF</td><td>T | TOLERAVEL</td><td>39</td><td>1.88</td><td>2024-04-14</td></tr><tr><td>DF</td><td>R | RUIM</td><td>37</td><td>1.78</td><td>2024-04-14</td></tr><tr><td>DF</td><td>G | GRAVE</td><td>27</td><td>1.30</td><td>2024-04-14</td></tr><tr><td>DF</td><td>P | PESSIMO</td><td>12</td><td>0.58</td><td>2024-04-14</td></tr><tr><td>ES</td><td>E | EXCELENTE</td><td>938</td><td>47.02</td><td>2024-04-14</td></tr><tr><td>ES</td><td>O | OTIMO</td><td>628</td><td>31.48</td><td>2024-04-14</td></tr><tr><td>ES</td><td>B | BOM</td><td>227</td><td>11.38</td><td>2024-04-14</td></tr><tr><td>ES</td><td>R | RUIM</td><td>70</td><td>3.51</td><td>2024-04-14</td></tr><tr><td>ES</td><td>T | TOLERAVEL</td><td>56</td><td>2.81</td><td>2024-04-14</td></tr><tr><td>ES</td><td>G | GRAVE</td><td>43</td><td>2.16</td><td>2024-04-14</td></tr><tr><td>ES</td><td>P | PESSIMO</td><td>33</td><td>1.65</td><td>2024-04-14</td></tr><tr><td>GO</td><td>E | EXCELENTE</td><td>1053</td><td>53.81</td><td>2024-04-14</td></tr><tr><td>GO</td><td>O | OTIMO</td><td>581</td><td>29.69</td><td>2024-04-14</td></tr><tr><td>GO</td><td>B | BOM</td><td>204</td><td>10.42</td><td>2024-04-14</td></tr><tr><td>GO</td><td>T | TOLERAVEL</td><td>37</td><td>1.89</td><td>2024-04-14</td></tr><tr><td>GO</td><td>R | RUIM</td><td>36</td><td>1.84</td><td>2024-04-14</td></tr><tr><td>GO</td><td>G | GRAVE</td><td>24</td><td>1.23</td><td>2024-04-14</td></tr><tr><td>GO</td><td>P | PESSIMO</td><td>22</td><td>1.12</td><td>2024-04-14</td></tr><tr><td>MA</td><td>E | EXCELENTE</td><td>308</td><td>42.96</td><td>2024-04-14</td></tr><tr><td>MA</td><td>O | OTIMO</td><td>200</td><td>27.89</td><td>2024-04-14</td></tr><tr><td>MA</td><td>B | BOM</td><td>88</td><td>12.27</td><td>2024-04-14</td></tr><tr><td>MA</td><td>G | GRAVE</td><td>35</td><td>4.88</td><td>2024-04-14</td></tr><tr><td>MA</td><td>T | TOLERAVEL</td><td>33</td><td>4.60</td><td>2024-04-14</td></tr><tr><td>MA</td><td>R | RUIM</td><td>29</td><td>4.04</td><td>2024-04-14</td></tr><tr><td>MA</td><td>P | PESSIMO</td><td>24</td><td>3.35</td><td>2024-04-14</td></tr><tr><td>MG</td><td>E | EXCELENTE</td><td>6644</td><td>58.51</td><td>2024-04-14</td></tr><tr><td>MG</td><td>O | OTIMO</td><td>3358</td><td>29.57</td><td>2024-04-14</td></tr><tr><td>MG</td><td>B | BOM</td><td>852</td><td>7.50</td><td>2024-04-14</td></tr><tr><td>MG</td><td>T | TOLERAVEL</td><td>180</td><td>1.59</td><td>2024-04-14</td></tr><tr><td>MG</td><td>R | RUIM</td><td>156</td><td>1.37</td><td>2024-04-14</td></tr><tr><td>MG</td><td>G | GRAVE</td><td>99</td><td>0.87</td><td>2024-04-14</td></tr><tr><td>MG</td><td>P | PESSIMO</td><td>66</td><td>0.58</td><td>2024-04-14</td></tr><tr><td>MS</td><td>E | EXCELENTE</td><td>345</td><td>49.22</td><td>2024-04-14</td></tr><tr><td>MS</td><td>O | OTIMO</td><td>211</td><td>30.10</td><td>2024-04-14</td></tr><tr><td>MS</td><td>B | BOM</td><td>80</td><td>11.41</td><td>2024-04-14</td></tr><tr><td>MS</td><td>T | TOLERAVEL</td><td>22</td><td>3.14</td><td>2024-04-14</td></tr><tr><td>MS</td><td>R | RUIM</td><td>19</td><td>2.71</td><td>2024-04-14</td></tr><tr><td>MS</td><td>G | GRAVE</td><td>18</td><td>2.57</td><td>2024-04-14</td></tr><tr><td>MS</td><td>P | PESSIMO</td><td>6</td><td>0.86</td><td>2024-04-14</td></tr><tr><td>MT</td><td>E | EXCELENTE</td><td>581</td><td>65.58</td><td>2024-04-14</td></tr><tr><td>MT</td><td>O | OTIMO</td><td>187</td><td>21.11</td><td>2024-04-14</td></tr><tr><td>MT</td><td>B | BOM</td><td>68</td><td>7.67</td><td>2024-04-14</td></tr><tr><td>MT</td><td>G | GRAVE</td><td>16</td><td>1.81</td><td>2024-04-14</td></tr><tr><td>MT</td><td>T | TOLERAVEL</td><td>16</td><td>1.81</td><td>2024-04-14</td></tr><tr><td>MT</td><td>P | PESSIMO</td><td>10</td><td>1.13</td><td>2024-04-14</td></tr><tr><td>MT</td><td>R | RUIM</td><td>8</td><td>0.90</td><td>2024-04-14</td></tr><tr><td>PA</td><td>E | EXCELENTE</td><td>596</td><td>63.00</td><td>2024-04-14</td></tr><tr><td>PA</td><td>O | OTIMO</td><td>172</td><td>18.18</td><td>2024-04-14</td></tr><tr><td>PA</td><td>B | BOM</td><td>80</td><td>8.46</td><td>2024-04-14</td></tr><tr><td>PA</td><td>R | RUIM</td><td>31</td><td>3.28</td><td>2024-04-14</td></tr><tr><td>PA</td><td>G | GRAVE</td><td>30</td><td>3.17</td><td>2024-04-14</td></tr><tr><td>PA</td><td>P | PESSIMO</td><td>21</td><td>2.22</td><td>2024-04-14</td></tr><tr><td>PA</td><td>T | TOLERAVEL</td><td>16</td><td>1.69</td><td>2024-04-14</td></tr><tr><td>PB</td><td>E | EXCELENTE</td><td>314</td><td>60.74</td><td>2024-04-14</td></tr><tr><td>PB</td><td>O | OTIMO</td><td>109</td><td>21.08</td><td>2024-04-14</td></tr><tr><td>PB</td><td>B | BOM</td><td>43</td><td>8.32</td><td>2024-04-14</td></tr><tr><td>PB</td><td>R | RUIM</td><td>19</td><td>3.68</td><td>2024-04-14</td></tr><tr><td>PB</td><td>T | TOLERAVEL</td><td>14</td><td>2.71</td><td>2024-04-14</td></tr><tr><td>PB</td><td>G | GRAVE</td><td>12</td><td>2.32</td><td>2024-04-14</td></tr><tr><td>PB</td><td>P | PESSIMO</td><td>6</td><td>1.16</td><td>2024-04-14</td></tr><tr><td>PE</td><td>E | EXCELENTE</td><td>987</td><td>61.96</td><td>2024-04-14</td></tr><tr><td>PE</td><td>O | OTIMO</td><td>313</td><td>19.65</td><td>2024-04-14</td></tr><tr><td>PE</td><td>B | BOM</td><td>150</td><td>9.42</td><td>2024-04-14</td></tr><tr><td>PE</td><td>G | GRAVE</td><td>48</td><td>3.01</td><td>2024-04-14</td></tr><tr><td>PE</td><td>R | RUIM</td><td>38</td><td>2.39</td><td>2024-04-14</td></tr><tr><td>PE</td><td>T | TOLERAVEL</td><td>29</td><td>1.82</td><td>2024-04-14</td></tr><tr><td>PE</td><td>P | PESSIMO</td><td>28</td><td>1.76</td><td>2024-04-14</td></tr><tr><td>PI</td><td>E | EXCELENTE</td><td>262</td><td>55.04</td><td>2024-04-14</td></tr><tr><td>PI</td><td>O | OTIMO</td><td>90</td><td>18.91</td><td>2024-04-14</td></tr><tr><td>PI</td><td>B | BOM</td><td>63</td><td>13.24</td><td>2024-04-14</td></tr><tr><td>PI</td><td>R | RUIM</td><td>19</td><td>3.99</td><td>2024-04-14</td></tr><tr><td>PI</td><td>T | TOLERAVEL</td><td>19</td><td>3.99</td><td>2024-04-14</td></tr><tr><td>PI</td><td>G | GRAVE</td><td>14</td><td>2.94</td><td>2024-04-14</td></tr><tr><td>PI</td><td>P | PESSIMO</td><td>9</td><td>1.89</td><td>2024-04-14</td></tr><tr><td>PR</td><td>E | EXCELENTE</td><td>2843</td><td>57.75</td><td>2024-04-14</td></tr><tr><td>PR</td><td>O | OTIMO</td><td>1483</td><td>30.12</td><td>2024-04-14</td></tr><tr><td>PR</td><td>B | BOM</td><td>407</td><td>8.27</td><td>2024-04-14</td></tr><tr><td>PR</td><td>T | TOLERAVEL</td><td>76</td><td>1.54</td><td>2024-04-14</td></tr><tr><td>PR</td><td>R | RUIM</td><td>51</td><td>1.04</td><td>2024-04-14</td></tr><tr><td>PR</td><td>G | GRAVE</td><td>41</td><td>0.83</td><td>2024-04-14</td></tr><tr><td>PR</td><td>P | PESSIMO</td><td>22</td><td>0.45</td><td>2024-04-14</td></tr><tr><td>RJ</td><td>E | EXCELENTE</td><td>6496</td><td>52.59</td><td>2024-04-14</td></tr><tr><td>RJ</td><td>O | OTIMO</td><td>3203</td><td>25.93</td><td>2024-04-14</td></tr><tr><td>RJ</td><td>B | BOM</td><td>1313</td><td>10.63</td><td>2024-04-14</td></tr><tr><td>RJ</td><td>G | GRAVE</td><td>367</td><td>2.97</td><td>2024-04-14</td></tr><tr><td>RJ</td><td>P | PESSIMO</td><td>350</td><td>2.83</td><td>2024-04-14</td></tr><tr><td>RJ</td><td>R | RUIM</td><td>327</td><td>2.65</td><td>2024-04-14</td></tr><tr><td>RJ</td><td>T | TOLERAVEL</td><td>297</td><td>2.40</td><td>2024-04-14</td></tr><tr><td>RN</td><td>E | EXCELENTE</td><td>296</td><td>62.45</td><td>2024-04-14</td></tr><tr><td>RN</td><td>O | OTIMO</td><td>103</td><td>21.73</td><td>2024-04-14</td></tr><tr><td>RN</td><td>B | BOM</td><td>34</td><td>7.17</td><td>2024-04-14</td></tr><tr><td>RN</td><td>R | RUIM</td><td>12</td><td>2.53</td><td>2024-04-14</td></tr><tr><td>RN</td><td>G | GRAVE</td><td>10</td><td>2.11</td><td>2024-04-14</td></tr><tr><td>RN</td><td>P | PESSIMO</td><td>10</td><td>2.11</td><td>2024-04-14</td></tr><tr><td>RN</td><td>T | TOLERAVEL</td><td>9</td><td>1.90</td><td>2024-04-14</td></tr><tr><td>RO</td><td>E | EXCELENTE</td><td>198</td><td>81.48</td><td>2024-04-14</td></tr><tr><td>RO</td><td>O | OTIMO</td><td>30</td><td>12.35</td><td>2024-04-14</td></tr><tr><td>RO</td><td>B | BOM</td><td>8</td><td>3.29</td><td>2024-04-14</td></tr><tr><td>RO</td><td>T | TOLERAVEL</td><td>3</td><td>1.23</td><td>2024-04-14</td></tr><tr><td>RO</td><td>R | RUIM</td><td>2</td><td>0.82</td><td>2024-04-14</td></tr><tr><td>RO</td><td>G | GRAVE</td><td>1</td><td>0.41</td><td>2024-04-14</td></tr><tr><td>RO</td><td>P | PESSIMO</td><td>1</td><td>0.41</td><td>2024-04-14</td></tr><tr><td>RR</td><td>E | EXCELENTE</td><td>29</td><td>70.73</td><td>2024-04-14</td></tr><tr><td>RR</td><td>O | OTIMO</td><td>5</td><td>12.20</td><td>2024-04-14</td></tr><tr><td>RR</td><td>B | BOM</td><td>4</td><td>9.76</td><td>2024-04-14</td></tr><tr><td>RR</td><td>R | RUIM</td><td>2</td><td>4.88</td><td>2024-04-14</td></tr><tr><td>RR</td><td>G | GRAVE</td><td>1</td><td>2.44</td><td>2024-04-14</td></tr><tr><td>RS</td><td>E | EXCELENTE</td><td>3335</td><td>62.41</td><td>2024-04-14</td></tr><tr><td>RS</td><td>O | OTIMO</td><td>1264</td><td>23.65</td><td>2024-04-14</td></tr><tr><td>RS</td><td>B | BOM</td><td>430</td><td>8.05</td><td>2024-04-14</td></tr><tr><td>RS</td><td>G | GRAVE</td><td>101</td><td>1.89</td><td>2024-04-14</td></tr><tr><td>RS</td><td>T | TOLERAVEL</td><td>83</td><td>1.55</td><td>2024-04-14</td></tr><tr><td>RS</td><td>R | RUIM</td><td>82</td><td>1.53</td><td>2024-04-14</td></tr><tr><td>RS</td><td>P | PESSIMO</td><td>49</td><td>0.92</td><td>2024-04-14</td></tr><tr><td>SC</td><td>E | EXCELENTE</td><td>1790</td><td>50.47</td><td>2024-04-14</td></tr><tr><td>SC</td><td>O | OTIMO</td><td>1089</td><td>30.70</td><td>2024-04-14</td></tr><tr><td>SC</td><td>B | BOM</td><td>384</td><td>10.83</td><td>2024-04-14</td></tr><tr><td>SC</td><td>T | TOLERAVEL</td><td>91</td><td>2.57</td><td>2024-04-14</td></tr><tr><td>SC</td><td>R | RUIM</td><td>88</td><td>2.48</td><td>2024-04-14</td></tr><tr><td>SC</td><td>G | GRAVE</td><td>60</td><td>1.69</td><td>2024-04-14</td></tr><tr><td>SC</td><td>P | PESSIMO</td><td>45</td><td>1.27</td><td>2024-04-14</td></tr><tr><td>SE</td><td>E | EXCELENTE</td><td>171</td><td>51.04</td><td>2024-04-14</td></tr><tr><td>SE</td><td>O | OTIMO</td><td>83</td><td>24.78</td><td>2024-04-14</td></tr><tr><td>SE</td><td>B | BOM</td><td>33</td><td>9.85</td><td>2024-04-14</td></tr><tr><td>SE</td><td>G | GRAVE</td><td>19</td><td>5.67</td><td>2024-04-14</td></tr><tr><td>SE</td><td>R | RUIM</td><td>12</td><td>3.58</td><td>2024-04-14</td></tr><tr><td>SE</td><td>P | PESSIMO</td><td>9</td><td>2.69</td><td>2024-04-14</td></tr><tr><td>SE</td><td>T | TOLERAVEL</td><td>8</td><td>2.39</td><td>2024-04-14</td></tr><tr><td>SP</td><td>E | EXCELENTE</td><td>16971</td><td>41.91</td><td>2024-04-14</td></tr><tr><td>SP</td><td>O | OTIMO</td><td>16534</td><td>40.83</td><td>2024-04-14</td></tr><tr><td>SP</td><td>B | BOM</td><td>5241</td><td>12.94</td><td>2024-04-14</td></tr><tr><td>SP</td><td>T | TOLERAVEL</td><td>692</td><td>1.71</td><td>2024-04-14</td></tr><tr><td>SP</td><td>R | RUIM</td><td>573</td><td>1.41</td><td>2024-04-14</td></tr><tr><td>SP</td><td>G | GRAVE</td><td>320</td><td>0.79</td><td>2024-04-14</td></tr><tr><td>SP</td><td>P | PESSIMO</td><td>164</td><td>0.40</td><td>2024-04-14</td></tr><tr><td>TO</td><td>E | EXCELENTE</td><td>153</td><td>55.84</td><td>2024-04-14</td></tr><tr><td>TO</td><td>O | OTIMO</td><td>66</td><td>24.09</td><td>2024-04-14</td></tr><tr><td>TO</td><td>B | BOM</td><td>29</td><td>10.58</td><td>2024-04-14</td></tr><tr><td>TO</td><td>R | RUIM</td><td>13</td><td>4.74</td><td>2024-04-14</td></tr><tr><td>TO</td><td>T | TOLERAVEL</td><td>7</td><td>2.55</td><td>2024-04-14</td></tr><tr><td>TO</td><td>G | GRAVE</td><td>6</td><td>2.19</td><td>2024-04-14</td></tr></tbody></table></div>"
      ]
     },
     "metadata": {
      "application/vnd.databricks.v1+output": {
       "addedWidgets": {},
       "aggData": [],
       "aggError": "",
       "aggOverflow": false,
       "aggSchema": [],
       "aggSeriesLimitReached": false,
       "aggType": "",
       "arguments": {},
       "columnCustomDisplayInfos": {},
       "data": [
        [
         "AC",
         "E | EXCELENTE",
         65,
         "81.25",
         "2024-04-14"
        ],
        [
         "AC",
         "O | OTIMO",
         8,
         "10.00",
         "2024-04-14"
        ],
        [
         "AC",
         "B | BOM",
         5,
         "6.25",
         "2024-04-14"
        ],
        [
         "AC",
         "P | PESSIMO",
         1,
         "1.25",
         "2024-04-14"
        ],
        [
         "AC",
         "T | TOLERAVEL",
         1,
         "1.25",
         "2024-04-14"
        ],
        [
         "AL",
         "E | EXCELENTE",
         170,
         "42.82",
         "2024-04-14"
        ],
        [
         "AL",
         "O | OTIMO",
         82,
         "20.65",
         "2024-04-14"
        ],
        [
         "AL",
         "B | BOM",
         64,
         "16.12",
         "2024-04-14"
        ],
        [
         "AL",
         "R | RUIM",
         29,
         "7.30",
         "2024-04-14"
        ],
        [
         "AL",
         "G | GRAVE",
         24,
         "6.05",
         "2024-04-14"
        ],
        [
         "AL",
         "T | TOLERAVEL",
         16,
         "4.03",
         "2024-04-14"
        ],
        [
         "AL",
         "P | PESSIMO",
         12,
         "3.02",
         "2024-04-14"
        ],
        [
         "AM",
         "E | EXCELENTE",
         107,
         "73.79",
         "2024-04-14"
        ],
        [
         "AM",
         "O | OTIMO",
         26,
         "17.93",
         "2024-04-14"
        ],
        [
         "AM",
         "B | BOM",
         9,
         "6.21",
         "2024-04-14"
        ],
        [
         "AM",
         "T | TOLERAVEL",
         2,
         "1.38",
         "2024-04-14"
        ],
        [
         "AM",
         "G | GRAVE",
         1,
         "0.69",
         "2024-04-14"
        ],
        [
         "AP",
         "E | EXCELENTE",
         57,
         "85.07",
         "2024-04-14"
        ],
        [
         "AP",
         "O | OTIMO",
         7,
         "10.45",
         "2024-04-14"
        ],
        [
         "AP",
         "B | BOM",
         2,
         "2.99",
         "2024-04-14"
        ],
        [
         "AP",
         "T | TOLERAVEL",
         1,
         "1.49",
         "2024-04-14"
        ],
        [
         "BA",
         "E | EXCELENTE",
         1612,
         "49.51",
         "2024-04-14"
        ],
        [
         "BA",
         "O | OTIMO",
         897,
         "27.55",
         "2024-04-14"
        ],
        [
         "BA",
         "B | BOM",
         380,
         "11.67",
         "2024-04-14"
        ],
        [
         "BA",
         "R | RUIM",
         116,
         "3.56",
         "2024-04-14"
        ],
        [
         "BA",
         "G | GRAVE",
         107,
         "3.29",
         "2024-04-14"
        ],
        [
         "BA",
         "T | TOLERAVEL",
         93,
         "2.86",
         "2024-04-14"
        ],
        [
         "BA",
         "P | PESSIMO",
         51,
         "1.57",
         "2024-04-14"
        ],
        [
         "CE",
         "E | EXCELENTE",
         668,
         "52.23",
         "2024-04-14"
        ],
        [
         "CE",
         "O | OTIMO",
         311,
         "24.32",
         "2024-04-14"
        ],
        [
         "CE",
         "B | BOM",
         148,
         "11.57",
         "2024-04-14"
        ],
        [
         "CE",
         "G | GRAVE",
         55,
         "4.30",
         "2024-04-14"
        ],
        [
         "CE",
         "P | PESSIMO",
         34,
         "2.66",
         "2024-04-14"
        ],
        [
         "CE",
         "R | RUIM",
         33,
         "2.58",
         "2024-04-14"
        ],
        [
         "CE",
         "T | TOLERAVEL",
         30,
         "2.35",
         "2024-04-14"
        ],
        [
         "DF",
         "E | EXCELENTE",
         1044,
         "50.19",
         "2024-04-14"
        ],
        [
         "DF",
         "O | OTIMO",
         697,
         "33.51",
         "2024-04-14"
        ],
        [
         "DF",
         "B | BOM",
         224,
         "10.77",
         "2024-04-14"
        ],
        [
         "DF",
         "T | TOLERAVEL",
         39,
         "1.88",
         "2024-04-14"
        ],
        [
         "DF",
         "R | RUIM",
         37,
         "1.78",
         "2024-04-14"
        ],
        [
         "DF",
         "G | GRAVE",
         27,
         "1.30",
         "2024-04-14"
        ],
        [
         "DF",
         "P | PESSIMO",
         12,
         "0.58",
         "2024-04-14"
        ],
        [
         "ES",
         "E | EXCELENTE",
         938,
         "47.02",
         "2024-04-14"
        ],
        [
         "ES",
         "O | OTIMO",
         628,
         "31.48",
         "2024-04-14"
        ],
        [
         "ES",
         "B | BOM",
         227,
         "11.38",
         "2024-04-14"
        ],
        [
         "ES",
         "R | RUIM",
         70,
         "3.51",
         "2024-04-14"
        ],
        [
         "ES",
         "T | TOLERAVEL",
         56,
         "2.81",
         "2024-04-14"
        ],
        [
         "ES",
         "G | GRAVE",
         43,
         "2.16",
         "2024-04-14"
        ],
        [
         "ES",
         "P | PESSIMO",
         33,
         "1.65",
         "2024-04-14"
        ],
        [
         "GO",
         "E | EXCELENTE",
         1053,
         "53.81",
         "2024-04-14"
        ],
        [
         "GO",
         "O | OTIMO",
         581,
         "29.69",
         "2024-04-14"
        ],
        [
         "GO",
         "B | BOM",
         204,
         "10.42",
         "2024-04-14"
        ],
        [
         "GO",
         "T | TOLERAVEL",
         37,
         "1.89",
         "2024-04-14"
        ],
        [
         "GO",
         "R | RUIM",
         36,
         "1.84",
         "2024-04-14"
        ],
        [
         "GO",
         "G | GRAVE",
         24,
         "1.23",
         "2024-04-14"
        ],
        [
         "GO",
         "P | PESSIMO",
         22,
         "1.12",
         "2024-04-14"
        ],
        [
         "MA",
         "E | EXCELENTE",
         308,
         "42.96",
         "2024-04-14"
        ],
        [
         "MA",
         "O | OTIMO",
         200,
         "27.89",
         "2024-04-14"
        ],
        [
         "MA",
         "B | BOM",
         88,
         "12.27",
         "2024-04-14"
        ],
        [
         "MA",
         "G | GRAVE",
         35,
         "4.88",
         "2024-04-14"
        ],
        [
         "MA",
         "T | TOLERAVEL",
         33,
         "4.60",
         "2024-04-14"
        ],
        [
         "MA",
         "R | RUIM",
         29,
         "4.04",
         "2024-04-14"
        ],
        [
         "MA",
         "P | PESSIMO",
         24,
         "3.35",
         "2024-04-14"
        ],
        [
         "MG",
         "E | EXCELENTE",
         6644,
         "58.51",
         "2024-04-14"
        ],
        [
         "MG",
         "O | OTIMO",
         3358,
         "29.57",
         "2024-04-14"
        ],
        [
         "MG",
         "B | BOM",
         852,
         "7.50",
         "2024-04-14"
        ],
        [
         "MG",
         "T | TOLERAVEL",
         180,
         "1.59",
         "2024-04-14"
        ],
        [
         "MG",
         "R | RUIM",
         156,
         "1.37",
         "2024-04-14"
        ],
        [
         "MG",
         "G | GRAVE",
         99,
         "0.87",
         "2024-04-14"
        ],
        [
         "MG",
         "P | PESSIMO",
         66,
         "0.58",
         "2024-04-14"
        ],
        [
         "MS",
         "E | EXCELENTE",
         345,
         "49.22",
         "2024-04-14"
        ],
        [
         "MS",
         "O | OTIMO",
         211,
         "30.10",
         "2024-04-14"
        ],
        [
         "MS",
         "B | BOM",
         80,
         "11.41",
         "2024-04-14"
        ],
        [
         "MS",
         "T | TOLERAVEL",
         22,
         "3.14",
         "2024-04-14"
        ],
        [
         "MS",
         "R | RUIM",
         19,
         "2.71",
         "2024-04-14"
        ],
        [
         "MS",
         "G | GRAVE",
         18,
         "2.57",
         "2024-04-14"
        ],
        [
         "MS",
         "P | PESSIMO",
         6,
         "0.86",
         "2024-04-14"
        ],
        [
         "MT",
         "E | EXCELENTE",
         581,
         "65.58",
         "2024-04-14"
        ],
        [
         "MT",
         "O | OTIMO",
         187,
         "21.11",
         "2024-04-14"
        ],
        [
         "MT",
         "B | BOM",
         68,
         "7.67",
         "2024-04-14"
        ],
        [
         "MT",
         "G | GRAVE",
         16,
         "1.81",
         "2024-04-14"
        ],
        [
         "MT",
         "T | TOLERAVEL",
         16,
         "1.81",
         "2024-04-14"
        ],
        [
         "MT",
         "P | PESSIMO",
         10,
         "1.13",
         "2024-04-14"
        ],
        [
         "MT",
         "R | RUIM",
         8,
         "0.90",
         "2024-04-14"
        ],
        [
         "PA",
         "E | EXCELENTE",
         596,
         "63.00",
         "2024-04-14"
        ],
        [
         "PA",
         "O | OTIMO",
         172,
         "18.18",
         "2024-04-14"
        ],
        [
         "PA",
         "B | BOM",
         80,
         "8.46",
         "2024-04-14"
        ],
        [
         "PA",
         "R | RUIM",
         31,
         "3.28",
         "2024-04-14"
        ],
        [
         "PA",
         "G | GRAVE",
         30,
         "3.17",
         "2024-04-14"
        ],
        [
         "PA",
         "P | PESSIMO",
         21,
         "2.22",
         "2024-04-14"
        ],
        [
         "PA",
         "T | TOLERAVEL",
         16,
         "1.69",
         "2024-04-14"
        ],
        [
         "PB",
         "E | EXCELENTE",
         314,
         "60.74",
         "2024-04-14"
        ],
        [
         "PB",
         "O | OTIMO",
         109,
         "21.08",
         "2024-04-14"
        ],
        [
         "PB",
         "B | BOM",
         43,
         "8.32",
         "2024-04-14"
        ],
        [
         "PB",
         "R | RUIM",
         19,
         "3.68",
         "2024-04-14"
        ],
        [
         "PB",
         "T | TOLERAVEL",
         14,
         "2.71",
         "2024-04-14"
        ],
        [
         "PB",
         "G | GRAVE",
         12,
         "2.32",
         "2024-04-14"
        ],
        [
         "PB",
         "P | PESSIMO",
         6,
         "1.16",
         "2024-04-14"
        ],
        [
         "PE",
         "E | EXCELENTE",
         987,
         "61.96",
         "2024-04-14"
        ],
        [
         "PE",
         "O | OTIMO",
         313,
         "19.65",
         "2024-04-14"
        ],
        [
         "PE",
         "B | BOM",
         150,
         "9.42",
         "2024-04-14"
        ],
        [
         "PE",
         "G | GRAVE",
         48,
         "3.01",
         "2024-04-14"
        ],
        [
         "PE",
         "R | RUIM",
         38,
         "2.39",
         "2024-04-14"
        ],
        [
         "PE",
         "T | TOLERAVEL",
         29,
         "1.82",
         "2024-04-14"
        ],
        [
         "PE",
         "P | PESSIMO",
         28,
         "1.76",
         "2024-04-14"
        ],
        [
         "PI",
         "E | EXCELENTE",
         262,
         "55.04",
         "2024-04-14"
        ],
        [
         "PI",
         "O | OTIMO",
         90,
         "18.91",
         "2024-04-14"
        ],
        [
         "PI",
         "B | BOM",
         63,
         "13.24",
         "2024-04-14"
        ],
        [
         "PI",
         "R | RUIM",
         19,
         "3.99",
         "2024-04-14"
        ],
        [
         "PI",
         "T | TOLERAVEL",
         19,
         "3.99",
         "2024-04-14"
        ],
        [
         "PI",
         "G | GRAVE",
         14,
         "2.94",
         "2024-04-14"
        ],
        [
         "PI",
         "P | PESSIMO",
         9,
         "1.89",
         "2024-04-14"
        ],
        [
         "PR",
         "E | EXCELENTE",
         2843,
         "57.75",
         "2024-04-14"
        ],
        [
         "PR",
         "O | OTIMO",
         1483,
         "30.12",
         "2024-04-14"
        ],
        [
         "PR",
         "B | BOM",
         407,
         "8.27",
         "2024-04-14"
        ],
        [
         "PR",
         "T | TOLERAVEL",
         76,
         "1.54",
         "2024-04-14"
        ],
        [
         "PR",
         "R | RUIM",
         51,
         "1.04",
         "2024-04-14"
        ],
        [
         "PR",
         "G | GRAVE",
         41,
         "0.83",
         "2024-04-14"
        ],
        [
         "PR",
         "P | PESSIMO",
         22,
         "0.45",
         "2024-04-14"
        ],
        [
         "RJ",
         "E | EXCELENTE",
         6496,
         "52.59",
         "2024-04-14"
        ],
        [
         "RJ",
         "O | OTIMO",
         3203,
         "25.93",
         "2024-04-14"
        ],
        [
         "RJ",
         "B | BOM",
         1313,
         "10.63",
         "2024-04-14"
        ],
        [
         "RJ",
         "G | GRAVE",
         367,
         "2.97",
         "2024-04-14"
        ],
        [
         "RJ",
         "P | PESSIMO",
         350,
         "2.83",
         "2024-04-14"
        ],
        [
         "RJ",
         "R | RUIM",
         327,
         "2.65",
         "2024-04-14"
        ],
        [
         "RJ",
         "T | TOLERAVEL",
         297,
         "2.40",
         "2024-04-14"
        ],
        [
         "RN",
         "E | EXCELENTE",
         296,
         "62.45",
         "2024-04-14"
        ],
        [
         "RN",
         "O | OTIMO",
         103,
         "21.73",
         "2024-04-14"
        ],
        [
         "RN",
         "B | BOM",
         34,
         "7.17",
         "2024-04-14"
        ],
        [
         "RN",
         "R | RUIM",
         12,
         "2.53",
         "2024-04-14"
        ],
        [
         "RN",
         "G | GRAVE",
         10,
         "2.11",
         "2024-04-14"
        ],
        [
         "RN",
         "P | PESSIMO",
         10,
         "2.11",
         "2024-04-14"
        ],
        [
         "RN",
         "T | TOLERAVEL",
         9,
         "1.90",
         "2024-04-14"
        ],
        [
         "RO",
         "E | EXCELENTE",
         198,
         "81.48",
         "2024-04-14"
        ],
        [
         "RO",
         "O | OTIMO",
         30,
         "12.35",
         "2024-04-14"
        ],
        [
         "RO",
         "B | BOM",
         8,
         "3.29",
         "2024-04-14"
        ],
        [
         "RO",
         "T | TOLERAVEL",
         3,
         "1.23",
         "2024-04-14"
        ],
        [
         "RO",
         "R | RUIM",
         2,
         "0.82",
         "2024-04-14"
        ],
        [
         "RO",
         "G | GRAVE",
         1,
         "0.41",
         "2024-04-14"
        ],
        [
         "RO",
         "P | PESSIMO",
         1,
         "0.41",
         "2024-04-14"
        ],
        [
         "RR",
         "E | EXCELENTE",
         29,
         "70.73",
         "2024-04-14"
        ],
        [
         "RR",
         "O | OTIMO",
         5,
         "12.20",
         "2024-04-14"
        ],
        [
         "RR",
         "B | BOM",
         4,
         "9.76",
         "2024-04-14"
        ],
        [
         "RR",
         "R | RUIM",
         2,
         "4.88",
         "2024-04-14"
        ],
        [
         "RR",
         "G | GRAVE",
         1,
         "2.44",
         "2024-04-14"
        ],
        [
         "RS",
         "E | EXCELENTE",
         3335,
         "62.41",
         "2024-04-14"
        ],
        [
         "RS",
         "O | OTIMO",
         1264,
         "23.65",
         "2024-04-14"
        ],
        [
         "RS",
         "B | BOM",
         430,
         "8.05",
         "2024-04-14"
        ],
        [
         "RS",
         "G | GRAVE",
         101,
         "1.89",
         "2024-04-14"
        ],
        [
         "RS",
         "T | TOLERAVEL",
         83,
         "1.55",
         "2024-04-14"
        ],
        [
         "RS",
         "R | RUIM",
         82,
         "1.53",
         "2024-04-14"
        ],
        [
         "RS",
         "P | PESSIMO",
         49,
         "0.92",
         "2024-04-14"
        ],
        [
         "SC",
         "E | EXCELENTE",
         1790,
         "50.47",
         "2024-04-14"
        ],
        [
         "SC",
         "O | OTIMO",
         1089,
         "30.70",
         "2024-04-14"
        ],
        [
         "SC",
         "B | BOM",
         384,
         "10.83",
         "2024-04-14"
        ],
        [
         "SC",
         "T | TOLERAVEL",
         91,
         "2.57",
         "2024-04-14"
        ],
        [
         "SC",
         "R | RUIM",
         88,
         "2.48",
         "2024-04-14"
        ],
        [
         "SC",
         "G | GRAVE",
         60,
         "1.69",
         "2024-04-14"
        ],
        [
         "SC",
         "P | PESSIMO",
         45,
         "1.27",
         "2024-04-14"
        ],
        [
         "SE",
         "E | EXCELENTE",
         171,
         "51.04",
         "2024-04-14"
        ],
        [
         "SE",
         "O | OTIMO",
         83,
         "24.78",
         "2024-04-14"
        ],
        [
         "SE",
         "B | BOM",
         33,
         "9.85",
         "2024-04-14"
        ],
        [
         "SE",
         "G | GRAVE",
         19,
         "5.67",
         "2024-04-14"
        ],
        [
         "SE",
         "R | RUIM",
         12,
         "3.58",
         "2024-04-14"
        ],
        [
         "SE",
         "P | PESSIMO",
         9,
         "2.69",
         "2024-04-14"
        ],
        [
         "SE",
         "T | TOLERAVEL",
         8,
         "2.39",
         "2024-04-14"
        ],
        [
         "SP",
         "E | EXCELENTE",
         16971,
         "41.91",
         "2024-04-14"
        ],
        [
         "SP",
         "O | OTIMO",
         16534,
         "40.83",
         "2024-04-14"
        ],
        [
         "SP",
         "B | BOM",
         5241,
         "12.94",
         "2024-04-14"
        ],
        [
         "SP",
         "T | TOLERAVEL",
         692,
         "1.71",
         "2024-04-14"
        ],
        [
         "SP",
         "R | RUIM",
         573,
         "1.41",
         "2024-04-14"
        ],
        [
         "SP",
         "G | GRAVE",
         320,
         "0.79",
         "2024-04-14"
        ],
        [
         "SP",
         "P | PESSIMO",
         164,
         "0.40",
         "2024-04-14"
        ],
        [
         "TO",
         "E | EXCELENTE",
         153,
         "55.84",
         "2024-04-14"
        ],
        [
         "TO",
         "O | OTIMO",
         66,
         "24.09",
         "2024-04-14"
        ],
        [
         "TO",
         "B | BOM",
         29,
         "10.58",
         "2024-04-14"
        ],
        [
         "TO",
         "R | RUIM",
         13,
         "4.74",
         "2024-04-14"
        ],
        [
         "TO",
         "T | TOLERAVEL",
         7,
         "2.55",
         "2024-04-14"
        ],
        [
         "TO",
         "G | GRAVE",
         6,
         "2.19",
         "2024-04-14"
        ]
       ],
       "datasetInfos": [],
       "dbfsResultPath": null,
       "isJsonSchema": true,
       "metadata": {
        "dataframeName": "_sqldf",
        "executionCount": 5
       },
       "overflow": false,
       "plotOptions": {
        "customPlotOptions": {},
        "displayType": "table",
        "pivotAggregation": null,
        "pivotColumns": null,
        "xColumns": null,
        "yColumns": null
       },
       "removedWidgets": [],
       "schema": [
        {
         "metadata": "{}",
         "name": "estado",
         "type": "\"string\""
        },
        {
         "metadata": "{}",
         "name": "sigla",
         "type": "\"string\""
        },
        {
         "metadata": "{}",
         "name": "ordens",
         "type": "\"integer\""
        },
        {
         "metadata": "{}",
         "name": "porcentagem",
         "type": "\"decimal(5,2)\""
        },
        {
         "metadata": "{}",
         "name": "date_ref_carga",
         "type": "\"date\""
        }
       ],
       "type": "table"
      }
     },
     "output_type": "display_data"
    }
   ],
   "source": [
    "%sql\n",
    "WITH \n",
    "customer_state AS (\n",
    "  SELECT DISTINCT customer_id, customer_state\n",
    "  FROM datum.silver.olist_customers),\n",
    "orders AS (\n",
    "  SELECT customer_id, \n",
    "         delivery_diff_promissed,\n",
    "         CASE \n",
    "          WHEN delivery_diff_promissed <= 0 AND  delivery_diff_promissed >= -5 THEN 'B'\n",
    "          WHEN delivery_diff_promissed <= -6 AND delivery_diff_promissed >= -12 THEN 'O'\n",
    "          WHEN delivery_diff_promissed < -12 THEN  'E'\n",
    "          WHEN delivery_diff_promissed >= 1 AND  delivery_diff_promissed <= 3 THEN'T'\n",
    "          WHEN delivery_diff_promissed >= 4 AND  delivery_diff_promissed <= 7 THEN'R'\n",
    "          WHEN delivery_diff_promissed >= 8 AND  delivery_diff_promissed <= 14 THEN 'G'\n",
    "          WHEN delivery_diff_promissed >= 15 AND delivery_diff_promissed <= 28 THEN 'P'\n",
    "          WHEN delivery_diff_promissed > 28 THEN  'B'\n",
    "          END\n",
    "          AS categoria_entrega\n",
    "  FROM datum.silver.olist_orders_datediff\n",
    "),\n",
    "orders_estado_proporcional AS (\n",
    "  SELECT customer_state AS estado, categoria_entrega, ROUND(COUNT(categoria_entrega)) AS proporcional\n",
    "  FROM orders \n",
    "    LEFT JOIN customer_state \n",
    "      ON orders.customer_id = customer_state.customer_id\n",
    "  GROUP BY customer_state, categoria_entrega\n",
    ")\n",
    "\n",
    "SELECT estado, \n",
    "       CASE WHEN categoria_entrega = 'B' THEN 'B | BOM'\n",
    "            WHEN categoria_entrega = 'O' THEN 'O | OTIMO'\n",
    "            WHEN categoria_entrega = 'E' THEN 'E | EXCELENTE'\n",
    "            WHEN categoria_entrega = 'T' THEN 'T | TOLERAVEL'\n",
    "            WHEN categoria_entrega = 'R' THEN 'R | RUIM'\n",
    "            WHEN categoria_entrega = 'G' THEN 'G | GRAVE'\n",
    "            WHEN categoria_entrega = 'P' THEN 'P | PESSIMO'\n",
    "            WHEN categoria_entrega = 'U' THEN 'U | URGENTE'\n",
    "            END AS sigla, \n",
    "       CAST(proporcional AS INT) AS ordens, \n",
    "       CAST(proporcional / SUM(proporcional) OVER(PARTITION BY estado ORDER BY estado) *100 AS DECIMAL(5,2)) AS porcentagem,\n",
    "       CAST(NOW() AS DATE) AS date_ref_carga\n",
    "FROM orders_estado_proporcional AS oep\n",
    "ORDER BY estado, proporcional DESC, sigla"
   ]
  },
  {
   "cell_type": "markdown",
   "metadata": {
    "application/vnd.databricks.v1+cell": {
     "cellMetadata": {
      "byteLimit": 2048000,
      "rowLimit": 10000
     },
     "inputWidgets": {},
     "nuid": "882e8555-1a19-46d8-b7ff-4a1a848ff74c",
     "showTitle": false,
     "title": ""
    }
   },
   "source": [
    "\n",
    "Por questão de tempo a análise está inicialmente em SQL para simplificar lógica usada, futuramente podendo ser migrada para spark.\n",
    "\n",
    "A regra agora informa o estado seguido da sigla e voluma de ocorrencias em caso estado e sigla assim como a porcentagem proporcional pelo total do estado,"
   ]
  },
  {
   "cell_type": "markdown",
   "metadata": {
    "application/vnd.databricks.v1+cell": {
     "cellMetadata": {
      "byteLimit": 2048000,
      "rowLimit": 10000
     },
     "inputWidgets": {},
     "nuid": "d7fe4e78-4285-402a-9dd8-117e0d95995d",
     "showTitle": false,
     "title": ""
    }
   },
   "source": [
    "\n",
    "# 4. Salvando tabelas"
   ]
  },
  {
   "cell_type": "code",
   "execution_count": 0,
   "metadata": {
    "application/vnd.databricks.v1+cell": {
     "cellMetadata": {
      "byteLimit": 2048000,
      "implicitDf": true,
      "rowLimit": 10000
     },
     "inputWidgets": {},
     "nuid": "107d7466-2e98-491a-b23a-22f4edf3516c",
     "showTitle": false,
     "title": ""
    }
   },
   "outputs": [
    {
     "output_type": "display_data",
     "data": {
      "text/html": [
       "<style scoped>\n",
       "  .table-result-container {\n",
       "    max-height: 300px;\n",
       "    overflow: auto;\n",
       "  }\n",
       "  table, th, td {\n",
       "    border: 1px solid black;\n",
       "    border-collapse: collapse;\n",
       "  }\n",
       "  th, td {\n",
       "    padding: 5px;\n",
       "  }\n",
       "  th {\n",
       "    text-align: left;\n",
       "  }\n",
       "</style><div class='table-result-container'><table class='table-result'><thead style='background-color: white'><tr></tr></thead><tbody></tbody></table></div>"
      ]
     },
     "metadata": {
      "application/vnd.databricks.v1+output": {
       "addedWidgets": {},
       "aggData": [],
       "aggError": "",
       "aggOverflow": false,
       "aggSchema": [],
       "aggSeriesLimitReached": false,
       "aggType": "",
       "arguments": {},
       "columnCustomDisplayInfos": {},
       "data": [],
       "datasetInfos": [],
       "dbfsResultPath": null,
       "isJsonSchema": true,
       "metadata": {
        "dataframeName": null
       },
       "overflow": false,
       "plotOptions": {
        "customPlotOptions": {},
        "displayType": "table",
        "pivotAggregation": null,
        "pivotColumns": null,
        "xColumns": null,
        "yColumns": null
       },
       "removedWidgets": [],
       "schema": [],
       "type": "table"
      }
     },
     "output_type": "display_data"
    }
   ],
   "source": [
    "%sql\n",
    "\n",
    "USE CATALOG datum"
   ]
  },
  {
   "cell_type": "code",
   "execution_count": 0,
   "metadata": {
    "application/vnd.databricks.v1+cell": {
     "cellMetadata": {
      "byteLimit": 2048000,
      "implicitDf": true,
      "rowLimit": 10000
     },
     "inputWidgets": {},
     "nuid": "cc0726a7-999f-4551-b65f-3346bea23c2f",
     "showTitle": false,
     "title": ""
    }
   },
   "outputs": [
    {
     "output_type": "display_data",
     "data": {
      "text/html": [
       "<style scoped>\n",
       "  .table-result-container {\n",
       "    max-height: 300px;\n",
       "    overflow: auto;\n",
       "  }\n",
       "  table, th, td {\n",
       "    border: 1px solid black;\n",
       "    border-collapse: collapse;\n",
       "  }\n",
       "  th, td {\n",
       "    padding: 5px;\n",
       "  }\n",
       "  th {\n",
       "    text-align: left;\n",
       "  }\n",
       "</style><div class='table-result-container'><table class='table-result'><thead style='background-color: white'><tr></tr></thead><tbody></tbody></table></div>"
      ]
     },
     "metadata": {
      "application/vnd.databricks.v1+output": {
       "addedWidgets": {},
       "aggData": [],
       "aggError": "",
       "aggOverflow": false,
       "aggSchema": [],
       "aggSeriesLimitReached": false,
       "aggType": "",
       "arguments": {},
       "columnCustomDisplayInfos": {},
       "data": [],
       "datasetInfos": [],
       "dbfsResultPath": null,
       "isJsonSchema": true,
       "metadata": {
        "dataframeName": null
       },
       "overflow": false,
       "plotOptions": {
        "customPlotOptions": {},
        "displayType": "table",
        "pivotAggregation": null,
        "pivotColumns": null,
        "xColumns": null,
        "yColumns": null
       },
       "removedWidgets": [],
       "schema": [],
       "type": "table"
      }
     },
     "output_type": "display_data"
    }
   ],
   "source": [
    "%sql\n",
    "\n",
    "USE DATABASE gold"
   ]
  },
  {
   "cell_type": "code",
   "execution_count": 0,
   "metadata": {
    "application/vnd.databricks.v1+cell": {
     "cellMetadata": {
      "byteLimit": 2048000,
      "implicitDf": true,
      "rowLimit": 10000
     },
     "inputWidgets": {},
     "nuid": "337e7dc5-113d-479c-b057-1f6102246721",
     "showTitle": false,
     "title": ""
    }
   },
   "outputs": [
    {
     "output_type": "display_data",
     "data": {
      "text/html": [
       "<style scoped>\n",
       "  .table-result-container {\n",
       "    max-height: 300px;\n",
       "    overflow: auto;\n",
       "  }\n",
       "  table, th, td {\n",
       "    border: 1px solid black;\n",
       "    border-collapse: collapse;\n",
       "  }\n",
       "  th, td {\n",
       "    padding: 5px;\n",
       "  }\n",
       "  th {\n",
       "    text-align: left;\n",
       "  }\n",
       "</style><div class='table-result-container'><table class='table-result'><thead style='background-color: white'><tr></tr></thead><tbody></tbody></table></div>"
      ]
     },
     "metadata": {
      "application/vnd.databricks.v1+output": {
       "addedWidgets": {},
       "aggData": [],
       "aggError": "",
       "aggOverflow": false,
       "aggSchema": [],
       "aggSeriesLimitReached": false,
       "aggType": "",
       "arguments": {},
       "columnCustomDisplayInfos": {},
       "data": [],
       "datasetInfos": [],
       "dbfsResultPath": null,
       "isJsonSchema": true,
       "metadata": {
        "dataframeName": null
       },
       "overflow": false,
       "plotOptions": {
        "customPlotOptions": {},
        "displayType": "table",
        "pivotAggregation": null,
        "pivotColumns": null,
        "xColumns": null,
        "yColumns": null
       },
       "removedWidgets": [],
       "schema": [],
       "type": "table"
      }
     },
     "output_type": "display_data"
    }
   ],
   "source": [
    "%sql\n",
    "\n",
    "CREATE TABLE IF NOT EXISTS olist_entregas_estado\n",
    "(\n",
    "  sigla         STRING NOT NULL,\n",
    "  ordens        INTEGER,\n",
    "  porcentagem   DECIMAL(5,2),\n",
    "  date_ref_carga DATE\n",
    ")\n",
    "USING DELTA\n",
    "LOCATION 'abfss://unity-datum@datumunity.dfs.core.windows.net/gold/olist_entregas_estado'\n",
    "PARTITIONED BY(date_ref_carga, sigla)"
   ]
  },
  {
   "cell_type": "code",
   "execution_count": 0,
   "metadata": {
    "application/vnd.databricks.v1+cell": {
     "cellMetadata": {
      "byteLimit": 2048000,
      "implicitDf": true,
      "rowLimit": 10000
     },
     "inputWidgets": {},
     "nuid": "2d819217-1450-4e75-af35-7ce1c3e5b6a5",
     "showTitle": false,
     "title": ""
    }
   },
   "outputs": [
    {
     "output_type": "display_data",
     "data": {
      "text/html": [
       "<style scoped>\n",
       "  .table-result-container {\n",
       "    max-height: 300px;\n",
       "    overflow: auto;\n",
       "  }\n",
       "  table, th, td {\n",
       "    border: 1px solid black;\n",
       "    border-collapse: collapse;\n",
       "  }\n",
       "  th, td {\n",
       "    padding: 5px;\n",
       "  }\n",
       "  th {\n",
       "    text-align: left;\n",
       "  }\n",
       "</style><div class='table-result-container'><table class='table-result'><thead style='background-color: white'><tr></tr></thead><tbody></tbody></table></div>"
      ]
     },
     "metadata": {
      "application/vnd.databricks.v1+output": {
       "addedWidgets": {},
       "aggData": [],
       "aggError": "",
       "aggOverflow": false,
       "aggSchema": [],
       "aggSeriesLimitReached": false,
       "aggType": "",
       "arguments": {},
       "columnCustomDisplayInfos": {},
       "data": [],
       "datasetInfos": [],
       "dbfsResultPath": null,
       "isJsonSchema": true,
       "metadata": {
        "dataframeName": null
       },
       "overflow": false,
       "plotOptions": {
        "customPlotOptions": {},
        "displayType": "table",
        "pivotAggregation": null,
        "pivotColumns": null,
        "xColumns": null,
        "yColumns": null
       },
       "removedWidgets": [],
       "schema": [],
       "type": "table"
      }
     },
     "output_type": "display_data"
    }
   ],
   "source": [
    "%sql\n",
    "\n",
    "CREATE TABLE IF NOT EXISTS olist_entregas_estado_sigla\n",
    "(\n",
    "  estado         STRING NOT NULL,\n",
    "  sigla          STRING NOT NULL,\n",
    "  ordens         INTEGER,\n",
    "  porcentagem    DECIMAL(5,2),\n",
    "  date_ref_carga DATE\n",
    ")\n",
    "USING DELTA\n",
    "LOCATION 'abfss://unity-datum@datumunity.dfs.core.windows.net/gold/olist_entregas_estado_sigla'\n",
    "PARTITIONED BY(date_ref_carga, estado)"
   ]
  },
  {
   "cell_type": "code",
   "execution_count": 0,
   "metadata": {
    "application/vnd.databricks.v1+cell": {
     "cellMetadata": {
      "byteLimit": 2048000,
      "rowLimit": 10000
     },
     "inputWidgets": {},
     "nuid": "128633a1-c69e-4019-adcd-63a2b33dade9",
     "showTitle": false,
     "title": ""
    }
   },
   "outputs": [],
   "source": [
    "if df_orders_sigla.count() != 0 and df_orders_sigla is not None:\n",
    "    df_orders_sigla.write.format('delta').mode('overwrite').save('abfss://unity-datum@datumunity.dfs.core.windows.net/gold/olist_entregas_estado')\n",
    "del df_orders_sigla    "
   ]
  },
  {
   "cell_type": "code",
   "execution_count": 0,
   "metadata": {
    "application/vnd.databricks.v1+cell": {
     "cellMetadata": {
      "byteLimit": 2048000,
      "rowLimit": 10000
     },
     "inputWidgets": {},
     "nuid": "72856bd0-f82d-4853-89da-5b5d0d1ed970",
     "showTitle": false,
     "title": ""
    }
   },
   "outputs": [],
   "source": [
    "if _sqldf.count() != 0 and _sqldf is not None:\n",
    "    _sqldf.write.format('delta').mode('overwrite').save('abfss://unity-datum@datumunity.dfs.core.windows.net/gold/olist_entregas_estado_sigla')\n",
    "del _sqldf"
   ]
  }
 ],
 "metadata": {
  "application/vnd.databricks.v1+notebook": {
   "dashboards": [],
   "language": "python",
   "notebookMetadata": {
    "mostRecentlyExecutedCommandWithImplicitDF": {
     "commandId": 2794799031482218,
     "dataframes": [
      "_sqldf"
     ]
    },
    "pythonIndentUnit": 4
   },
   "notebookName": "ANALISE PRAZO ENTREGA",
   "widgets": {}
  }
 },
 "nbformat": 4,
 "nbformat_minor": 0
}
