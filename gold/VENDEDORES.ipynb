{
 "cells": [
  {
   "cell_type": "code",
   "execution_count": 0,
   "metadata": {
    "application/vnd.databricks.v1+cell": {
     "cellMetadata": {
      "byteLimit": 2048000,
      "implicitDf": true,
      "rowLimit": 10000
     },
     "inputWidgets": {},
     "nuid": "da5bd224-3143-465b-8e14-87fb070248b7",
     "showTitle": false,
     "title": ""
    }
   },
   "outputs": [],
   "source": [
    "# Feito em SQL por questão de tempo para entrega, posteriomente sendo possível migrar para Spark\n",
    "\n",
    "_sql = \"\"\"\n",
    "WITH\n",
    "\n",
    "sigla AS (\n",
    "     SELECT order_id, \n",
    "          CASE WHEN delivery_diff_promissed <=  0 AND delivery_diff_promissed >=  -5 THEN 'B | BOM'\n",
    "               WHEN delivery_diff_promissed <= -6 AND delivery_diff_promissed >= -12 THEN 'O | OTIMO'\n",
    "               WHEN delivery_diff_promissed < -12                                    THEN 'E | EXCELENTE'\n",
    "               WHEN delivery_diff_promissed >=  1 AND delivery_diff_promissed <=  3  THEN 'T | TOLERAVEL'\n",
    "               WHEN delivery_diff_promissed >=  4 AND delivery_diff_promissed <=  7  THEN 'R | RUIM'\n",
    "               WHEN delivery_diff_promissed >=  8 AND delivery_diff_promissed <= 14  THEN 'G | GRAVE'\n",
    "               WHEN delivery_diff_promissed >= 15 AND delivery_diff_promissed <= 28  THEN 'P | PESSIMO'\n",
    "               WHEN delivery_diff_promissed >  28                                    THEN 'U | URGENTE'\n",
    "               END AS sigla \n",
    "     FROM datum.silver.olist_orders_datediff\n",
    "),\n",
    "\n",
    "sigla_agrupada AS (\n",
    "     SELECT DISTINCT oi.seller_id, s.sigla, \n",
    "          COUNT(s.sigla) OVER(PARTITION BY oi.seller_id, s.sigla ORDER BY oi.seller_id) AS n_pedidos,\n",
    "          ROUND(n_pedidos /\n",
    "          COUNT(seller_id) OVER(PARTITION BY oi.seller_id ORDER BY oi.seller_id) *100, 2) AS proporcional\n",
    "     FROM datum.silver.olist_order_items AS oi\n",
    "          INNER JOIN sigla AS s\n",
    "               ON oi.order_id = s.order_id\n",
    "     ORDER BY proporcional DESC\n",
    "),\n",
    "\n",
    "sigla_final AS (\n",
    "  SELECT seller_id, COLLECT_LIST(CONCAT(sigla, '(', proporcional, '%)')) AS resumo, SUM(n_pedidos) AS n_pedidos\n",
    "  FROM sigla_agrupada\n",
    "  GROUP BY seller_id\n",
    "),\n",
    "\n",
    "orders AS (\n",
    "  SELECT oi.order_id, oi.seller_id\n",
    "  FROM datum.silver.olist_order_items as oi\n",
    "),\n",
    "\n",
    "sellers_total AS (\n",
    "  SELECT o.seller_id, SUM(p.payment_value) AS total\n",
    "  FROM orders AS o\n",
    "    INNER JOIN datum.silver.olist_payments AS p\n",
    "      ON o.order_id = p.order_id\n",
    "  WHERE p.payment_value IS NOT NULL\n",
    "  GROUP BY o.seller_id\n",
    "),\n",
    "\n",
    "sellers AS (\n",
    "  SELECT DISTINCT seller_id, seller_city, seller_state\n",
    "  FROM datum.silver.olist_sellers\n",
    ")\n",
    "\n",
    "SELECT s.seller_id                                           AS id_vendedor, \n",
    "       s.seller_city                                         AS cidade, \n",
    "       s.seller_state                                        AS estado, \n",
    "       total                                                 AS total, \n",
    "       CAST(n_pedidos AS INTEGER)                            AS pedidos, \n",
    "       COALESCE(CAST(sf.resumo AS STRING), 'Nao localizado') AS resumo_entregas,\n",
    "       CAST(NOW() AS DATE)                                   AS date_ref_carga\n",
    "FROM sellers AS s\n",
    "  INNER JOIN sellers_total AS st\n",
    "    ON s.seller_id = st.seller_id\n",
    "  LEFT JOIN sigla_final AS sf\n",
    "    ON s.seller_id = sf.seller_id\n",
    "ORDER BY total DESC, sf.n_pedidos DESC\n",
    "\"\"\"\n",
    "df_vendedores = spark.sql(_sql)"
   ]
  },
  {
   "cell_type": "code",
   "execution_count": 0,
   "metadata": {
    "application/vnd.databricks.v1+cell": {
     "cellMetadata": {
      "byteLimit": 2048000,
      "rowLimit": 10000
     },
     "inputWidgets": {},
     "nuid": "6a765320-dfc3-4a7e-ac76-aa2580dca8d1",
     "showTitle": false,
     "title": ""
    }
   },
   "outputs": [
    {
     "output_type": "display_data",
     "data": {
      "text/html": [
       "<style scoped>\n",
       "  .table-result-container {\n",
       "    max-height: 300px;\n",
       "    overflow: auto;\n",
       "  }\n",
       "  table, th, td {\n",
       "    border: 1px solid black;\n",
       "    border-collapse: collapse;\n",
       "  }\n",
       "  th, td {\n",
       "    padding: 5px;\n",
       "  }\n",
       "  th {\n",
       "    text-align: left;\n",
       "  }\n",
       "</style><div class='table-result-container'><table class='table-result'><thead style='background-color: white'><tr><th>id_vendedor</th><th>cidade</th><th>estado</th><th>total</th><th>pedidos</th><th>resumo_entregas</th><th>date_ref_carga</th></tr></thead><tbody><tr><td>7c67e1448b00f6e969d365cea6b010ab</td><td>itaquaquecetuba</td><td>SP</td><td>507166.9100</td><td>1355</td><td>[E | EXCELENTE(50.41%), O | OTIMO(29.89%), B | BOM(10.85%), T | TOLERAVEL(3.25%), G | GRAVE(2.36%), R | RUIM(1.55%), P | PESSIMO(1.11%), U | URGENTE(0.59%)]</td><td>2024-04-14</td></tr><tr><td>1025f0e2d44d7041d6cf58b6550e0bfa</td><td>sao paulo</td><td>SP</td><td>308222.0400</td><td>1420</td><td>[E | EXCELENTE(45.63%), O | OTIMO(33.1%), B | BOM(14.58%), T | TOLERAVEL(2.82%), R | RUIM(2.46%), G | GRAVE(0.77%), U | URGENTE(0.35%), P | PESSIMO(0.28%)]</td><td>2024-04-14</td></tr><tr><td>4a3ca9315b744ce9f8e9374361493884</td><td>ibitinga</td><td>SP</td><td>301245.2700</td><td>1949</td><td>[E | EXCELENTE(40.43%), O | OTIMO(38.89%), B | BOM(10.98%), G | GRAVE(3.03%), R | RUIM(2.41%), T | TOLERAVEL(2.05%), P | PESSIMO(1.69%), U | URGENTE(0.51%)]</td><td>2024-04-14</td></tr><tr><td>1f50f920176fa81dab994f9023523100</td><td>sao jose do rio preto</td><td>SP</td><td>290253.4200</td><td>1926</td><td>[E | EXCELENTE(46.88%), O | OTIMO(32.5%), B | BOM(12.82%), R | RUIM(2.34%), T | TOLERAVEL(2.13%), P | PESSIMO(1.77%), G | GRAVE(1.25%), U | URGENTE(0.31%)]</td><td>2024-04-14</td></tr><tr><td>53243585a1d6dc2643021fd1853d8905</td><td>lauro de freitas</td><td>BA</td><td>284903.0800</td><td>400</td><td>[E | EXCELENTE(46.5%), O | OTIMO(40.25%), B | BOM(10.25%), R | RUIM(1.25%), G | GRAVE(0.75%), T | TOLERAVEL(0.5%), P | PESSIMO(0.25%), U | URGENTE(0.25%)]</td><td>2024-04-14</td></tr><tr><td>da8622b14eb17ae2831f4ac5b9dab84a</td><td>piracicaba</td><td>SP</td><td>272219.3200</td><td>1548</td><td>[E | EXCELENTE(47.93%), O | OTIMO(35.21%), B | BOM(10.47%), T | TOLERAVEL(2.07%), R | RUIM(1.74%), G | GRAVE(1.29%), P | PESSIMO(0.65%), U | URGENTE(0.65%)]</td><td>2024-04-14</td></tr><tr><td>4869f7a5dfa277a7dca6462dcf3b52b2</td><td>guariba</td><td>SP</td><td>264166.1200</td><td>1148</td><td>[E | EXCELENTE(50.35%), O | OTIMO(28.66%), B | BOM(10.45%), R | RUIM(3.4%), G | GRAVE(2.35%), T | TOLERAVEL(2.35%), P | PESSIMO(2.26%), U | URGENTE(0.17%)]</td><td>2024-04-14</td></tr><tr><td>955fee9216a65b617aa5c0531780ce60</td><td>sao paulo</td><td>SP</td><td>236322.3000</td><td>1472</td><td>[E | EXCELENTE(40.96%), O | OTIMO(39.61%), B | BOM(12.98%), R | RUIM(2.99%), T | TOLERAVEL(1.56%), G | GRAVE(1.29%), P | PESSIMO(0.41%), U | URGENTE(0.2%)]</td><td>2024-04-14</td></tr><tr><td>fa1c13f2614d7b5c4749cbc52fecda94</td><td>sumare</td><td>SP</td><td>206513.2300</td><td>579</td><td>[E | EXCELENTE(43.87%), O | OTIMO(35.92%), B | BOM(11.05%), P | PESSIMO(2.59%), T | TOLERAVEL(2.25%), R | RUIM(2.07%), G | GRAVE(1.9%), U | URGENTE(0.35%)]</td><td>2024-04-14</td></tr><tr><td>7e93a43ef30c4f03f38b393420bc753a</td><td>barueri</td><td>SP</td><td>185134.2100</td><td>322</td><td>[E | EXCELENTE(54.97%), O | OTIMO(34.16%), B | BOM(6.21%), R | RUIM(1.55%), T | TOLERAVEL(1.24%), G | GRAVE(0.93%), P | PESSIMO(0.62%), U | URGENTE(0.31%)]</td><td>2024-04-14</td></tr></tbody></table></div>"
      ]
     },
     "metadata": {
      "application/vnd.databricks.v1+output": {
       "addedWidgets": {},
       "aggData": [],
       "aggError": "",
       "aggOverflow": false,
       "aggSchema": [],
       "aggSeriesLimitReached": false,
       "aggType": "",
       "arguments": {},
       "columnCustomDisplayInfos": {},
       "data": [
        [
         "7c67e1448b00f6e969d365cea6b010ab",
         "itaquaquecetuba",
         "SP",
         "507166.9100",
         1355,
         "[E | EXCELENTE(50.41%), O | OTIMO(29.89%), B | BOM(10.85%), T | TOLERAVEL(3.25%), G | GRAVE(2.36%), R | RUIM(1.55%), P | PESSIMO(1.11%), U | URGENTE(0.59%)]",
         "2024-04-14"
        ],
        [
         "1025f0e2d44d7041d6cf58b6550e0bfa",
         "sao paulo",
         "SP",
         "308222.0400",
         1420,
         "[E | EXCELENTE(45.63%), O | OTIMO(33.1%), B | BOM(14.58%), T | TOLERAVEL(2.82%), R | RUIM(2.46%), G | GRAVE(0.77%), U | URGENTE(0.35%), P | PESSIMO(0.28%)]",
         "2024-04-14"
        ],
        [
         "4a3ca9315b744ce9f8e9374361493884",
         "ibitinga",
         "SP",
         "301245.2700",
         1949,
         "[E | EXCELENTE(40.43%), O | OTIMO(38.89%), B | BOM(10.98%), G | GRAVE(3.03%), R | RUIM(2.41%), T | TOLERAVEL(2.05%), P | PESSIMO(1.69%), U | URGENTE(0.51%)]",
         "2024-04-14"
        ],
        [
         "1f50f920176fa81dab994f9023523100",
         "sao jose do rio preto",
         "SP",
         "290253.4200",
         1926,
         "[E | EXCELENTE(46.88%), O | OTIMO(32.5%), B | BOM(12.82%), R | RUIM(2.34%), T | TOLERAVEL(2.13%), P | PESSIMO(1.77%), G | GRAVE(1.25%), U | URGENTE(0.31%)]",
         "2024-04-14"
        ],
        [
         "53243585a1d6dc2643021fd1853d8905",
         "lauro de freitas",
         "BA",
         "284903.0800",
         400,
         "[E | EXCELENTE(46.5%), O | OTIMO(40.25%), B | BOM(10.25%), R | RUIM(1.25%), G | GRAVE(0.75%), T | TOLERAVEL(0.5%), P | PESSIMO(0.25%), U | URGENTE(0.25%)]",
         "2024-04-14"
        ],
        [
         "da8622b14eb17ae2831f4ac5b9dab84a",
         "piracicaba",
         "SP",
         "272219.3200",
         1548,
         "[E | EXCELENTE(47.93%), O | OTIMO(35.21%), B | BOM(10.47%), T | TOLERAVEL(2.07%), R | RUIM(1.74%), G | GRAVE(1.29%), P | PESSIMO(0.65%), U | URGENTE(0.65%)]",
         "2024-04-14"
        ],
        [
         "4869f7a5dfa277a7dca6462dcf3b52b2",
         "guariba",
         "SP",
         "264166.1200",
         1148,
         "[E | EXCELENTE(50.35%), O | OTIMO(28.66%), B | BOM(10.45%), R | RUIM(3.4%), G | GRAVE(2.35%), T | TOLERAVEL(2.35%), P | PESSIMO(2.26%), U | URGENTE(0.17%)]",
         "2024-04-14"
        ],
        [
         "955fee9216a65b617aa5c0531780ce60",
         "sao paulo",
         "SP",
         "236322.3000",
         1472,
         "[E | EXCELENTE(40.96%), O | OTIMO(39.61%), B | BOM(12.98%), R | RUIM(2.99%), T | TOLERAVEL(1.56%), G | GRAVE(1.29%), P | PESSIMO(0.41%), U | URGENTE(0.2%)]",
         "2024-04-14"
        ],
        [
         "fa1c13f2614d7b5c4749cbc52fecda94",
         "sumare",
         "SP",
         "206513.2300",
         579,
         "[E | EXCELENTE(43.87%), O | OTIMO(35.92%), B | BOM(11.05%), P | PESSIMO(2.59%), T | TOLERAVEL(2.25%), R | RUIM(2.07%), G | GRAVE(1.9%), U | URGENTE(0.35%)]",
         "2024-04-14"
        ],
        [
         "7e93a43ef30c4f03f38b393420bc753a",
         "barueri",
         "SP",
         "185134.2100",
         322,
         "[E | EXCELENTE(54.97%), O | OTIMO(34.16%), B | BOM(6.21%), R | RUIM(1.55%), T | TOLERAVEL(1.24%), G | GRAVE(0.93%), P | PESSIMO(0.62%), U | URGENTE(0.31%)]",
         "2024-04-14"
        ]
       ],
       "datasetInfos": [],
       "dbfsResultPath": null,
       "isJsonSchema": true,
       "metadata": {},
       "overflow": false,
       "plotOptions": {
        "customPlotOptions": {},
        "displayType": "table",
        "pivotAggregation": null,
        "pivotColumns": null,
        "xColumns": null,
        "yColumns": null
       },
       "removedWidgets": [],
       "schema": [
        {
         "metadata": "{}",
         "name": "id_vendedor",
         "type": "\"string\""
        },
        {
         "metadata": "{}",
         "name": "cidade",
         "type": "\"string\""
        },
        {
         "metadata": "{}",
         "name": "estado",
         "type": "\"string\""
        },
        {
         "metadata": "{}",
         "name": "total",
         "type": "\"decimal(20,4)\""
        },
        {
         "metadata": "{}",
         "name": "pedidos",
         "type": "\"integer\""
        },
        {
         "metadata": "{}",
         "name": "resumo_entregas",
         "type": "\"string\""
        },
        {
         "metadata": "{}",
         "name": "date_ref_carga",
         "type": "\"date\""
        }
       ],
       "type": "table"
      }
     },
     "output_type": "display_data"
    }
   ],
   "source": [
    "df_vendedores.limit(10).display()"
   ]
  },
  {
   "cell_type": "code",
   "execution_count": 0,
   "metadata": {
    "application/vnd.databricks.v1+cell": {
     "cellMetadata": {
      "byteLimit": 2048000,
      "implicitDf": true,
      "rowLimit": 10000
     },
     "inputWidgets": {},
     "nuid": "00271369-d8c6-4be7-858c-178d224b41eb",
     "showTitle": false,
     "title": ""
    }
   },
   "outputs": [
    {
     "output_type": "display_data",
     "data": {
      "text/html": [
       "<style scoped>\n",
       "  .table-result-container {\n",
       "    max-height: 300px;\n",
       "    overflow: auto;\n",
       "  }\n",
       "  table, th, td {\n",
       "    border: 1px solid black;\n",
       "    border-collapse: collapse;\n",
       "  }\n",
       "  th, td {\n",
       "    padding: 5px;\n",
       "  }\n",
       "  th {\n",
       "    text-align: left;\n",
       "  }\n",
       "</style><div class='table-result-container'><table class='table-result'><thead style='background-color: white'><tr></tr></thead><tbody></tbody></table></div>"
      ]
     },
     "metadata": {
      "application/vnd.databricks.v1+output": {
       "addedWidgets": {},
       "aggData": [],
       "aggError": "",
       "aggOverflow": false,
       "aggSchema": [],
       "aggSeriesLimitReached": false,
       "aggType": "",
       "arguments": {},
       "columnCustomDisplayInfos": {},
       "data": [],
       "datasetInfos": [],
       "dbfsResultPath": null,
       "isJsonSchema": true,
       "metadata": {
        "dataframeName": null
       },
       "overflow": false,
       "plotOptions": {
        "customPlotOptions": {},
        "displayType": "table",
        "pivotAggregation": null,
        "pivotColumns": null,
        "xColumns": null,
        "yColumns": null
       },
       "removedWidgets": [],
       "schema": [],
       "type": "table"
      }
     },
     "output_type": "display_data"
    }
   ],
   "source": [
    "%sql\n",
    "\n",
    "USE CATALOG datum;\n",
    "\n",
    "USE DATABASE gold"
   ]
  },
  {
   "cell_type": "code",
   "execution_count": 0,
   "metadata": {
    "application/vnd.databricks.v1+cell": {
     "cellMetadata": {
      "byteLimit": 2048000,
      "implicitDf": true,
      "rowLimit": 10000
     },
     "inputWidgets": {},
     "nuid": "fe5aba98-f496-4aaa-bc59-56016315bdba",
     "showTitle": false,
     "title": ""
    }
   },
   "outputs": [
    {
     "output_type": "display_data",
     "data": {
      "text/html": [
       "<style scoped>\n",
       "  .table-result-container {\n",
       "    max-height: 300px;\n",
       "    overflow: auto;\n",
       "  }\n",
       "  table, th, td {\n",
       "    border: 1px solid black;\n",
       "    border-collapse: collapse;\n",
       "  }\n",
       "  th, td {\n",
       "    padding: 5px;\n",
       "  }\n",
       "  th {\n",
       "    text-align: left;\n",
       "  }\n",
       "</style><div class='table-result-container'><table class='table-result'><thead style='background-color: white'><tr></tr></thead><tbody></tbody></table></div>"
      ]
     },
     "metadata": {
      "application/vnd.databricks.v1+output": {
       "addedWidgets": {},
       "aggData": [],
       "aggError": "",
       "aggOverflow": false,
       "aggSchema": [],
       "aggSeriesLimitReached": false,
       "aggType": "",
       "arguments": {},
       "columnCustomDisplayInfos": {},
       "data": [],
       "datasetInfos": [],
       "dbfsResultPath": null,
       "isJsonSchema": true,
       "metadata": {
        "dataframeName": null
       },
       "overflow": false,
       "plotOptions": {
        "customPlotOptions": {},
        "displayType": "table",
        "pivotAggregation": null,
        "pivotColumns": null,
        "xColumns": null,
        "yColumns": null
       },
       "removedWidgets": [],
       "schema": [],
       "type": "table"
      }
     },
     "output_type": "display_data"
    }
   ],
   "source": [
    "%sql\n",
    "\n",
    "CREATE TABLE IF NOT EXISTS olist_desempenho_vendedores\n",
    "(\n",
    " id_vendedor STRING NOT NULL,\n",
    " cidade STRING,\n",
    " estado STRING,\n",
    " total DECIMAL(20,4),\n",
    " pedidos INTEGER,\n",
    " resumo_entregas STRING,\n",
    " date_ref_carga DATE\n",
    ")\n",
    "USING DELTA\n",
    "LOCATION 'abfss://unity-datum@datumunity.dfs.core.windows.net/gold/olist_desempenho_vendedores'\n",
    "PARTITIONED BY(date_ref_carga)"
   ]
  },
  {
   "cell_type": "code",
   "execution_count": 0,
   "metadata": {
    "application/vnd.databricks.v1+cell": {
     "cellMetadata": {
      "byteLimit": 2048000,
      "rowLimit": 10000
     },
     "inputWidgets": {},
     "nuid": "7ddad76e-f89b-4c24-9d29-c1dc3e0ea63d",
     "showTitle": false,
     "title": ""
    }
   },
   "outputs": [],
   "source": [
    "if df_vendedores.count() != 0 or df_vendedores is not None:\n",
    "    df_vendedores.write.format('delta').mode('overwrite').save('abfss://unity-datum@datumunity.dfs.core.windows.net/gold/olist_desempenho_vendedores')\n",
    "del df_vendedores"
   ]
  }
 ],
 "metadata": {
  "application/vnd.databricks.v1+notebook": {
   "dashboards": [],
   "language": "python",
   "notebookMetadata": {
    "mostRecentlyExecutedCommandWithImplicitDF": {
     "commandId": 3810158002062930,
     "dataframes": [
      "_sqldf"
     ]
    },
    "pythonIndentUnit": 4
   },
   "notebookName": "VENDEDORES",
   "widgets": {}
  }
 },
 "nbformat": 4,
 "nbformat_minor": 0
}
