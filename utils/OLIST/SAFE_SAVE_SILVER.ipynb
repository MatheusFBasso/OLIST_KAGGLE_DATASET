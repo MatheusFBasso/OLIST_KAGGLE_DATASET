{
 "cells": [
  {
   "cell_type": "code",
   "execution_count": 0,
   "metadata": {
    "application/vnd.databricks.v1+cell": {
     "cellMetadata": {},
     "inputWidgets": {},
     "nuid": "69023c06-236a-4cfc-851c-7fa99787d927",
     "showTitle": false,
     "title": ""
    }
   },
   "outputs": [],
   "source": [
    "from pyspark.sql.dataframe import DataFrame as SparkDF\n",
    "from pyspark.sql.types import DateType\n",
    "from pyspark.sql.functions import lit\n",
    "from datetime import datetime\n",
    "import time"
   ]
  },
  {
   "cell_type": "code",
   "execution_count": 0,
   "metadata": {
    "application/vnd.databricks.v1+cell": {
     "cellMetadata": {},
     "inputWidgets": {},
     "nuid": "86b81a8a-59eb-41bf-92cb-7ba0ca0a865d",
     "showTitle": false,
     "title": ""
    }
   },
   "outputs": [],
   "source": [
    "class OlistSilverSave(Exception): pass\n",
    "\n",
    "def olist_silver_delta_saving(df: SparkDF, table_name: str=None, mode: str='overwrite', date_col: bool=True):\n",
    "    start_time = datetime.now()\n",
    "    location = f\"abfss://unity-datum@datumunity.dfs.core.windows.net/silver/{table_name}\"\n",
    "\n",
    "    if date_col:\n",
    "        df = df.withColumn('date_ref_carga', lit(datetime.now()).cast(DateType()))\n",
    "\n",
    "    if df.count() != 0 and df is not None:\n",
    "        df.write.format('delta').mode(mode).save(location)\n",
    "        del df\n",
    "        print(f'Sucesso para para a tabela \"datum.silver.{table_name}\"')\n",
    "\n",
    "    else:\n",
    "        raise OlistSilverSave(f'Erro ao salvar a tabela \"datum.silver.{table_name}\"!')\n",
    "\n",
    "    print(f\"Tempo de Execução: {time.strftime('%H:%M:%S', time.gmtime((datetime.now() - start_time).seconds))}\")"
   ]
  }
 ],
 "metadata": {
  "application/vnd.databricks.v1+notebook": {
   "dashboards": [],
   "language": "python",
   "notebookMetadata": {
    "pythonIndentUnit": 4
   },
   "notebookName": "SAFE_SAVE_SILVER",
   "widgets": {}
  }
 },
 "nbformat": 4,
 "nbformat_minor": 0
}
