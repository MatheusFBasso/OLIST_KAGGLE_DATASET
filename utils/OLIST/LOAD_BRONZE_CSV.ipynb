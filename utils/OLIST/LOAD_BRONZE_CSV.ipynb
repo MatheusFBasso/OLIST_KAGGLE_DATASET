{
 "cells": [
  {
   "cell_type": "code",
   "execution_count": 0,
   "metadata": {
    "application/vnd.databricks.v1+cell": {
     "cellMetadata": {},
     "inputWidgets": {},
     "nuid": "7c78430e-1143-4690-8cf6-8ae943fa1e8f",
     "showTitle": false,
     "title": ""
    }
   },
   "outputs": [],
   "source": [
    "from pyspark.sql.types import StructType"
   ]
  },
  {
   "cell_type": "code",
   "execution_count": 0,
   "metadata": {
    "application/vnd.databricks.v1+cell": {
     "cellMetadata": {},
     "inputWidgets": {},
     "nuid": "f2395164-1574-46de-aa27-754383581edc",
     "showTitle": false,
     "title": ""
    }
   },
   "outputs": [],
   "source": [
    "class NoFilesInDBFS(Exception): pass\n",
    "class TooManyFilesInDBFS(Exception): pass\n",
    "\n",
    "def return_df_from_bronze(key_word: str, schema: StructType, multiline: bool=False,\n",
    "                          path: str='dbfs/FileStore/Datum/KaggleOlistBrData/bronze'):\n",
    "    \n",
    "    df_file_path = [file.path for file in dbutils.fs.ls(path) if key_word.lower() in str(file.name).lower()]\n",
    "\n",
    "    if len(df_file_path) == 0:\n",
    "        # Caso não tenha nenhum arquivo para leitura retornará um erro\n",
    "        raise NoFilesInDBFS(f'Sem arquivo {key_word} no dir \"dbfs:/FileStore/Datum/KaggleOlistBrData/bronze/\"')\n",
    "\n",
    "    if len(df_file_path) == 1:\n",
    "        df_final = spark.read.csv(df_file_path[0], header=True, schema=schema, multiLine=multiline)\n",
    "\n",
    "    else:\n",
    "        # Se tivermos mais de um arquivo identificado para a tabela 'S_D_K_CUSTOMERS' não será processado e é necesária uma revisão\n",
    "        raise TooManyFilesInDBFS(f'Mais de um arquivo {key_word} no dir \"dbfs:/FileStore/Datum/KaggleOlistBrData/bronze/\"')\n",
    "\n",
    "    return df_final"
   ]
  }
 ],
 "metadata": {
  "application/vnd.databricks.v1+notebook": {
   "dashboards": [],
   "language": "python",
   "notebookMetadata": {
    "pythonIndentUnit": 4
   },
   "notebookName": "LOAD_BRONZE_CSV",
   "widgets": {}
  }
 },
 "nbformat": 4,
 "nbformat_minor": 0
}
