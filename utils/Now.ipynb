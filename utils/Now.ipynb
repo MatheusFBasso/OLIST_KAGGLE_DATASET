{
 "cells": [
  {
   "cell_type": "code",
   "execution_count": 0,
   "metadata": {
    "application/vnd.databricks.v1+cell": {
     "cellMetadata": {
      "byteLimit": 2048000,
      "rowLimit": 10000
     },
     "inputWidgets": {},
     "nuid": "61ab1c3c-3e47-4361-ade7-7efefc41a2bb",
     "showTitle": false,
     "title": ""
    }
   },
   "outputs": [],
   "source": [
    "from datetime import datetime\n",
    "import pytz\n",
    "\n",
    "class Now:\n",
    "\n",
    "    ####################################################################################################################\n",
    "    def __init__(self, show: bool = True):\n",
    "        self.__show = show\n",
    "\n",
    "    ####################################################################################################################\n",
    "    @staticmethod\n",
    "    def now(timezone='America/Sao_Paulo') -> str:\n",
    "        return datetime.now(pytz.timezone(timezone)).strftime('%Y-%m-%dT%H:%M:%S')\n",
    "\n",
    "    ####################################################################################################################\n",
    "    def log_message(self, message: str, start: bool = False, end: bool = False, sep: str = '-',\n",
    "                    line_length: int = 120, show: bool = True) -> None:\n",
    "\n",
    "        if show:\n",
    "            length_fill_line = line_length - len(message) - len(self.now()) - 5\n",
    "\n",
    "            if start:\n",
    "                print(f\"\"\"{sep * line_length}\"\"\")\n",
    "\n",
    "            print(f\"\"\"{self.now()} | {message} |{sep * length_fill_line if length_fill_line <= 120 else \"\"}\"\"\")\n",
    "\n",
    "            if end:\n",
    "                print(f\"\"\"{sep * line_length}\"\"\")"
   ]
  }
 ],
 "metadata": {
  "application/vnd.databricks.v1+notebook": {
   "dashboards": [],
   "language": "python",
   "notebookMetadata": {
    "pythonIndentUnit": 4
   },
   "notebookName": "Now",
   "widgets": {}
  }
 },
 "nbformat": 4,
 "nbformat_minor": 0
}
