{
 "cells": [
  {
   "cell_type": "markdown",
   "metadata": {
    "application/vnd.databricks.v1+cell": {
     "cellMetadata": {
      "byteLimit": 2048000,
      "rowLimit": 10000
     },
     "inputWidgets": {},
     "nuid": "f2282dc3-a347-4735-a472-c24a00f1a620",
     "showTitle": false,
     "title": ""
    }
   },
   "source": [
    "# 1. Imports"
   ]
  },
  {
   "cell_type": "code",
   "execution_count": 0,
   "metadata": {
    "application/vnd.databricks.v1+cell": {
     "cellMetadata": {
      "byteLimit": 2048000,
      "rowLimit": 10000
     },
     "inputWidgets": {},
     "nuid": "cf549a05-cc4b-4033-8c53-c3c6becd5c0f",
     "showTitle": false,
     "title": ""
    }
   },
   "outputs": [],
   "source": [
    "%run /Workspace/Users/matheusfelipebasso@hotmail.com/Datum/utils/olist/LOAD_BRONZE_CSV"
   ]
  },
  {
   "cell_type": "code",
   "execution_count": 0,
   "metadata": {
    "application/vnd.databricks.v1+cell": {
     "cellMetadata": {
      "byteLimit": 2048000,
      "rowLimit": 10000
     },
     "inputWidgets": {},
     "nuid": "0e3e6ab5-b7b8-47e8-a54e-831aabc16401",
     "showTitle": false,
     "title": ""
    }
   },
   "outputs": [],
   "source": [
    "%run /Workspace/Users/matheusfelipebasso@hotmail.com/Datum/utils/olist/SAFE_SAVE_SILVER"
   ]
  },
  {
   "cell_type": "code",
   "execution_count": 0,
   "metadata": {
    "application/vnd.databricks.v1+cell": {
     "cellMetadata": {
      "byteLimit": 2048000,
      "rowLimit": 10000
     },
     "inputWidgets": {},
     "nuid": "eafeb01d-1437-4aee-ac8e-4cba325b1557",
     "showTitle": false,
     "title": ""
    }
   },
   "outputs": [],
   "source": [
    "from pyspark.sql.types import StructType, StructField, StringType\n",
    "from pyspark.sql.functions import col, trim"
   ]
  },
  {
   "cell_type": "markdown",
   "metadata": {
    "application/vnd.databricks.v1+cell": {
     "cellMetadata": {
      "byteLimit": 2048000,
      "rowLimit": 10000
     },
     "inputWidgets": {},
     "nuid": "5c733b79-1d1b-49b8-9cec-de1aad0c0e97",
     "showTitle": false,
     "title": ""
    }
   },
   "source": [
    "---\n",
    "# 2. Leitura"
   ]
  },
  {
   "cell_type": "code",
   "execution_count": 0,
   "metadata": {
    "application/vnd.databricks.v1+cell": {
     "cellMetadata": {
      "byteLimit": 2048000,
      "rowLimit": 10000
     },
     "inputWidgets": {},
     "nuid": "dd26bfc1-8f91-4623-9cf0-a5a8fd3b9375",
     "showTitle": true,
     "title": "Schema"
    }
   },
   "outputs": [],
   "source": [
    "schema = StructType([\n",
    "    StructField('customer_id',              StringType(), False),\n",
    "    StructField('customer_unique_id',       StringType(), False),\n",
    "    StructField('customer_zip_code_prefix', StringType(), True),\n",
    "    StructField('customer_city',            StringType(), True),\n",
    "    StructField('customer_state',           StringType(), True),\n",
    "])"
   ]
  },
  {
   "cell_type": "markdown",
   "metadata": {
    "application/vnd.databricks.v1+cell": {
     "cellMetadata": {
      "byteLimit": 2048000,
      "rowLimit": 10000
     },
     "inputWidgets": {},
     "nuid": "489c9b7b-eee0-45d6-8e43-8a397fed9e3b",
     "showTitle": false,
     "title": ""
    }
   },
   "source": [
    "\n",
    "Como podemos ver acima o schema foi definido como `False` para as colunas `customer_id` e `customer_unique_id`, assim garantindo que o valor delas não está nulo por se tratarem de colunas chave para identificação e relação com as demais."
   ]
  },
  {
   "cell_type": "code",
   "execution_count": 0,
   "metadata": {
    "application/vnd.databricks.v1+cell": {
     "cellMetadata": {
      "byteLimit": 2048000,
      "rowLimit": 10000
     },
     "inputWidgets": {},
     "nuid": "fc141cb7-c230-4824-ac97-549070d29951",
     "showTitle": false,
     "title": ""
    }
   },
   "outputs": [],
   "source": [
    "df_customer = return_df_from_bronze(key_word='_customers_', schema=schema)"
   ]
  },
  {
   "cell_type": "code",
   "execution_count": 0,
   "metadata": {
    "application/vnd.databricks.v1+cell": {
     "cellMetadata": {
      "byteLimit": 2048000,
      "rowLimit": 10000
     },
     "inputWidgets": {},
     "nuid": "c90f80cd-141b-474b-a043-d545eb153b9e",
     "showTitle": false,
     "title": ""
    }
   },
   "outputs": [
    {
     "output_type": "display_data",
     "data": {
      "text/html": [
       "<style scoped>\n",
       "  .table-result-container {\n",
       "    max-height: 300px;\n",
       "    overflow: auto;\n",
       "  }\n",
       "  table, th, td {\n",
       "    border: 1px solid black;\n",
       "    border-collapse: collapse;\n",
       "  }\n",
       "  th, td {\n",
       "    padding: 5px;\n",
       "  }\n",
       "  th {\n",
       "    text-align: left;\n",
       "  }\n",
       "</style><div class='table-result-container'><table class='table-result'><thead style='background-color: white'><tr><th>customer_id</th><th>customer_unique_id</th><th>customer_zip_code_prefix</th><th>customer_city</th><th>customer_state</th></tr></thead><tbody><tr><td>06b8999e2fba1a1fbc88172c00ba8bc7</td><td>861eff4711a542e4b93843c6dd7febb0</td><td>14409</td><td>franca</td><td>SP</td></tr><tr><td>18955e83d337fd6b2def6b18a428ac77</td><td>290c77bc529b7ac935b93aa66c333dc3</td><td>09790</td><td>sao bernardo do campo</td><td>SP</td></tr><tr><td>4e7b3e00288586ebd08712fdd0374a03</td><td>060e732b5b29e8181a18229c7b0b2b5e</td><td>01151</td><td>sao paulo</td><td>SP</td></tr><tr><td>b2b6027bc5c5109e529d4dc6358b12c3</td><td>259dac757896d24d7702b9acbbff3f3c</td><td>08775</td><td>mogi das cruzes</td><td>SP</td></tr><tr><td>4f2d8ab171c80ec8364f7c12e35b23ad</td><td>345ecd01c38d18a9036ed96c73b8d066</td><td>13056</td><td>campinas</td><td>SP</td></tr><tr><td>879864dab9bc3047522c92c82e1212b8</td><td>4c93744516667ad3b8f1fb645a3116a4</td><td>89254</td><td>jaragua do sul</td><td>SC</td></tr><tr><td>fd826e7cf63160e536e0908c76c3f441</td><td>addec96d2e059c80c30fe6871d30d177</td><td>04534</td><td>sao paulo</td><td>SP</td></tr><tr><td>5e274e7a0c3809e14aba7ad5aae0d407</td><td>57b2a98a409812fe9618067b6b8ebe4f</td><td>35182</td><td>timoteo</td><td>MG</td></tr><tr><td>5adf08e34b2e993982a47070956c5c65</td><td>1175e95fb47ddff9de6b2b06188f7e0d</td><td>81560</td><td>curitiba</td><td>PR</td></tr><tr><td>4b7139f34592b3a31687243a302fa75b</td><td>9afe194fb833f79e300e37e580171f22</td><td>30575</td><td>belo horizonte</td><td>MG</td></tr></tbody></table></div>"
      ]
     },
     "metadata": {
      "application/vnd.databricks.v1+output": {
       "addedWidgets": {},
       "aggData": [],
       "aggError": "",
       "aggOverflow": false,
       "aggSchema": [],
       "aggSeriesLimitReached": false,
       "aggType": "",
       "arguments": {},
       "columnCustomDisplayInfos": {},
       "data": [
        [
         "06b8999e2fba1a1fbc88172c00ba8bc7",
         "861eff4711a542e4b93843c6dd7febb0",
         "14409",
         "franca",
         "SP"
        ],
        [
         "18955e83d337fd6b2def6b18a428ac77",
         "290c77bc529b7ac935b93aa66c333dc3",
         "09790",
         "sao bernardo do campo",
         "SP"
        ],
        [
         "4e7b3e00288586ebd08712fdd0374a03",
         "060e732b5b29e8181a18229c7b0b2b5e",
         "01151",
         "sao paulo",
         "SP"
        ],
        [
         "b2b6027bc5c5109e529d4dc6358b12c3",
         "259dac757896d24d7702b9acbbff3f3c",
         "08775",
         "mogi das cruzes",
         "SP"
        ],
        [
         "4f2d8ab171c80ec8364f7c12e35b23ad",
         "345ecd01c38d18a9036ed96c73b8d066",
         "13056",
         "campinas",
         "SP"
        ],
        [
         "879864dab9bc3047522c92c82e1212b8",
         "4c93744516667ad3b8f1fb645a3116a4",
         "89254",
         "jaragua do sul",
         "SC"
        ],
        [
         "fd826e7cf63160e536e0908c76c3f441",
         "addec96d2e059c80c30fe6871d30d177",
         "04534",
         "sao paulo",
         "SP"
        ],
        [
         "5e274e7a0c3809e14aba7ad5aae0d407",
         "57b2a98a409812fe9618067b6b8ebe4f",
         "35182",
         "timoteo",
         "MG"
        ],
        [
         "5adf08e34b2e993982a47070956c5c65",
         "1175e95fb47ddff9de6b2b06188f7e0d",
         "81560",
         "curitiba",
         "PR"
        ],
        [
         "4b7139f34592b3a31687243a302fa75b",
         "9afe194fb833f79e300e37e580171f22",
         "30575",
         "belo horizonte",
         "MG"
        ]
       ],
       "datasetInfos": [],
       "dbfsResultPath": null,
       "isJsonSchema": true,
       "metadata": {},
       "overflow": false,
       "plotOptions": {
        "customPlotOptions": {},
        "displayType": "table",
        "pivotAggregation": null,
        "pivotColumns": null,
        "xColumns": null,
        "yColumns": null
       },
       "removedWidgets": [],
       "schema": [
        {
         "metadata": "{}",
         "name": "customer_id",
         "type": "\"string\""
        },
        {
         "metadata": "{}",
         "name": "customer_unique_id",
         "type": "\"string\""
        },
        {
         "metadata": "{}",
         "name": "customer_zip_code_prefix",
         "type": "\"string\""
        },
        {
         "metadata": "{}",
         "name": "customer_city",
         "type": "\"string\""
        },
        {
         "metadata": "{}",
         "name": "customer_state",
         "type": "\"string\""
        }
       ],
       "type": "table"
      }
     },
     "output_type": "display_data"
    }
   ],
   "source": [
    "df_customer.limit(10).display()"
   ]
  },
  {
   "cell_type": "markdown",
   "metadata": {
    "application/vnd.databricks.v1+cell": {
     "cellMetadata": {
      "byteLimit": 2048000,
      "rowLimit": 10000
     },
     "inputWidgets": {},
     "nuid": "3011ad34-bf79-4f37-a694-c58d6d6495b1",
     "showTitle": false,
     "title": ""
    }
   },
   "source": [
    "---\n",
    "# 3. Análise colunas"
   ]
  },
  {
   "cell_type": "code",
   "execution_count": 0,
   "metadata": {
    "application/vnd.databricks.v1+cell": {
     "cellMetadata": {
      "byteLimit": 2048000,
      "rowLimit": 10000
     },
     "inputWidgets": {},
     "nuid": "e624dbd7-3c59-466f-b876-63691efd9cd2",
     "showTitle": false,
     "title": ""
    }
   },
   "outputs": [
    {
     "output_type": "stream",
     "name": "stdout",
     "output_type": "stream",
     "text": [
      "NULL: 0 | NOT NULL: 14994 | customer_zip_code_prefix\nNULL: 0 | NOT NULL: 4119 | customer_city\nNULL: 0 | NOT NULL: 27 | customer_state\n"
     ]
    }
   ],
   "source": [
    "for _col in [x for x in df_customer.columns if x not in ['customer_id', 'customer_unique_id']]:\n",
    "    _col_not_null = df_customer.select(_col).where(col(_col).isNotNull()).distinct().orderBy(_col, ascending=False).count()\n",
    "    _col_null = df_customer.select(_col).where((col(_col).isNull()) | (trim(col(_col)) == '')).distinct().orderBy(_col, ascending=False).count()\n",
    "    print(f\"NULL: {_col_null} | NOT NULL: {_col_not_null} | {_col}\")"
   ]
  },
  {
   "cell_type": "markdown",
   "metadata": {
    "application/vnd.databricks.v1+cell": {
     "cellMetadata": {
      "byteLimit": 2048000,
      "rowLimit": 10000
     },
     "inputWidgets": {},
     "nuid": "926df5ee-15eb-47a6-aefb-129853ff9519",
     "showTitle": false,
     "title": ""
    }
   },
   "source": [
    "---\n",
    "# 4. Delta Lake\n",
    "\n",
    "Utilizando `format(\"delta\")` para aproveitar as vantagens da estrutura."
   ]
  },
  {
   "cell_type": "code",
   "execution_count": 0,
   "metadata": {
    "application/vnd.databricks.v1+cell": {
     "cellMetadata": {
      "byteLimit": 2048000,
      "rowLimit": 10000
     },
     "inputWidgets": {},
     "nuid": "4cb684a8-3fb3-471f-8ef5-c6f2acc7e989",
     "showTitle": false,
     "title": ""
    }
   },
   "outputs": [
    {
     "output_type": "stream",
     "name": "stdout",
     "output_type": "stream",
     "text": [
      "Sucesso para para a tabela \"datum.silver.olist_customers\"\nTempo de Execução: 00:00:06\n"
     ]
    }
   ],
   "source": [
    "olist_silver_delta_saving(df=df_customer, table_name='olist_customers')"
   ]
  },
  {
   "cell_type": "code",
   "execution_count": 0,
   "metadata": {
    "application/vnd.databricks.v1+cell": {
     "cellMetadata": {
      "byteLimit": 2048000,
      "rowLimit": 10000
     },
     "inputWidgets": {},
     "nuid": "e89bdf46-2cb0-4c46-9d41-66c05ae30963",
     "showTitle": false,
     "title": ""
    }
   },
   "outputs": [],
   "source": [
    "del df_customer"
   ]
  }
 ],
 "metadata": {
  "application/vnd.databricks.v1+notebook": {
   "dashboards": [],
   "language": "python",
   "notebookMetadata": {
    "mostRecentlyExecutedCommandWithImplicitDF": {
     "commandId": 60677376633308,
     "dataframes": [
      "_sqldf"
     ]
    },
    "pythonIndentUnit": 4
   },
   "notebookName": "DATUM_S_K_CUSTOMER",
   "widgets": {}
  }
 },
 "nbformat": 4,
 "nbformat_minor": 0
}
