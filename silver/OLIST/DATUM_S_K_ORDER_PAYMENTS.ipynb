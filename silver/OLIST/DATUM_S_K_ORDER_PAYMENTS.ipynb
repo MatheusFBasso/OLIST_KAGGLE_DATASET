{
 "cells": [
  {
   "cell_type": "markdown",
   "metadata": {
    "application/vnd.databricks.v1+cell": {
     "cellMetadata": {
      "byteLimit": 2048000,
      "rowLimit": 10000
     },
     "inputWidgets": {},
     "nuid": "f2282dc3-a347-4735-a472-c24a00f1a620",
     "showTitle": false,
     "title": ""
    }
   },
   "source": [
    "# 1. Imports"
   ]
  },
  {
   "cell_type": "code",
   "execution_count": 0,
   "metadata": {
    "application/vnd.databricks.v1+cell": {
     "cellMetadata": {
      "byteLimit": 2048000,
      "rowLimit": 10000
     },
     "inputWidgets": {},
     "nuid": "90e67897-a449-4bd2-82a4-db498b90bb5c",
     "showTitle": false,
     "title": ""
    }
   },
   "outputs": [],
   "source": [
    "%run /Workspace/Users/matheusfelipebasso@hotmail.com/Datum/utils/olist/LOAD_BRONZE_CSV"
   ]
  },
  {
   "cell_type": "code",
   "execution_count": 0,
   "metadata": {
    "application/vnd.databricks.v1+cell": {
     "cellMetadata": {
      "byteLimit": 2048000,
      "rowLimit": 10000
     },
     "inputWidgets": {},
     "nuid": "eb22a4f8-c44a-46b9-972d-b6f8addc8642",
     "showTitle": false,
     "title": ""
    }
   },
   "outputs": [],
   "source": [
    "%run /Workspace/Users/matheusfelipebasso@hotmail.com/Datum/utils/olist/SAFE_SAVE_SILVER"
   ]
  },
  {
   "cell_type": "code",
   "execution_count": 0,
   "metadata": {
    "application/vnd.databricks.v1+cell": {
     "cellMetadata": {
      "byteLimit": 2048000,
      "rowLimit": 10000
     },
     "inputWidgets": {},
     "nuid": "eafeb01d-1437-4aee-ac8e-4cba325b1557",
     "showTitle": false,
     "title": ""
    }
   },
   "outputs": [],
   "source": [
    "from pyspark.sql.types import StructType, StructField, StringType, IntegerType, DecimalType"
   ]
  },
  {
   "cell_type": "markdown",
   "metadata": {
    "application/vnd.databricks.v1+cell": {
     "cellMetadata": {
      "byteLimit": 2048000,
      "rowLimit": 10000
     },
     "inputWidgets": {},
     "nuid": "5c733b79-1d1b-49b8-9cec-de1aad0c0e97",
     "showTitle": false,
     "title": ""
    }
   },
   "source": [
    "---\n",
    "# 2. Leitura"
   ]
  },
  {
   "cell_type": "code",
   "execution_count": 0,
   "metadata": {
    "application/vnd.databricks.v1+cell": {
     "cellMetadata": {
      "byteLimit": 2048000,
      "rowLimit": 10000
     },
     "inputWidgets": {},
     "nuid": "dd26bfc1-8f91-4623-9cf0-a5a8fd3b9375",
     "showTitle": true,
     "title": "Schema"
    }
   },
   "outputs": [],
   "source": [
    "schema = StructType([\n",
    "    StructField('order_id',                 StringType(),      False),\n",
    "    StructField('payment_sequential',       IntegerType(),     True),\n",
    "    StructField('payment_type',             StringType(),      True),\n",
    "    StructField('payment_installments',     IntegerType(),     True),\n",
    "    StructField('payment_value',            DecimalType(10,4), True),\n",
    "])"
   ]
  },
  {
   "cell_type": "markdown",
   "metadata": {
    "application/vnd.databricks.v1+cell": {
     "cellMetadata": {
      "byteLimit": 2048000,
      "rowLimit": 10000
     },
     "inputWidgets": {},
     "nuid": "489c9b7b-eee0-45d6-8e43-8a397fed9e3b",
     "showTitle": false,
     "title": ""
    }
   },
   "source": [
    "\n",
    "Como podemos ver acima o schema foi definido como `False` para a coluna `order_id` , assim garantindo que o valor delas não está nulo por se tratarem de colunas chave para identificação e relação com as demais."
   ]
  },
  {
   "cell_type": "code",
   "execution_count": 0,
   "metadata": {
    "application/vnd.databricks.v1+cell": {
     "cellMetadata": {
      "byteLimit": 2048000,
      "rowLimit": 10000
     },
     "inputWidgets": {},
     "nuid": "8bb8a59f-d7bc-4b7c-90c4-86abcf2b66bd",
     "showTitle": false,
     "title": ""
    }
   },
   "outputs": [],
   "source": [
    "df_payments = return_df_from_bronze(key_word='_payments_', schema=schema)"
   ]
  },
  {
   "cell_type": "markdown",
   "metadata": {
    "application/vnd.databricks.v1+cell": {
     "cellMetadata": {
      "byteLimit": 2048000,
      "rowLimit": 10000
     },
     "inputWidgets": {},
     "nuid": "926df5ee-15eb-47a6-aefb-129853ff9519",
     "showTitle": false,
     "title": ""
    }
   },
   "source": [
    "---\n",
    "# 3. Delta Lake\n",
    "\n",
    "Utilizando `format(\"delta\")` para aproveitar as vantagens da estrutura."
   ]
  },
  {
   "cell_type": "code",
   "execution_count": 0,
   "metadata": {
    "application/vnd.databricks.v1+cell": {
     "cellMetadata": {
      "byteLimit": 2048000,
      "rowLimit": 10000
     },
     "inputWidgets": {},
     "nuid": "736ccb37-ed8c-4146-a55f-6418971f9303",
     "showTitle": false,
     "title": ""
    }
   },
   "outputs": [
    {
     "output_type": "stream",
     "name": "stdout",
     "output_type": "stream",
     "text": [
      "Sucesso para para a tabela \"datum.silver.olist_payments\"\nTempo de Execução: 00:00:05\n"
     ]
    }
   ],
   "source": [
    "olist_silver_delta_saving(df=df_payments, table_name='olist_payments')"
   ]
  },
  {
   "cell_type": "code",
   "execution_count": 0,
   "metadata": {
    "application/vnd.databricks.v1+cell": {
     "cellMetadata": {
      "byteLimit": 2048000,
      "rowLimit": 10000
     },
     "inputWidgets": {},
     "nuid": "03e07bb1-961b-4f0e-8f55-74440bcccedb",
     "showTitle": false,
     "title": ""
    }
   },
   "outputs": [],
   "source": [
    "del df_payments"
   ]
  }
 ],
 "metadata": {
  "application/vnd.databricks.v1+notebook": {
   "dashboards": [],
   "language": "python",
   "notebookMetadata": {
    "mostRecentlyExecutedCommandWithImplicitDF": {
     "commandId": 1068572253237286,
     "dataframes": [
      "_sqldf"
     ]
    },
    "pythonIndentUnit": 4
   },
   "notebookName": "DATUM_S_K_ORDER_PAYMENTS",
   "widgets": {}
  }
 },
 "nbformat": 4,
 "nbformat_minor": 0
}
