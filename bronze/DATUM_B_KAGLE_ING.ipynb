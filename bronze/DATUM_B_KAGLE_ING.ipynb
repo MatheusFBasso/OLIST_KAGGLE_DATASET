{
 "cells": [
  {
   "cell_type": "markdown",
   "metadata": {
    "application/vnd.databricks.v1+cell": {
     "cellMetadata": {
      "byteLimit": 2048000,
      "rowLimit": 10000
     },
     "inputWidgets": {},
     "nuid": "1bfcfcc0-38af-42fc-a1fb-cb820d0f689b",
     "showTitle": false,
     "title": ""
    }
   },
   "source": [
    "# 1. Bibliotecas"
   ]
  },
  {
   "cell_type": "code",
   "execution_count": 0,
   "metadata": {
    "application/vnd.databricks.v1+cell": {
     "cellMetadata": {
      "byteLimit": 2048000,
      "rowLimit": 10000
     },
     "inputWidgets": {},
     "nuid": "a89877b3-f586-4d84-86ad-e31c5f5ab744",
     "showTitle": false,
     "title": ""
    }
   },
   "outputs": [],
   "source": [
    "%run /Workspace/Users/matheusfelipebasso@hotmail.com/Datum/utils/Now"
   ]
  },
  {
   "cell_type": "code",
   "execution_count": 0,
   "metadata": {
    "application/vnd.databricks.v1+cell": {
     "cellMetadata": {
      "byteLimit": 2048000,
      "rowLimit": 10000
     },
     "inputWidgets": {},
     "nuid": "93fa50e9-c98a-4c14-b517-156afc4a89dd",
     "showTitle": false,
     "title": ""
    }
   },
   "outputs": [],
   "source": [
    "import os\n",
    "import time\n",
    "import tempfile"
   ]
  },
  {
   "cell_type": "markdown",
   "metadata": {
    "application/vnd.databricks.v1+cell": {
     "cellMetadata": {
      "byteLimit": 2048000,
      "rowLimit": 10000
     },
     "inputWidgets": {},
     "nuid": "b58bf521-2139-495e-9b4c-1e285bb03786",
     "showTitle": false,
     "title": ""
    }
   },
   "source": [
    "---\n",
    "# 2. Classe"
   ]
  },
  {
   "cell_type": "code",
   "execution_count": 0,
   "metadata": {
    "application/vnd.databricks.v1+cell": {
     "cellMetadata": {
      "byteLimit": 2048000,
      "rowLimit": 10000
     },
     "inputWidgets": {},
     "nuid": "f368221c-4d50-405b-aaa8-2682c109bc8a",
     "showTitle": false,
     "title": ""
    }
   },
   "outputs": [],
   "source": [
    "class GetKaggleData(Now):\n",
    "\n",
    "    _SHOW_LOG = True\n",
    "    _START_TIME = datetime.now()\n",
    "\n",
    "    # ######################################################################################################################\n",
    "    def __init__(self, username: str = 'DatumKaggleUsername', \n",
    "                 key: str = 'DatumKaggleKey', \n",
    "                 dataset: str = 'olistbr/brazilian-ecommerce'):\n",
    "        \n",
    "        # ------------------------------------------------------------------------------------------------------------------\n",
    "        print(f\"=\".center(120, \"=\"))\n",
    "        print(f\"{' '*20} ___   _ _____ _   _ __  __   _  __  _   ___  ___ _    ___   ___   _ _____ _   \")\n",
    "        print(f\"{' '*20}|   \\\\ /_|_   _| | | |  \\\\/  | | |/ / /_\\\\ / __|/ __| |  | __| |   \\\\ /_|_   _/_\\\\  \")\n",
    "        print(f\"{' '*20}| |) / _ \\\\| | | |_| | |\\\\/| | | ' < / _ | (_ | (_ | |__| _|  | |) / _ \\\\| |/ _ \\\\ \")\n",
    "        print(f\"{' '*20}|___/_/ \\\\_|_|  \\\\___/|_|  |_| |_|\\\\_/_/ \\\\_\\\\___|\\\\___|____|___| |___/_/ \\\\_|_/_/ \\\\_\\\\     version 0.0.2\")\n",
    "        print(f\"=\".center(120, '='))\n",
    "        print('\\n')\n",
    "        # ------------------------------------------------------------------------------------------------------------------\n",
    "        self._user = dbutils.secrets.get(scope='Datum', key=username)\n",
    "        os.environ['KAGGLE_USERNAME'] = self._user\n",
    "        # ------------------------------------------------------------------------------------------------------------------\n",
    "        self._key = dbutils.secrets.get(scope='Datum', key=key)\n",
    "        os.environ['KAGGLE_KEY'] = self._key\n",
    "        # ------------------------------------------------------------------------------------------------------------------\n",
    "        self._api = self._set_api()\n",
    "        self._dataset = self._validate_dataset(dataset)\n",
    "        # ------------------------------------------------------------------------------------------------------------------\n",
    "        print(f' Verificacao de Parâmetros Informados '.center(120,'='))\n",
    "        print(f'OK | Username: {username}')\n",
    "        print(f'OK | Key: {key}')\n",
    "        print(f'OK | Dataset: {dataset}')\n",
    "        print(f'OK | API')\n",
    "        print(f'='.center(120,'='))\n",
    "    \n",
    "    # ######################################################################################################################\n",
    "    def _set_api(self):\n",
    "\n",
    "        from kaggle.api.kaggle_api_extended import KaggleApi\n",
    "\n",
    "        self.log_message(show=self._SHOW_LOG, message='Autenticando API', start=True)\n",
    "\n",
    "        k_api = KaggleApi()\n",
    "        k_api.authenticate()\n",
    "\n",
    "        self.log_message(show=self._SHOW_LOG, message='Autenticando API | OK', end=True)\n",
    "\n",
    "        return k_api\n",
    "    \n",
    "    # ######################################################################################################################\n",
    "    def _validate_dataset(self, dataset):\n",
    "\n",
    "        # ------------------------------------------------------------------------------------------------------------------\n",
    "        self.log_message(show=self._SHOW_LOG, message=f'Autenticando Dataset | {dataset}', start=True)\n",
    "\n",
    "        k_data_sets = self._api.dataset_list(search=dataset)\n",
    "        for k_dataset in k_data_sets:\n",
    "            if k_dataset.ref == dataset:\n",
    "                self.log_message(show=self._SHOW_LOG, message=f'Autenticando Dataset | {dataset} | OK', end=True)\n",
    "                return k_dataset\n",
    "        \n",
    "        raise ValueError(f'Dataset \"{dataset}\" não localizado!')\n",
    "\n",
    "    # ######################################################################################################################\n",
    "    @staticmethod\n",
    "    def _check_dirs(dbfs_location: str, auto_create_dir: bool) -> None:\n",
    "\n",
    "        # ------------------------------------------------------------------------------------------------------------------\n",
    "        _bronze_dir = dbfs_location.split('/')\n",
    "        if 'dbfs' in _bronze_dir[0]:\n",
    "            _bronze_dir = \"/\".join(['/dbfs'] + _bronze_dir[1:])\n",
    "        else:\n",
    "            raise ValueError(f'dbfs não localizado no dir {dbfs_location}.')\n",
    "        # ------------------------------------------------------------------------------------------------------------------        \n",
    "        _bronze_dir_old_files = _bronze_dir.split('/')\n",
    "        if 'bronze' in str(_bronze_dir_old_files[-1]).lower():\n",
    "            _bronze_dir_old_files = '/'.join(\n",
    "                _bronze_dir_old_files[1:-2] + [_bronze_dir_old_files[-2] + 'OldFiles'] + [_bronze_dir_old_files[-1]])\n",
    "        else:\n",
    "            raise ValueError(f'bronze não localizado ao final do dir {dbfs_location}')\n",
    "        # ------------------------------------------------------------------------------------------------------------------        \n",
    "        for k_d_dir in [_bronze_dir, _bronze_dir_old_files]:\n",
    "            try:\n",
    "                dbutils.fs.ls(k_d_dir)\n",
    "                print(f'OK | DIR: \"{k_d_dir}\"')\n",
    "            except Exception as e:\n",
    "                if 'FileNotFoundException' in str(e):\n",
    "                    \n",
    "                    if auto_create_dir:\n",
    "                        print('Dir não localizado, criando automaticamente.')\n",
    "                        if dbutils.fs.mkdirs(k_d_dir):\n",
    "                            print(f'Dir {k_d_dir} criado com sucesso!')\n",
    "                        else:\n",
    "                            raise ValueError(f'Erro ao criar o dir {k_d_dir}')\n",
    "                    else:\n",
    "                        raise ValueError('Dir não localizado, sem autorização para criação automática.')\n",
    "                else:\n",
    "                    raise e\n",
    "        # ------------------------------------------------------------------------------------------------------------------\n",
    "\n",
    "        return _bronze_dir, _bronze_dir_old_files\n",
    "    \n",
    "    # ######################################################################################################################\n",
    "    def _download_dataset(self, dbfs_path: str) -> bool:\n",
    "\n",
    "        with tempfile.TemporaryDirectory() as tempdir:\n",
    "            self._api.dataset_download_files(str(self._dataset), path=tempdir, unzip=True)\n",
    "\n",
    "            files = os.listdir(tempdir)\n",
    "\n",
    "            n_files = len(files)\n",
    "            for n, file in enumerate(files):\n",
    "                tempdir_file = os.path.join(tempdir, file)\n",
    "                dbfs_dir_file = os.path.join(dbfs_path, file)\n",
    "                dbutils.fs.cp(f\"file:{tempdir_file}\",dbfs_dir_file)\n",
    "                print(f\"{n+1} | Arquivo {file} salvo | {dbfs_dir_file} | OK\")\n",
    "\n",
    "            return n_files\n",
    "\n",
    "    # ######################################################################################################################\n",
    "    def run(self, dbfs_location: str = 'dbfs:/FileStore/Datum/KaggleOlistBrData/bronze', auto_create_dir: bool = True):\n",
    "\n",
    "        print('\\n')\n",
    "        self.log_message(show=self._SHOW_LOG, message=f'Início Execução', start=True, sep='=')\n",
    "        print(f'{\"=\"*120}\\n')\n",
    "        \n",
    "        # ------------------------------------------------------------------------------------------------------------------\n",
    "        self.log_message(show=self._SHOW_LOG, message=f'Verificando dirs', start=True)\n",
    "        b_dir, b_old_dir = self._check_dirs(dbfs_location=dbfs_location, auto_create_dir=auto_create_dir)\n",
    "        self.log_message(show=self._SHOW_LOG, message=f'Verificando dirs | OK', end=True)\n",
    "        # ------------------------------------------------------------------------------------------------------------------\n",
    "\n",
    "        self.log_message(show=self._SHOW_LOG, message=f'Verificando arquivos', start=True)\n",
    "\n",
    "        n_files = len(dbutils.fs.ls(b_dir))\n",
    "        _return = True\n",
    "\n",
    "        if n_files == 0:\n",
    "            self.log_message(show=self._SHOW_LOG, message=f'Verificando arquivos | NOT OK | Sem dados')\n",
    "            n_files = self._download_dataset(dbfs_path=b_dir)\n",
    "            self.log_message(show=self._SHOW_LOG, message=f'Verificando arquivos | OK', end=True)\n",
    "\n",
    "        else:\n",
    "            self.log_message(show=self._SHOW_LOG, message=f'Verificando última atualização')\n",
    "            date_last_updated = max([datetime.fromtimestamp(file.modificationTime/1000) for file in dbutils.fs.ls('/dbfs/FileStore/Datum/KaggleOlistBrData/bronze/')])\n",
    "            if self._dataset.lastUpdated > date_last_updated:\n",
    "                self.log_message(show=self._SHOW_LOG, message=f'Novos registros')\n",
    "                n_files = self._download_dataset(dbfs_path=b_dir)\n",
    "                self.log_message(show=self._SHOW_LOG, message=f'Novos registros | OK')\n",
    "            else:\n",
    "                self.log_message(show=self._SHOW_LOG, message=f'Verificando última atualização | OK')\n",
    "                self.log_message(show=self._SHOW_LOG, message=f'Verificando arquivos | OK', end=True)\n",
    "                _return = False\n",
    "\n",
    "        print(f'\\n{\"=\"*120}')\n",
    "        self.log_message(show=self._SHOW_LOG, message=f'Final Execução', end=True, sep='=')\n",
    "\n",
    "        print('\\n')\n",
    "        print(\": Report :\".center(120, '.'))\n",
    "        print(f\"Tempo de Execução: {time.strftime('%H:%M:%S', time.gmtime((datetime.now() - self._START_TIME).seconds))}\")\n",
    "        print(f\"Arquivos Disponíveis na Bronze: {n_files}\")\n",
    "        print('.'*120)\n",
    "\n",
    "        return _return\n"
   ]
  },
  {
   "cell_type": "code",
   "execution_count": 0,
   "metadata": {
    "application/vnd.databricks.v1+cell": {
     "cellMetadata": {
      "byteLimit": 2048000,
      "rowLimit": 10000
     },
     "inputWidgets": {},
     "nuid": "6649856f-e8b7-49b9-b815-ec9b940905ba",
     "showTitle": false,
     "title": ""
    }
   },
   "outputs": [
    {
     "output_type": "stream",
     "name": "stdout",
     "output_type": "stream",
     "text": [
      "========================================================================================================================\n                     ___   _ _____ _   _ __  __   _  __  _   ___  ___ _    ___   ___   _ _____ _   \n                    |   \\ /_|_   _| | | |  \\/  | | |/ / /_\\ / __|/ __| |  | __| |   \\ /_|_   _/_\\  \n                    | |) / _ \\| | | |_| | |\\/| | | ' < / _ | (_ | (_ | |__| _|  | |) / _ \\| |/ _ \\ \n                    |___/_/ \\_|_|  \\___/|_|  |_| |_|\\_/_/ \\_\\___|\\___|____|___| |___/_/ \\_|_/_/ \\_\\     version 0.0.2\n========================================================================================================================\n\n\n------------------------------------------------------------------------------------------------------------------------\n2024-04-14T17:31:34 | Autenticando API |--------------------------------------------------------------------------------\n2024-04-14T17:31:34 | Autenticando API | OK |---------------------------------------------------------------------------\n------------------------------------------------------------------------------------------------------------------------\n------------------------------------------------------------------------------------------------------------------------\n2024-04-14T17:31:34 | Autenticando Dataset | olistbr/brazilian-ecommerce |----------------------------------------------\n2024-04-14T17:31:34 | Autenticando Dataset | olistbr/brazilian-ecommerce | OK |-----------------------------------------\n------------------------------------------------------------------------------------------------------------------------\n========================================= Verificacao de Parâmetros Informados =========================================\nOK | Username: DatumKaggleUsername\nOK | Key: DatumKaggleKey\nOK | Dataset: olistbr/brazilian-ecommerce\nOK | API\n========================================================================================================================\n\n\n========================================================================================================================\n2024-04-14T17:31:34 | Início Execução |=================================================================================\n========================================================================================================================\n\n------------------------------------------------------------------------------------------------------------------------\n2024-04-14T17:31:34 | Verificando dirs |--------------------------------------------------------------------------------\nOK | DIR: \"/dbfs/FileStore/Datum/KaggleOlistBrData/bronze\"\nOK | DIR: \"dbfs/FileStore/Datum/KaggleOlistBrDataOldFiles/bronze\"\n2024-04-14T17:31:34 | Verificando dirs | OK |---------------------------------------------------------------------------\n------------------------------------------------------------------------------------------------------------------------\n------------------------------------------------------------------------------------------------------------------------\n2024-04-14T17:31:34 | Verificando arquivos |----------------------------------------------------------------------------\n2024-04-14T17:31:34 | Verificando última atualização |------------------------------------------------------------------\n2024-04-14T17:31:34 | Verificando última atualização | OK |-------------------------------------------------------------\n2024-04-14T17:31:34 | Verificando arquivos | OK |-----------------------------------------------------------------------\n------------------------------------------------------------------------------------------------------------------------\n\n========================================================================================================================\n2024-04-14T17:31:34 | Final Execução |==================================================================================\n========================================================================================================================\n\n\n.......................................................: Report :.......................................................\nTempo de Execução: 00:00:21\nArquivos Disponíveis na Bronze: 9\n........................................................................................................................\n"
     ]
    }
   ],
   "source": [
    "val_return = GetKaggleData().run()"
   ]
  },
  {
   "cell_type": "code",
   "execution_count": 0,
   "metadata": {
    "application/vnd.databricks.v1+cell": {
     "cellMetadata": {
      "byteLimit": 2048000,
      "rowLimit": 10000
     },
     "inputWidgets": {},
     "nuid": "f3880b11-807e-4b52-8ecc-3e904e358f14",
     "showTitle": false,
     "title": ""
    }
   },
   "outputs": [],
   "source": [
    "if not val_return:\n",
    "    dbutils.notebook.exit(\"Não há dados novos\")"
   ]
  }
 ],
 "metadata": {
  "application/vnd.databricks.v1+notebook": {
   "dashboards": [],
   "language": "python",
   "notebookMetadata": {
    "pythonIndentUnit": 4
   },
   "notebookName": "DATUM_B_KAGLE_ING",
   "widgets": {}
  }
 },
 "nbformat": 4,
 "nbformat_minor": 0
}
